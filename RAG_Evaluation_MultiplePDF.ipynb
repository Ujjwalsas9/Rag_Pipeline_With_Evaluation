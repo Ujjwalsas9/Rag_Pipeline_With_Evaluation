{
 "cells": [
  {
   "cell_type": "markdown",
   "metadata": {
    "application/vnd.databricks.v1+cell": {
     "cellMetadata": {
      "byteLimit": 2048000,
      "rowLimit": 10000
     },
     "inputWidgets": {},
     "nuid": "14187ec4-0358-4ddb-8e66-8f4ee5416683",
     "showTitle": false,
     "tableResultSettingsMap": {},
     "title": ""
    },
    "jp-MarkdownHeadingCollapsed": true
   },
   "source": [
    "### **Problem Statement**\n",
    "\n",
    "In this course, we are going to build and evaluate an **advanced multi-PDF Retrieval-Augmented Generation (RAG) system** specifically designed for the **healthcare domain**.\n",
    "\n",
    "We used multiple research papers, including:\n",
    "\n",
    "- **_“Health Care System in India : An Overview”_**  \n",
    "- **_“Digital Transformation in Healthcare Industry: A Survey”_**\n",
    "\n",
    "We applied key RAG techniques such as:\n",
    "\n",
    "- **Chunking**\n",
    "- **Embedding**\n",
    "- **Multi-document retrieval**\n",
    "- **Context-based response generation**\n",
    "\n",
    "Now, we are focusing on evaluating our system’s performance. Using **DeepEval**, we assess:\n",
    "\n",
    "-  **Retrieval relevance and precision**  \n",
    "-  **Answer accuracy and relevancy**  \n",
    "-  **Hallucination detection and faithfulness**\n",
    "\n",
    "This comprehensive process—from multi-PDF ingestion to evaluation—helps us build **reliable and trustworthy AI systems** in healthcare. These systems must support **clinical decision-making** where **safety, accuracy, and contextual grounding** are critical.\n",
    "\n",
    "Our goal is to ensure the RAG system works effectively in real-world scenarios involving **MIoT** and **ICE platforms** by delivering **accurate, safe, and context-aware responses**.\n",
    "\n"
   ]
  },
  {
   "cell_type": "markdown",
   "metadata": {
    "application/vnd.databricks.v1+cell": {
     "cellMetadata": {
      "byteLimit": 2048000,
      "rowLimit": 10000
     },
     "inputWidgets": {},
     "nuid": "ab0f1fe6-87b1-4ee9-bbfe-9c50eb7c312c",
     "showTitle": false,
     "tableResultSettingsMap": {},
     "title": ""
    }
   },
   "source": [
    "### DeepEval Usage Disclaimer\n",
    "\n",
    "Before using **DeepEval**, please be aware of the following:\n",
    "\n",
    "- **Telemetry**: Basic usage data (e.g., number of tests, metrics used) may be collected.  \n",
    "   _No personal data is shared._\n",
    "\n",
    "- **To disable telemetry**:  \n",
    "  Export the following in your environment:  \n",
    "  `DEEPEVAL_TELEMETRY_OPT_OUT=\"YES\"`\n",
    "              or \n",
    "  `os.environ[\"DEEPEVAL_TELEMETRY_OPT_OUT\"] = \"YES\"`\n",
    "\n",
    "- **Cache Files**:  \n",
    "  DeepEval creates local cache files like `.deep-eval-cache` in the working directory.  \n",
    "   \n",
    "\n"
   ]
  },
  {
   "cell_type": "code",
   "execution_count": 6,
   "metadata": {},
   "outputs": [
    {
     "name": "stdout",
     "output_type": "stream",
     "text": [
      "Requirement already satisfied: openai in /Users/ujjanand2/Desktop/Python_Practice/genai/Assignment/.venv/lib/python3.13/site-packages (1.82.1)\n",
      "Requirement already satisfied: dotenv in /Users/ujjanand2/Desktop/Python_Practice/genai/Assignment/.venv/lib/python3.13/site-packages (0.9.9)\n",
      "Collecting langchain\n",
      "  Using cached langchain-0.3.25-py3-none-any.whl.metadata (7.8 kB)\n",
      "Collecting langchain_openai\n",
      "  Using cached langchain_openai-0.3.18-py3-none-any.whl.metadata (2.3 kB)\n",
      "Collecting langchain_community\n",
      "  Using cached langchain_community-0.3.24-py3-none-any.whl.metadata (2.5 kB)\n",
      "Collecting deepeval\n",
      "  Using cached deepeval-3.0.2-py3-none-any.whl.metadata (16 kB)\n",
      "Requirement already satisfied: anyio<5,>=3.5.0 in /Users/ujjanand2/Desktop/Python_Practice/genai/Assignment/.venv/lib/python3.13/site-packages (from openai) (4.9.0)\n",
      "Requirement already satisfied: distro<2,>=1.7.0 in /Users/ujjanand2/Desktop/Python_Practice/genai/Assignment/.venv/lib/python3.13/site-packages (from openai) (1.9.0)\n",
      "Requirement already satisfied: httpx<1,>=0.23.0 in /Users/ujjanand2/Desktop/Python_Practice/genai/Assignment/.venv/lib/python3.13/site-packages (from openai) (0.28.1)\n",
      "Requirement already satisfied: jiter<1,>=0.4.0 in /Users/ujjanand2/Desktop/Python_Practice/genai/Assignment/.venv/lib/python3.13/site-packages (from openai) (0.10.0)\n",
      "Requirement already satisfied: pydantic<3,>=1.9.0 in /Users/ujjanand2/Desktop/Python_Practice/genai/Assignment/.venv/lib/python3.13/site-packages (from openai) (2.11.5)\n",
      "Requirement already satisfied: sniffio in /Users/ujjanand2/Desktop/Python_Practice/genai/Assignment/.venv/lib/python3.13/site-packages (from openai) (1.3.1)\n",
      "Requirement already satisfied: tqdm>4 in /Users/ujjanand2/Desktop/Python_Practice/genai/Assignment/.venv/lib/python3.13/site-packages (from openai) (4.67.1)\n",
      "Requirement already satisfied: typing-extensions<5,>=4.11 in /Users/ujjanand2/Desktop/Python_Practice/genai/Assignment/.venv/lib/python3.13/site-packages (from openai) (4.13.2)\n",
      "Requirement already satisfied: python-dotenv in /Users/ujjanand2/Desktop/Python_Practice/genai/Assignment/.venv/lib/python3.13/site-packages (from dotenv) (1.1.0)\n",
      "Collecting langchain-core<1.0.0,>=0.3.58 (from langchain)\n",
      "  Using cached langchain_core-0.3.63-py3-none-any.whl.metadata (5.8 kB)\n",
      "Collecting langchain-text-splitters<1.0.0,>=0.3.8 (from langchain)\n",
      "  Using cached langchain_text_splitters-0.3.8-py3-none-any.whl.metadata (1.9 kB)\n",
      "Collecting langsmith<0.4,>=0.1.17 (from langchain)\n",
      "  Using cached langsmith-0.3.43-py3-none-any.whl.metadata (15 kB)\n",
      "Collecting SQLAlchemy<3,>=1.4 (from langchain)\n",
      "  Using cached sqlalchemy-2.0.41-cp313-cp313-macosx_11_0_arm64.whl.metadata (9.6 kB)\n",
      "Collecting requests<3,>=2 (from langchain)\n",
      "  Using cached requests-2.32.3-py3-none-any.whl.metadata (4.6 kB)\n",
      "Collecting PyYAML>=5.3 (from langchain)\n",
      "  Using cached PyYAML-6.0.2-cp313-cp313-macosx_11_0_arm64.whl.metadata (2.1 kB)\n",
      "Collecting tiktoken<1,>=0.7 (from langchain_openai)\n",
      "  Using cached tiktoken-0.9.0-cp313-cp313-macosx_11_0_arm64.whl.metadata (6.7 kB)\n",
      "Collecting aiohttp<4.0.0,>=3.8.3 (from langchain_community)\n",
      "  Using cached aiohttp-3.12.6-cp313-cp313-macosx_11_0_arm64.whl.metadata (7.6 kB)\n",
      "Collecting tenacity!=8.4.0,<10,>=8.1.0 (from langchain_community)\n",
      "  Using cached tenacity-9.1.2-py3-none-any.whl.metadata (1.2 kB)\n",
      "Collecting dataclasses-json<0.7,>=0.5.7 (from langchain_community)\n",
      "  Using cached dataclasses_json-0.6.7-py3-none-any.whl.metadata (25 kB)\n",
      "Collecting pydantic-settings<3.0.0,>=2.4.0 (from langchain_community)\n",
      "  Using cached pydantic_settings-2.9.1-py3-none-any.whl.metadata (3.8 kB)\n",
      "Collecting httpx-sse<1.0.0,>=0.4.0 (from langchain_community)\n",
      "  Using cached httpx_sse-0.4.0-py3-none-any.whl.metadata (9.0 kB)\n",
      "Collecting numpy>=2.1.0 (from langchain_community)\n",
      "  Using cached numpy-2.2.6-cp313-cp313-macosx_14_0_arm64.whl.metadata (62 kB)\n",
      "Collecting anthropic<0.50.0,>=0.49.0 (from deepeval)\n",
      "  Using cached anthropic-0.49.0-py3-none-any.whl.metadata (24 kB)\n",
      "Collecting click<8.2.0,>=8.0.0 (from deepeval)\n",
      "  Using cached click-8.1.8-py3-none-any.whl.metadata (2.3 kB)\n",
      "Collecting google-genai<2.0.0,>=1.9.0 (from deepeval)\n",
      "  Using cached google_genai-1.18.0-py3-none-any.whl.metadata (35 kB)\n",
      "Collecting grpcio<2.0.0,>=1.67.1 (from deepeval)\n",
      "  Using cached grpcio-1.71.0-cp313-cp313-macosx_10_14_universal2.whl.metadata (3.8 kB)\n",
      "Requirement already satisfied: nest_asyncio in /Users/ujjanand2/Desktop/Python_Practice/genai/Assignment/.venv/lib/python3.13/site-packages (from deepeval) (1.6.0)\n",
      "Collecting ollama (from deepeval)\n",
      "  Using cached ollama-0.5.1-py3-none-any.whl.metadata (4.3 kB)\n",
      "Collecting opentelemetry-api<2.0.0,>=1.24.0 (from deepeval)\n",
      "  Using cached opentelemetry_api-1.33.1-py3-none-any.whl.metadata (1.6 kB)\n",
      "Collecting opentelemetry-exporter-otlp-proto-grpc<2.0.0,>=1.24.0 (from deepeval)\n",
      "  Using cached opentelemetry_exporter_otlp_proto_grpc-1.33.1-py3-none-any.whl.metadata (2.5 kB)\n",
      "Collecting opentelemetry-sdk<2.0.0,>=1.24.0 (from deepeval)\n",
      "  Using cached opentelemetry_sdk-1.33.1-py3-none-any.whl.metadata (1.6 kB)\n",
      "Collecting portalocker (from deepeval)\n",
      "  Using cached portalocker-3.1.1-py3-none-any.whl.metadata (8.6 kB)\n",
      "Collecting posthog<4.0.0,>=3.23.0 (from deepeval)\n",
      "  Using cached posthog-3.25.0-py2.py3-none-any.whl.metadata (3.0 kB)\n",
      "Collecting pytest (from deepeval)\n",
      "  Using cached pytest-8.3.5-py3-none-any.whl.metadata (7.6 kB)\n",
      "Collecting pytest-asyncio (from deepeval)\n",
      "  Using cached pytest_asyncio-1.0.0-py3-none-any.whl.metadata (4.0 kB)\n",
      "Collecting pytest-repeat (from deepeval)\n",
      "  Using cached pytest_repeat-0.9.4-py3-none-any.whl.metadata (4.9 kB)\n",
      "Collecting pytest-rerunfailures<13.0,>=12.0 (from deepeval)\n",
      "  Using cached pytest_rerunfailures-12.0-py3-none-any.whl.metadata (18 kB)\n",
      "Collecting pytest-xdist (from deepeval)\n",
      "  Using cached pytest_xdist-3.7.0-py3-none-any.whl.metadata (3.0 kB)\n",
      "Collecting rich<14.0.0,>=13.6.0 (from deepeval)\n",
      "  Using cached rich-13.9.4-py3-none-any.whl.metadata (18 kB)\n",
      "Collecting sentry-sdk (from deepeval)\n",
      "  Using cached sentry_sdk-2.29.1-py2.py3-none-any.whl.metadata (10 kB)\n",
      "Collecting setuptools (from deepeval)\n",
      "  Using cached setuptools-80.9.0-py3-none-any.whl.metadata (6.6 kB)\n",
      "Collecting tabulate<0.10.0,>=0.9.0 (from deepeval)\n",
      "  Using cached tabulate-0.9.0-py3-none-any.whl.metadata (34 kB)\n",
      "Collecting tenacity!=8.4.0,<10,>=8.1.0 (from langchain_community)\n",
      "  Using cached tenacity-9.0.0-py3-none-any.whl.metadata (1.2 kB)\n",
      "Collecting typer<1.0.0,>=0.9 (from deepeval)\n",
      "  Using cached typer-0.16.0-py3-none-any.whl.metadata (15 kB)\n",
      "Collecting wheel (from deepeval)\n",
      "  Using cached wheel-0.45.1-py3-none-any.whl.metadata (2.3 kB)\n",
      "Collecting aiohappyeyeballs>=2.5.0 (from aiohttp<4.0.0,>=3.8.3->langchain_community)\n",
      "  Using cached aiohappyeyeballs-2.6.1-py3-none-any.whl.metadata (5.9 kB)\n",
      "Collecting aiosignal>=1.1.2 (from aiohttp<4.0.0,>=3.8.3->langchain_community)\n",
      "  Using cached aiosignal-1.3.2-py2.py3-none-any.whl.metadata (3.8 kB)\n",
      "Collecting attrs>=17.3.0 (from aiohttp<4.0.0,>=3.8.3->langchain_community)\n",
      "  Using cached attrs-25.3.0-py3-none-any.whl.metadata (10 kB)\n",
      "Collecting frozenlist>=1.1.1 (from aiohttp<4.0.0,>=3.8.3->langchain_community)\n",
      "  Using cached frozenlist-1.6.0-cp313-cp313-macosx_11_0_arm64.whl.metadata (16 kB)\n",
      "Collecting multidict<7.0,>=4.5 (from aiohttp<4.0.0,>=3.8.3->langchain_community)\n",
      "  Using cached multidict-6.4.4-cp313-cp313-macosx_11_0_arm64.whl.metadata (5.3 kB)\n",
      "Collecting propcache>=0.2.0 (from aiohttp<4.0.0,>=3.8.3->langchain_community)\n",
      "  Using cached propcache-0.3.1-cp313-cp313-macosx_11_0_arm64.whl.metadata (10 kB)\n",
      "Collecting yarl<2.0,>=1.17.0 (from aiohttp<4.0.0,>=3.8.3->langchain_community)\n",
      "  Using cached yarl-1.20.0-cp313-cp313-macosx_11_0_arm64.whl.metadata (72 kB)\n",
      "Requirement already satisfied: idna>=2.8 in /Users/ujjanand2/Desktop/Python_Practice/genai/Assignment/.venv/lib/python3.13/site-packages (from anyio<5,>=3.5.0->openai) (3.10)\n",
      "Collecting marshmallow<4.0.0,>=3.18.0 (from dataclasses-json<0.7,>=0.5.7->langchain_community)\n",
      "  Using cached marshmallow-3.26.1-py3-none-any.whl.metadata (7.3 kB)\n",
      "Collecting typing-inspect<1,>=0.4.0 (from dataclasses-json<0.7,>=0.5.7->langchain_community)\n",
      "  Using cached typing_inspect-0.9.0-py3-none-any.whl.metadata (1.5 kB)\n",
      "Collecting google-auth<3.0.0,>=2.14.1 (from google-genai<2.0.0,>=1.9.0->deepeval)\n",
      "  Using cached google_auth-2.40.2-py2.py3-none-any.whl.metadata (6.2 kB)\n",
      "Collecting websockets<15.1.0,>=13.0.0 (from google-genai<2.0.0,>=1.9.0->deepeval)\n",
      "  Using cached websockets-15.0.1-cp313-cp313-macosx_11_0_arm64.whl.metadata (6.8 kB)\n",
      "Requirement already satisfied: certifi in /Users/ujjanand2/Desktop/Python_Practice/genai/Assignment/.venv/lib/python3.13/site-packages (from httpx<1,>=0.23.0->openai) (2025.4.26)\n",
      "Requirement already satisfied: httpcore==1.* in /Users/ujjanand2/Desktop/Python_Practice/genai/Assignment/.venv/lib/python3.13/site-packages (from httpx<1,>=0.23.0->openai) (1.0.9)\n",
      "Requirement already satisfied: h11>=0.16 in /Users/ujjanand2/Desktop/Python_Practice/genai/Assignment/.venv/lib/python3.13/site-packages (from httpcore==1.*->httpx<1,>=0.23.0->openai) (0.16.0)\n",
      "Collecting jsonpatch<2.0,>=1.33 (from langchain-core<1.0.0,>=0.3.58->langchain)\n",
      "  Using cached jsonpatch-1.33-py2.py3-none-any.whl.metadata (3.0 kB)\n",
      "Requirement already satisfied: packaging<25,>=23.2 in /Users/ujjanand2/Desktop/Python_Practice/genai/Assignment/.venv/lib/python3.13/site-packages (from langchain-core<1.0.0,>=0.3.58->langchain) (24.2)\n",
      "Collecting orjson<4.0.0,>=3.9.14 (from langsmith<0.4,>=0.1.17->langchain)\n",
      "  Using cached orjson-3.10.18-cp313-cp313-macosx_10_15_x86_64.macosx_11_0_arm64.macosx_10_15_universal2.whl.metadata (41 kB)\n",
      "Collecting requests-toolbelt<2.0.0,>=1.0.0 (from langsmith<0.4,>=0.1.17->langchain)\n",
      "  Using cached requests_toolbelt-1.0.0-py2.py3-none-any.whl.metadata (14 kB)\n",
      "Collecting zstandard<0.24.0,>=0.23.0 (from langsmith<0.4,>=0.1.17->langchain)\n",
      "  Using cached zstandard-0.23.0-cp313-cp313-macosx_11_0_arm64.whl.metadata (3.0 kB)\n",
      "Collecting deprecated>=1.2.6 (from opentelemetry-api<2.0.0,>=1.24.0->deepeval)\n",
      "  Using cached Deprecated-1.2.18-py2.py3-none-any.whl.metadata (5.7 kB)\n",
      "Collecting importlib-metadata<8.7.0,>=6.0 (from opentelemetry-api<2.0.0,>=1.24.0->deepeval)\n",
      "  Using cached importlib_metadata-8.6.1-py3-none-any.whl.metadata (4.7 kB)\n",
      "Collecting googleapis-common-protos~=1.52 (from opentelemetry-exporter-otlp-proto-grpc<2.0.0,>=1.24.0->deepeval)\n",
      "  Using cached googleapis_common_protos-1.70.0-py3-none-any.whl.metadata (9.3 kB)\n",
      "Collecting opentelemetry-exporter-otlp-proto-common==1.33.1 (from opentelemetry-exporter-otlp-proto-grpc<2.0.0,>=1.24.0->deepeval)\n",
      "  Using cached opentelemetry_exporter_otlp_proto_common-1.33.1-py3-none-any.whl.metadata (1.9 kB)\n",
      "Collecting opentelemetry-proto==1.33.1 (from opentelemetry-exporter-otlp-proto-grpc<2.0.0,>=1.24.0->deepeval)\n",
      "  Using cached opentelemetry_proto-1.33.1-py3-none-any.whl.metadata (2.4 kB)\n",
      "Collecting protobuf<6.0,>=5.0 (from opentelemetry-proto==1.33.1->opentelemetry-exporter-otlp-proto-grpc<2.0.0,>=1.24.0->deepeval)\n",
      "  Using cached protobuf-5.29.5-cp38-abi3-macosx_10_9_universal2.whl.metadata (592 bytes)\n",
      "Collecting opentelemetry-semantic-conventions==0.54b1 (from opentelemetry-sdk<2.0.0,>=1.24.0->deepeval)\n",
      "  Using cached opentelemetry_semantic_conventions-0.54b1-py3-none-any.whl.metadata (2.5 kB)\n",
      "Requirement already satisfied: six>=1.5 in /Users/ujjanand2/Desktop/Python_Practice/genai/Assignment/.venv/lib/python3.13/site-packages (from posthog<4.0.0,>=3.23.0->deepeval) (1.17.0)\n",
      "Collecting monotonic>=1.5 (from posthog<4.0.0,>=3.23.0->deepeval)\n",
      "  Using cached monotonic-1.6-py2.py3-none-any.whl.metadata (1.5 kB)\n",
      "Collecting backoff>=1.10.0 (from posthog<4.0.0,>=3.23.0->deepeval)\n",
      "  Using cached backoff-2.2.1-py3-none-any.whl.metadata (14 kB)\n",
      "Requirement already satisfied: python-dateutil>2.1 in /Users/ujjanand2/Desktop/Python_Practice/genai/Assignment/.venv/lib/python3.13/site-packages (from posthog<4.0.0,>=3.23.0->deepeval) (2.9.0.post0)\n",
      "Requirement already satisfied: annotated-types>=0.6.0 in /Users/ujjanand2/Desktop/Python_Practice/genai/Assignment/.venv/lib/python3.13/site-packages (from pydantic<3,>=1.9.0->openai) (0.7.0)\n",
      "Requirement already satisfied: pydantic-core==2.33.2 in /Users/ujjanand2/Desktop/Python_Practice/genai/Assignment/.venv/lib/python3.13/site-packages (from pydantic<3,>=1.9.0->openai) (2.33.2)\n",
      "Requirement already satisfied: typing-inspection>=0.4.0 in /Users/ujjanand2/Desktop/Python_Practice/genai/Assignment/.venv/lib/python3.13/site-packages (from pydantic<3,>=1.9.0->openai) (0.4.1)\n",
      "Collecting iniconfig (from pytest->deepeval)\n",
      "  Using cached iniconfig-2.1.0-py3-none-any.whl.metadata (2.7 kB)\n",
      "Collecting pluggy<2,>=1.5 (from pytest->deepeval)\n",
      "  Using cached pluggy-1.6.0-py3-none-any.whl.metadata (4.8 kB)\n",
      "Collecting charset-normalizer<4,>=2 (from requests<3,>=2->langchain)\n",
      "  Using cached charset_normalizer-3.4.2-cp313-cp313-macosx_10_13_universal2.whl.metadata (35 kB)\n",
      "Collecting urllib3<3,>=1.21.1 (from requests<3,>=2->langchain)\n",
      "  Using cached urllib3-2.4.0-py3-none-any.whl.metadata (6.5 kB)\n",
      "Collecting markdown-it-py>=2.2.0 (from rich<14.0.0,>=13.6.0->deepeval)\n",
      "  Using cached markdown_it_py-3.0.0-py3-none-any.whl.metadata (6.9 kB)\n",
      "Requirement already satisfied: pygments<3.0.0,>=2.13.0 in /Users/ujjanand2/Desktop/Python_Practice/genai/Assignment/.venv/lib/python3.13/site-packages (from rich<14.0.0,>=13.6.0->deepeval) (2.19.1)\n",
      "Collecting regex>=2022.1.18 (from tiktoken<1,>=0.7->langchain_openai)\n",
      "  Using cached regex-2024.11.6-cp313-cp313-macosx_11_0_arm64.whl.metadata (40 kB)\n",
      "Collecting shellingham>=1.3.0 (from typer<1.0.0,>=0.9->deepeval)\n",
      "  Using cached shellingham-1.5.4-py2.py3-none-any.whl.metadata (3.5 kB)\n",
      "Collecting execnet>=2.1 (from pytest-xdist->deepeval)\n",
      "  Using cached execnet-2.1.1-py3-none-any.whl.metadata (2.9 kB)\n",
      "Collecting wrapt<2,>=1.10 (from deprecated>=1.2.6->opentelemetry-api<2.0.0,>=1.24.0->deepeval)\n",
      "  Using cached wrapt-1.17.2-cp313-cp313-macosx_11_0_arm64.whl.metadata (6.4 kB)\n",
      "Collecting cachetools<6.0,>=2.0.0 (from google-auth<3.0.0,>=2.14.1->google-genai<2.0.0,>=1.9.0->deepeval)\n",
      "  Using cached cachetools-5.5.2-py3-none-any.whl.metadata (5.4 kB)\n",
      "Collecting pyasn1-modules>=0.2.1 (from google-auth<3.0.0,>=2.14.1->google-genai<2.0.0,>=1.9.0->deepeval)\n",
      "  Using cached pyasn1_modules-0.4.2-py3-none-any.whl.metadata (3.5 kB)\n",
      "Collecting rsa<5,>=3.1.4 (from google-auth<3.0.0,>=2.14.1->google-genai<2.0.0,>=1.9.0->deepeval)\n",
      "  Using cached rsa-4.9.1-py3-none-any.whl.metadata (5.6 kB)\n",
      "Collecting zipp>=3.20 (from importlib-metadata<8.7.0,>=6.0->opentelemetry-api<2.0.0,>=1.24.0->deepeval)\n",
      "  Using cached zipp-3.22.0-py3-none-any.whl.metadata (3.6 kB)\n",
      "Collecting jsonpointer>=1.9 (from jsonpatch<2.0,>=1.33->langchain-core<1.0.0,>=0.3.58->langchain)\n",
      "  Using cached jsonpointer-3.0.0-py2.py3-none-any.whl.metadata (2.3 kB)\n",
      "Collecting mdurl~=0.1 (from markdown-it-py>=2.2.0->rich<14.0.0,>=13.6.0->deepeval)\n",
      "  Using cached mdurl-0.1.2-py3-none-any.whl.metadata (1.6 kB)\n",
      "Collecting mypy-extensions>=0.3.0 (from typing-inspect<1,>=0.4.0->dataclasses-json<0.7,>=0.5.7->langchain_community)\n",
      "  Using cached mypy_extensions-1.1.0-py3-none-any.whl.metadata (1.1 kB)\n",
      "Collecting pyasn1<0.7.0,>=0.6.1 (from pyasn1-modules>=0.2.1->google-auth<3.0.0,>=2.14.1->google-genai<2.0.0,>=1.9.0->deepeval)\n",
      "  Using cached pyasn1-0.6.1-py3-none-any.whl.metadata (8.4 kB)\n",
      "Using cached langchain-0.3.25-py3-none-any.whl (1.0 MB)\n",
      "Using cached langchain_openai-0.3.18-py3-none-any.whl (63 kB)\n",
      "Using cached langchain_community-0.3.24-py3-none-any.whl (2.5 MB)\n",
      "Using cached deepeval-3.0.2-py3-none-any.whl (538 kB)\n",
      "Using cached aiohttp-3.12.6-cp313-cp313-macosx_11_0_arm64.whl (458 kB)\n",
      "Using cached anthropic-0.49.0-py3-none-any.whl (243 kB)\n",
      "Using cached click-8.1.8-py3-none-any.whl (98 kB)\n",
      "Using cached dataclasses_json-0.6.7-py3-none-any.whl (28 kB)\n",
      "Using cached google_genai-1.18.0-py3-none-any.whl (199 kB)\n",
      "Using cached grpcio-1.71.0-cp313-cp313-macosx_10_14_universal2.whl (11.3 MB)\n",
      "Using cached httpx_sse-0.4.0-py3-none-any.whl (7.8 kB)\n",
      "Using cached langchain_core-0.3.63-py3-none-any.whl (438 kB)\n",
      "Using cached langchain_text_splitters-0.3.8-py3-none-any.whl (32 kB)\n",
      "Using cached langsmith-0.3.43-py3-none-any.whl (361 kB)\n",
      "Using cached numpy-2.2.6-cp313-cp313-macosx_14_0_arm64.whl (5.1 MB)\n",
      "Using cached opentelemetry_api-1.33.1-py3-none-any.whl (65 kB)\n",
      "Using cached opentelemetry_exporter_otlp_proto_grpc-1.33.1-py3-none-any.whl (18 kB)\n",
      "Using cached opentelemetry_exporter_otlp_proto_common-1.33.1-py3-none-any.whl (18 kB)\n",
      "Using cached opentelemetry_proto-1.33.1-py3-none-any.whl (55 kB)\n",
      "Using cached opentelemetry_sdk-1.33.1-py3-none-any.whl (118 kB)\n",
      "Using cached opentelemetry_semantic_conventions-0.54b1-py3-none-any.whl (194 kB)\n",
      "Using cached posthog-3.25.0-py2.py3-none-any.whl (89 kB)\n",
      "Using cached pydantic_settings-2.9.1-py3-none-any.whl (44 kB)\n",
      "Using cached pytest_rerunfailures-12.0-py3-none-any.whl (12 kB)\n",
      "Using cached pytest-8.3.5-py3-none-any.whl (343 kB)\n",
      "Using cached PyYAML-6.0.2-cp313-cp313-macosx_11_0_arm64.whl (171 kB)\n",
      "Using cached requests-2.32.3-py3-none-any.whl (64 kB)\n",
      "Using cached rich-13.9.4-py3-none-any.whl (242 kB)\n",
      "Using cached sqlalchemy-2.0.41-cp313-cp313-macosx_11_0_arm64.whl (2.1 MB)\n",
      "Using cached tabulate-0.9.0-py3-none-any.whl (35 kB)\n",
      "Using cached tenacity-9.0.0-py3-none-any.whl (28 kB)\n",
      "Using cached tiktoken-0.9.0-cp313-cp313-macosx_11_0_arm64.whl (1.0 MB)\n",
      "Using cached typer-0.16.0-py3-none-any.whl (46 kB)\n",
      "Using cached ollama-0.5.1-py3-none-any.whl (13 kB)\n",
      "Using cached portalocker-3.1.1-py3-none-any.whl (19 kB)\n",
      "Using cached pytest_asyncio-1.0.0-py3-none-any.whl (15 kB)\n",
      "Using cached pytest_repeat-0.9.4-py3-none-any.whl (4.2 kB)\n",
      "Using cached pytest_xdist-3.7.0-py3-none-any.whl (46 kB)\n",
      "Using cached sentry_sdk-2.29.1-py2.py3-none-any.whl (341 kB)\n",
      "Using cached setuptools-80.9.0-py3-none-any.whl (1.2 MB)\n",
      "Using cached wheel-0.45.1-py3-none-any.whl (72 kB)\n",
      "Using cached aiohappyeyeballs-2.6.1-py3-none-any.whl (15 kB)\n",
      "Using cached aiosignal-1.3.2-py2.py3-none-any.whl (7.6 kB)\n",
      "Using cached attrs-25.3.0-py3-none-any.whl (63 kB)\n",
      "Using cached backoff-2.2.1-py3-none-any.whl (15 kB)\n",
      "Using cached charset_normalizer-3.4.2-cp313-cp313-macosx_10_13_universal2.whl (199 kB)\n",
      "Using cached Deprecated-1.2.18-py2.py3-none-any.whl (10.0 kB)\n",
      "Using cached execnet-2.1.1-py3-none-any.whl (40 kB)\n",
      "Using cached frozenlist-1.6.0-cp313-cp313-macosx_11_0_arm64.whl (120 kB)\n",
      "Using cached google_auth-2.40.2-py2.py3-none-any.whl (216 kB)\n",
      "Using cached googleapis_common_protos-1.70.0-py3-none-any.whl (294 kB)\n",
      "Using cached importlib_metadata-8.6.1-py3-none-any.whl (26 kB)\n",
      "Using cached jsonpatch-1.33-py2.py3-none-any.whl (12 kB)\n",
      "Using cached markdown_it_py-3.0.0-py3-none-any.whl (87 kB)\n",
      "Using cached marshmallow-3.26.1-py3-none-any.whl (50 kB)\n",
      "Using cached monotonic-1.6-py2.py3-none-any.whl (8.2 kB)\n",
      "Using cached multidict-6.4.4-cp313-cp313-macosx_11_0_arm64.whl (37 kB)\n",
      "Using cached orjson-3.10.18-cp313-cp313-macosx_10_15_x86_64.macosx_11_0_arm64.macosx_10_15_universal2.whl (249 kB)\n",
      "Using cached pluggy-1.6.0-py3-none-any.whl (20 kB)\n",
      "Using cached propcache-0.3.1-cp313-cp313-macosx_11_0_arm64.whl (44 kB)\n",
      "Using cached regex-2024.11.6-cp313-cp313-macosx_11_0_arm64.whl (284 kB)\n",
      "Using cached requests_toolbelt-1.0.0-py2.py3-none-any.whl (54 kB)\n",
      "Using cached shellingham-1.5.4-py2.py3-none-any.whl (9.8 kB)\n",
      "Using cached typing_inspect-0.9.0-py3-none-any.whl (8.8 kB)\n",
      "Using cached urllib3-2.4.0-py3-none-any.whl (128 kB)\n",
      "Using cached websockets-15.0.1-cp313-cp313-macosx_11_0_arm64.whl (173 kB)\n",
      "Using cached yarl-1.20.0-cp313-cp313-macosx_11_0_arm64.whl (94 kB)\n",
      "Using cached zstandard-0.23.0-cp313-cp313-macosx_11_0_arm64.whl (633 kB)\n",
      "Using cached iniconfig-2.1.0-py3-none-any.whl (6.0 kB)\n",
      "Using cached cachetools-5.5.2-py3-none-any.whl (10 kB)\n",
      "Using cached jsonpointer-3.0.0-py2.py3-none-any.whl (7.6 kB)\n",
      "Using cached mdurl-0.1.2-py3-none-any.whl (10.0 kB)\n",
      "Using cached mypy_extensions-1.1.0-py3-none-any.whl (5.0 kB)\n",
      "Using cached protobuf-5.29.5-cp38-abi3-macosx_10_9_universal2.whl (418 kB)\n",
      "Using cached pyasn1_modules-0.4.2-py3-none-any.whl (181 kB)\n",
      "Using cached rsa-4.9.1-py3-none-any.whl (34 kB)\n",
      "Using cached wrapt-1.17.2-cp313-cp313-macosx_11_0_arm64.whl (38 kB)\n",
      "Using cached zipp-3.22.0-py3-none-any.whl (9.8 kB)\n",
      "Using cached pyasn1-0.6.1-py3-none-any.whl (83 kB)\n",
      "Installing collected packages: monotonic, zstandard, zipp, wrapt, wheel, websockets, urllib3, tenacity, tabulate, SQLAlchemy, shellingham, setuptools, regex, PyYAML, pyasn1, protobuf, propcache, portalocker, pluggy, orjson, numpy, mypy-extensions, multidict, mdurl, marshmallow, jsonpointer, iniconfig, httpx-sse, grpcio, frozenlist, execnet, click, charset-normalizer, cachetools, backoff, attrs, aiohappyeyeballs, yarl, typing-inspect, sentry-sdk, rsa, requests, pytest, pyasn1-modules, opentelemetry-proto, markdown-it-py, jsonpatch, importlib-metadata, googleapis-common-protos, deprecated, aiosignal, tiktoken, rich, requests-toolbelt, pytest-xdist, pytest-rerunfailures, pytest-repeat, pytest-asyncio, pydantic-settings, posthog, opentelemetry-exporter-otlp-proto-common, opentelemetry-api, ollama, google-auth, dataclasses-json, anthropic, aiohttp, typer, opentelemetry-semantic-conventions, langsmith, google-genai, opentelemetry-sdk, langchain-core, opentelemetry-exporter-otlp-proto-grpc, langchain-text-splitters, langchain_openai, langchain, deepeval, langchain_community\n",
      "Successfully installed PyYAML-6.0.2 SQLAlchemy-2.0.41 aiohappyeyeballs-2.6.1 aiohttp-3.12.6 aiosignal-1.3.2 anthropic-0.49.0 attrs-25.3.0 backoff-2.2.1 cachetools-5.5.2 charset-normalizer-3.4.2 click-8.1.8 dataclasses-json-0.6.7 deepeval-3.0.2 deprecated-1.2.18 execnet-2.1.1 frozenlist-1.6.0 google-auth-2.40.2 google-genai-1.18.0 googleapis-common-protos-1.70.0 grpcio-1.71.0 httpx-sse-0.4.0 importlib-metadata-8.6.1 iniconfig-2.1.0 jsonpatch-1.33 jsonpointer-3.0.0 langchain-0.3.25 langchain-core-0.3.63 langchain-text-splitters-0.3.8 langchain_community-0.3.24 langchain_openai-0.3.18 langsmith-0.3.43 markdown-it-py-3.0.0 marshmallow-3.26.1 mdurl-0.1.2 monotonic-1.6 multidict-6.4.4 mypy-extensions-1.1.0 numpy-2.2.6 ollama-0.5.1 opentelemetry-api-1.33.1 opentelemetry-exporter-otlp-proto-common-1.33.1 opentelemetry-exporter-otlp-proto-grpc-1.33.1 opentelemetry-proto-1.33.1 opentelemetry-sdk-1.33.1 opentelemetry-semantic-conventions-0.54b1 orjson-3.10.18 pluggy-1.6.0 portalocker-3.1.1 posthog-3.25.0 propcache-0.3.1 protobuf-5.29.5 pyasn1-0.6.1 pyasn1-modules-0.4.2 pydantic-settings-2.9.1 pytest-8.3.5 pytest-asyncio-1.0.0 pytest-repeat-0.9.4 pytest-rerunfailures-12.0 pytest-xdist-3.7.0 regex-2024.11.6 requests-2.32.3 requests-toolbelt-1.0.0 rich-13.9.4 rsa-4.9.1 sentry-sdk-2.29.1 setuptools-80.9.0 shellingham-1.5.4 tabulate-0.9.0 tenacity-9.0.0 tiktoken-0.9.0 typer-0.16.0 typing-inspect-0.9.0 urllib3-2.4.0 websockets-15.0.1 wheel-0.45.1 wrapt-1.17.2 yarl-1.20.0 zipp-3.22.0 zstandard-0.23.0\n",
      "\n",
      "\u001b[1m[\u001b[0m\u001b[34;49mnotice\u001b[0m\u001b[1;39;49m]\u001b[0m\u001b[39;49m A new release of pip is available: \u001b[0m\u001b[31;49m25.0.1\u001b[0m\u001b[39;49m -> \u001b[0m\u001b[32;49m25.1.1\u001b[0m\n",
      "\u001b[1m[\u001b[0m\u001b[34;49mnotice\u001b[0m\u001b[1;39;49m]\u001b[0m\u001b[39;49m To update, run: \u001b[0m\u001b[32;49mpip install --upgrade pip\u001b[0m\n"
     ]
    }
   ],
   "source": [
    "!pip install openai dotenv langchain langchain_openai langchain_community deepeval"
   ]
  },
  {
   "cell_type": "code",
   "execution_count": 7,
   "metadata": {
    "application/vnd.databricks.v1+cell": {
     "cellMetadata": {
      "byteLimit": 2048000,
      "rowLimit": 10000
     },
     "inputWidgets": {},
     "nuid": "bd702c52-08d3-43ba-833a-81edbfcef1ed",
     "showTitle": false,
     "tableResultSettingsMap": {},
     "title": ""
    }
   },
   "outputs": [],
   "source": [
    "import os\n",
    "import openai\n",
    "import warnings\n",
    "from dotenv import load_dotenv\n",
    "from langchain.vectorstores import Chroma\n",
    "from langchain_openai import AzureOpenAIEmbeddings, AzureChatOpenAI\n",
    "from langchain.text_splitter import RecursiveCharacterTextSplitter\n",
    "from langchain.document_loaders import PyMuPDFLoader\n",
    "from langchain.schema import Document\n",
    "from langchain.chains import RetrievalQA\n",
    "from langchain_community.retrievers import BM25Retriever\n",
    "from deepeval.models.base_model import DeepEvalBaseLLM\n",
    "from deepeval.test_case import LLMTestCase, LLMTestCaseParams\n",
    "from deepeval import evaluate\n",
    "from deepeval.metrics import (\n",
    "    ContextualPrecisionMetric,\n",
    "    ContextualRecallMetric,\n",
    "    ContextualRelevancyMetric,\n",
    "    AnswerRelevancyMetric,\n",
    "    FaithfulnessMetric,\n",
    "    HallucinationMetric,\n",
    "    GEval,\n",
    ")\n",
    "\n",
    "\n",
    "\n",
    "warnings.filterwarnings(\"ignore\")\n"
   ]
  },
  {
   "cell_type": "code",
   "execution_count": 8,
   "metadata": {},
   "outputs": [],
   "source": [
    "os.environ[\"DEEPEVAL_TELEMETRY_OPT_OUT\"] = \"YES\""
   ]
  },
  {
   "cell_type": "markdown",
   "metadata": {
    "application/vnd.databricks.v1+cell": {
     "cellMetadata": {
      "byteLimit": 2048000,
      "rowLimit": 10000
     },
     "inputWidgets": {},
     "nuid": "085d2052-1563-4378-b891-d10f6b879192",
     "showTitle": false,
     "tableResultSettingsMap": {},
     "title": ""
    }
   },
   "source": [
    "### Create Model Client and Set Up Authentication\n"
   ]
  },
  {
   "cell_type": "code",
   "execution_count": 16,
   "metadata": {},
   "outputs": [
    {
     "name": "stdout",
     "output_type": "stream",
     "text": [
      "Environment variables loaded successfully.\n"
     ]
    }
   ],
   "source": [
    "load_dotenv('UAIS_NEW.env')\n",
    "print(\"Environment variables loaded successfully.\")\n",
    "\n",
    "AZURE_OPENAI_ENDPOINT = os.environ[\"MODEL_ENDPOINT\"]\n",
    "OPENAI_API_VERSION = os.environ[\"API_VERSION\"]\n",
    "EMBEDDINGS_DEPLOYMENT_NAME = os.environ[\"EMBEDDINGS_MODEL_NAME\"]\n",
    "CHAT_DEPLOYMENT_NAME = os.environ[\"CHAT_MODEL_NAME\"]\n",
    "subscription_key = os.environ[\"AZURE_OPENAI_API_KEY\"]\n",
    "\n",
    "\n",
    "chat_client = openai.AzureOpenAI(\n",
    "        azure_endpoint=AZURE_OPENAI_ENDPOINT,\n",
    "        api_version=OPENAI_API_VERSION,\n",
    "        azure_deployment=CHAT_DEPLOYMENT_NAME\n",
    "        \n",
    "    )"
   ]
  },
  {
   "cell_type": "markdown",
   "metadata": {},
   "source": [
    "We create the `chat_model` using `AzureChatOpenAI` to connect with Azure’s GPT model."
   ]
  },
  {
   "cell_type": "code",
   "execution_count": 18,
   "metadata": {
    "application/vnd.databricks.v1+cell": {
     "cellMetadata": {
      "byteLimit": 2048000,
      "rowLimit": 10000
     },
     "inputWidgets": {},
     "nuid": "8ba4410d-5947-44cd-9d60-332285f5276b",
     "showTitle": false,
     "tableResultSettingsMap": {},
     "title": ""
    }
   },
   "outputs": [],
   "source": [
    "embeddings = AzureOpenAIEmbeddings(\n",
    "    azure_endpoint=AZURE_OPENAI_ENDPOINT,\n",
    "    azure_deployment=EMBEDDINGS_DEPLOYMENT_NAME,\n",
    "    openai_api_version=OPENAI_API_VERSION,\n",
    "    model=EMBEDDINGS_DEPLOYMENT_NAME,\n",
    "    api_key=subscription_key)\n",
    "\n",
    "chat_model = AzureChatOpenAI(\n",
    "    openai_api_version=OPENAI_API_VERSION,\n",
    "    azure_deployment=CHAT_DEPLOYMENT_NAME,\n",
    "    azure_endpoint=AZURE_OPENAI_ENDPOINT,\n",
    "    # azure_ad_token=token,\n",
    "    # default_headers={\"projectId\": PROJECT_ID},\n",
    ")"
   ]
  },
  {
   "cell_type": "markdown",
   "metadata": {},
   "source": [
    "### Purpose of Custom Wrapper for AzureChatOpenAI\n",
    "\n",
    "The `DeepEval` library does not natively support the `AzureChatOpenAI` class from the **LangChain** library.  \n",
    "To enable compatibility, we created a custom wrapper class called `AzureChatModelWrapper` that conforms to the `DeepEvalBaseLLM` interface expected by DeepEval.\n",
    "\n",
    "This custom wrapper:\n",
    "\n",
    "- Passes the **Azure model instance** (`AzureChatOpenAI`) to DeepEval in a compatible format\n",
    "- Implements required methods like `generate`, `a_generate`, and `get_model_name`\n",
    "- Allows DeepEval to **invoke and evaluate** responses using the Azure-hosted GPT model\n",
    "\n",
    "By doing this, we ensure **seamless integration** between **Azure OpenAI services** and the **DeepEval evaluation framework**, enabling reliable testing and metric computation.\n"
   ]
  },
  {
   "cell_type": "code",
   "execution_count": 19,
   "metadata": {
    "application/vnd.databricks.v1+cell": {
     "cellMetadata": {
      "byteLimit": 2048000,
      "rowLimit": 10000
     },
     "inputWidgets": {},
     "nuid": "581a504f-076e-47cb-8f5a-48dee772f1f1",
     "showTitle": false,
     "tableResultSettingsMap": {},
     "title": ""
    }
   },
   "outputs": [],
   "source": [
    "# Wrap AzureChatOpenAI in a compatible wrapper\n",
    "class AzureChatModelWrapper(DeepEvalBaseLLM):\n",
    "    def __init__(self, model):\n",
    "        self.model = model\n",
    "\n",
    "    def load_model(self):\n",
    "        return self.model\n",
    "\n",
    "    def generate(self, prompt: str) -> str:\n",
    "        return self.model.invoke(prompt).content\n",
    "\n",
    "    async def a_generate(self, prompt: str) -> str:\n",
    "        return (await self.model.ainvoke(prompt)).content\n",
    "\n",
    "    def get_model_name(self):\n",
    "        return \"azure-gpt4o-mini\""
   ]
  },
  {
   "cell_type": "markdown",
   "metadata": {
    "application/vnd.databricks.v1+cell": {
     "cellMetadata": {
      "byteLimit": 2048000,
      "rowLimit": 10000
     },
     "inputWidgets": {},
     "nuid": "838d2d66-abb5-44c1-9ec3-77db549b4cf7",
     "showTitle": false,
     "tableResultSettingsMap": {},
     "title": ""
    }
   },
   "source": [
    "### Wrapping AzureChatOpenAI for DeepEval\n"
   ]
  },
  {
   "cell_type": "code",
   "execution_count": 20,
   "metadata": {
    "application/vnd.databricks.v1+cell": {
     "cellMetadata": {
      "byteLimit": 2048000,
      "rowLimit": 10000
     },
     "inputWidgets": {},
     "nuid": "5ec3ef0e-99fe-4eed-a09a-70f056c0a33b",
     "showTitle": false,
     "tableResultSettingsMap": {},
     "title": ""
    }
   },
   "outputs": [],
   "source": [
    "# Wrap it for DeepEval\n",
    "wrapped_model = AzureChatModelWrapper(chat_model)"
   ]
  },
  {
   "cell_type": "markdown",
   "metadata": {
    "application/vnd.databricks.v1+cell": {
     "cellMetadata": {
      "byteLimit": 2048000,
      "rowLimit": 10000
     },
     "inputWidgets": {},
     "nuid": "5763dece-59b9-4a15-bc30-f3bebbff2491",
     "showTitle": false,
     "tableResultSettingsMap": {},
     "title": ""
    }
   },
   "source": [
    "\n",
    "### Function: `load_pdfs_only`\n",
    "\n",
    "This function loads and prints content information from multiple PDF files using `PyMuPDFLoader`.\n",
    "\n",
    "#### Purpose:\n",
    "It helps **prepare and organize content** from multiple PDFs so you can use it in downstream tasks like chunking, embedding, or retrieval in a RAG pipeline.\n"
   ]
  },
  {
   "cell_type": "code",
   "execution_count": 21,
   "metadata": {
    "application/vnd.databricks.v1+cell": {
     "cellMetadata": {
      "byteLimit": 2048000,
      "rowLimit": 10000
     },
     "inputWidgets": {},
     "nuid": "73b1b3ad-cf99-4e4f-bdb1-b1eaae8d7c48",
     "showTitle": false,
     "tableResultSettingsMap": {},
     "title": ""
    }
   },
   "outputs": [],
   "source": [
    "# Function to load and print PDF content info\n",
    "def load_pdfs_only(pdf_paths):\n",
    "    all_documents = []\n",
    "    for path in pdf_paths:\n",
    "        loader = PyMuPDFLoader(path)\n",
    "        documents = loader.load()\n",
    "        print(f\"Loaded {len(documents)} chunks from {path}\")\n",
    "        all_documents.extend(documents)\n",
    "    print(f\"Total loaded documents from all PDFs: {len(all_documents)}\")\n",
    "    return all_documents"
   ]
  },
  {
   "cell_type": "code",
   "execution_count": 22,
   "metadata": {
    "application/vnd.databricks.v1+cell": {
     "cellMetadata": {
      "byteLimit": 2048000,
      "rowLimit": 10000
     },
     "inputWidgets": {},
     "nuid": "fc87d994-f745-4d4d-94d8-641f73e67020",
     "showTitle": false,
     "tableResultSettingsMap": {},
     "title": ""
    }
   },
   "outputs": [],
   "source": [
    "# Define a function to chunk documents using RecursiveCharacterTextSplitter.\n",
    "def chunk_documents(documents, chunk_size=600, chunk_overlap=100):\n",
    "    \n",
    "    splitter = RecursiveCharacterTextSplitter(\n",
    "        chunk_size=chunk_size,\n",
    "        chunk_overlap=chunk_overlap\n",
    "    )\n",
    "    return splitter.split_documents(documents)\n",
    "\n"
   ]
  },
  {
   "cell_type": "markdown",
   "metadata": {
    "application/vnd.databricks.v1+cell": {
     "cellMetadata": {
      "byteLimit": 2048000,
      "rowLimit": 10000
     },
     "inputWidgets": {},
     "nuid": "5a39537c-af2a-4174-ae92-d17ef8a5c722",
     "showTitle": false,
     "tableResultSettingsMap": {},
     "title": ""
    }
   },
   "source": [
    "### Function: `store_embeddings`\n",
    "\n",
    "This function manages the storage and reuse of document embeddings using **Chroma**, When you work with **multiple PDF files**.\n",
    "\n",
    "#### Purpose:\n",
    "- It checks whether a vector store already exists in the specified directory.\n",
    "- If it does, it **loads and reuses** the existing vector store.\n",
    "- If it doesn't, it **creates a new vector store** from the provided documents and **persists** it.\n",
    "\n",
    "#### Why This Matters:\n",
    "When you work with **multiple PDF files**, it becomes essential to handle storage efficiently. Regenerating embeddings for previously processed files wastes time and resources.\n",
    "\n",
    "By writing and using this function, you ensure the system:\n",
    "- **Avoids redundant computation**\n",
    "- **Maintains embedding consistency**\n",
    "- **Keeps the vector database optimized for retrieval**\n",
    "\n",
    "This approach supports scalable and performant RAG systems that operate across large or growing document sets.\n"
   ]
  },
  {
   "cell_type": "code",
   "execution_count": 23,
   "metadata": {
    "application/vnd.databricks.v1+cell": {
     "cellMetadata": {
      "byteLimit": 2048000,
      "rowLimit": 10000
     },
     "inputWidgets": {},
     "nuid": "8f8cd4f6-4592-466b-b0f5-2e32bc16b81e",
     "showTitle": false,
     "tableResultSettingsMap": {},
     "title": ""
    }
   },
   "outputs": [],
   "source": [
    "# Define a function to create and store embeddings in a local ChromaDB vector store.\n",
    "\n",
    "\n",
    "def store_embeddings(persist_directory,docs=None):\n",
    "    \"\"\"Create or use existing vector store for embeddings\"\"\"\n",
    "    \n",
    "    # Check if vector store already exists\n",
    "    if os.path.exists(persist_directory) and os.path.isdir(persist_directory):\n",
    "        print(f\"Loading existing vector store from {persist_directory}\")\n",
    "        # Load existing vector store\n",
    "        vector_store = Chroma(\n",
    "            persist_directory=persist_directory,\n",
    "            embedding_function=embeddings\n",
    "        )\n",
    "    else:\n",
    "        # Create new vector store\n",
    "        print(f\"Creating new vector store in {persist_directory}\")\n",
    "        vector_store = Chroma.from_documents(\n",
    "            docs,\n",
    "            embedding=embeddings,\n",
    "            persist_directory=persist_directory\n",
    "        )\n",
    "        vector_store.persist()\n",
    "    \n",
    "    return vector_store"
   ]
  },
  {
   "cell_type": "markdown",
   "metadata": {
    "application/vnd.databricks.v1+cell": {
     "cellMetadata": {
      "byteLimit": 2048000,
      "rowLimit": 10000
     },
     "inputWidgets": {},
     "nuid": "9d36eadb-cd8d-486e-b869-63c1d0aff3ee",
     "showTitle": false,
     "tableResultSettingsMap": {},
     "title": ""
    }
   },
   "source": [
    "### Function: `get_processed_document_name`\n",
    "\n",
    "This function retrieves the names (paths) of all documents already embedded and stored in a **Chroma vector store**.\n",
    "\n",
    "#### Purpose:\n",
    "- Loads the vector store from the specified directory.\n",
    "- Extracts and inspects metadata from stored documents.\n",
    "- Gathers a set of unique source file paths that have already been processed.\n",
    "\n",
    "By doing this, we ensure efficient ingestion by recognizing previously processed PDFs and maintaining a clean, duplication-free embedding workflow.\n",
    "\n",
    "This approach becomes especially valuable as the system evolves—whether handling multiple files or incremental updates—by preserving consistency and avoiding unnecessary reprocessing.\n",
    "\n"
   ]
  },
  {
   "cell_type": "code",
   "execution_count": 24,
   "metadata": {
    "application/vnd.databricks.v1+cell": {
     "cellMetadata": {
      "byteLimit": 2048000,
      "rowLimit": 10000
     },
     "inputWidgets": {},
     "nuid": "8245b605-3763-4e11-b2ee-62ba1e03b4b7",
     "showTitle": false,
     "tableResultSettingsMap": {},
     "title": ""
    }
   },
   "outputs": [],
   "source": [
    "def get_processed_document_name(persist_directory):\n",
    "# Load the vector store to retrieve document IDs\n",
    "    vectorstore = Chroma(\n",
    "            persist_directory=persist_directory,\n",
    "            embedding_function=embeddings\n",
    "        )\n",
    "        \n",
    "    # Extract metadata from all documents in the store\n",
    "    all_metadatas = vectorstore.get()[\"metadatas\"]\n",
    "    \n",
    "    # Create a set of source file paths from metadata\n",
    "    processed_sources = set()\n",
    "    for metadata in all_metadatas:\n",
    "        if metadata and \"source\" in metadata:\n",
    "            processed_sources.add(metadata[\"source\"])\n",
    "    \n",
    "    return processed_sources\n",
    "    \n",
    "        "
   ]
  },
  {
   "cell_type": "markdown",
   "metadata": {
    "application/vnd.databricks.v1+cell": {
     "cellMetadata": {
      "byteLimit": 2048000,
      "rowLimit": 10000
     },
     "inputWidgets": {},
     "nuid": "4885973e-a6c7-482a-8a94-6ab349105f48",
     "showTitle": false,
     "tableResultSettingsMap": {},
     "title": ""
    }
   },
   "source": [
    "### Function: `filter_new_pdfs`\n",
    "\n",
    "This function identifies and separates **new PDF files** from those that have already been embedded and stored in the **Chroma vector store**.\n",
    "\n",
    "#### Purpose:\n",
    "- Retrieves the list of previously processed document paths using their metadata.\n",
    "- Compares incoming PDF paths against the stored records.\n",
    "- Returns only the PDFs that have not yet been embedded.\n",
    "- Provides a clear message indicating whether new files are detected.\n",
    "\n",
    "This step ensures the pipeline stays lean and avoids redundant work—particularly beneficial as your document set grows or evolves over time. By automatically distinguishing new content, the system stays responsive and efficient, even as the dataset scales.\n",
    "\n"
   ]
  },
  {
   "cell_type": "code",
   "execution_count": 25,
   "metadata": {
    "application/vnd.databricks.v1+cell": {
     "cellMetadata": {
      "byteLimit": 2048000,
      "rowLimit": 10000
     },
     "inputWidgets": {},
     "nuid": "c58d4acf-c108-4a11-99ce-681061d6cfc4",
     "showTitle": false,
     "tableResultSettingsMap": {},
     "title": ""
    }
   },
   "outputs": [],
   "source": [
    "def filter_new_pdfs(pdf_paths, persist_directory):\n",
    "    \"\"\"Filter out PDFs that have already been processed.\"\"\"\n",
    "    processed_sources = get_processed_document_name(persist_directory)\n",
    "    \n",
    "    # Find PDFs that haven't been processed yet\n",
    "    new_pdfs = [path for path in pdf_paths if path not in processed_sources]\n",
    "    \n",
    "    if new_pdfs:\n",
    "        print(f\"Found {len(new_pdfs)} new PDFs to process: {new_pdfs}\")\n",
    "    else:\n",
    "        print(\"No new PDFs to process.\")\n",
    "        \n",
    "    return new_pdfs"
   ]
  },
  {
   "cell_type": "markdown",
   "metadata": {
    "application/vnd.databricks.v1+cell": {
     "cellMetadata": {
      "byteLimit": 2048000,
      "rowLimit": 10000
     },
     "inputWidgets": {},
     "nuid": "0008c7b5-32fa-43fc-b9db-1e202f0583dc",
     "showTitle": false,
     "tableResultSettingsMap": {},
     "title": ""
    }
   },
   "source": [
    "### Function: `retrieve_chunks`\n",
    "\n",
    "This function retrieves the **top-k most relevant document chunks** from a Chroma vector store using semantic similarity search.\n",
    "\n",
    "#### Purpose:\n",
    "- Performs a similarity search to find chunks related to the input query.\n",
    "- Filters out duplicate chunks to ensure uniqueness.\n",
    "- Returns the top-k most relevant, unique chunks.\n",
    "\n",
    "This is a key step in the **retrieval** stage of a RAG pipeline, ensuring only high-quality, diverse content is passed to the generator.\n"
   ]
  },
  {
   "cell_type": "code",
   "execution_count": 26,
   "metadata": {
    "application/vnd.databricks.v1+cell": {
     "cellMetadata": {
      "byteLimit": 2048000,
      "rowLimit": 10000
     },
     "inputWidgets": {},
     "nuid": "46630d8c-767e-4faa-b114-c3ac7801d30d",
     "showTitle": false,
     "tableResultSettingsMap": {},
     "title": ""
    }
   },
   "outputs": [],
   "source": [
    "# Define function to retrieve top_k semantically relevant documents from ChromaDB using vector search.\n",
    "def retrieve_chunks(query,vectorstore, top_k=5):\n",
    "    results = vectorstore.similarity_search(query, k=top_k*2)  # fetch more to be safe\n",
    "    unique_results = []\n",
    "    seen_contents = set()\n",
    "\n",
    "    for doc in results:\n",
    "        if doc.page_content not in seen_contents:\n",
    "            unique_results.append(doc)\n",
    "            seen_contents.add(doc.page_content)\n",
    "        if len(unique_results) >= top_k:\n",
    "            break\n",
    "\n",
    "    return unique_results"
   ]
  },
  {
   "cell_type": "markdown",
   "metadata": {
    "application/vnd.databricks.v1+cell": {
     "cellMetadata": {
      "byteLimit": 2048000,
      "rowLimit": 10000
     },
     "inputWidgets": {},
     "nuid": "009b406a-8917-4b8f-8d31-789401837c28",
     "showTitle": false,
     "tableResultSettingsMap": {},
     "title": ""
    }
   },
   "source": [
    "\n",
    "### Guiding the Model to Use Only Retrieved Context During Evaluation\n",
    "\n",
    "Earlier, our `generate_answer` function used a **general prompt** that allowed the model to answer using the retrieved context and its own knowledge.\n",
    "\n",
    "But now, in the **evaluation phase**, our focus shifts to **strict control**: we want to measure how well the model performs when it's **only allowed to use the retrieved context**.\n",
    "\n",
    "To support this, we revise the prompt to include:\n",
    "\n",
    "> **\"Generate an answer strictly based on the above context; do not use your own knowledge. If the query is not covered in the context, respond with: 'This query is not as per the PDF.'\"**\n",
    "\n",
    "### Why This Matters\n",
    "\n",
    "- It isolates the model’s behavior based on context alone.  \n",
    "- It prevents answers from being influenced by pre-trained knowledge.  \n",
    "- It enables **fair and measurable evaluation** using DeepEval metrics such as **faithfulness**, **hallucination**, and **contextual precision**.\n",
    "\n",
    "By refining the prompt this way, we ensure the model is tested under realistic and controlled retrieval-based generation conditions.\n"
   ]
  },
  {
   "cell_type": "code",
   "execution_count": 27,
   "metadata": {
    "application/vnd.databricks.v1+cell": {
     "cellMetadata": {
      "byteLimit": 2048000,
      "rowLimit": 10000
     },
     "inputWidgets": {},
     "nuid": "9f99f2f9-fbf0-4926-a0c7-611c9bc6569f",
     "showTitle": false,
     "tableResultSettingsMap": {},
     "title": ""
    }
   },
   "outputs": [],
   "source": [
    "def generate_answer(query, top_chunks, model_name=CHAT_DEPLOYMENT_NAME):\n",
    "    context = \"\\n\\n\".join([doc.page_content for doc in top_chunks])\n",
    "    prompt = (\n",
    "        f\"Context:\\n{context}\\n\\n\"\n",
    "        f\"Question: {query}\\n\"\n",
    "        f\"Answer (generate an answer strictly based on the above context; do not use your own knowledge. \"\n",
    "        f\"If the query is not covered in the context, respond with: 'This query is not as per the PDF.'):\"\n",
    "    )\n",
    "    \n",
    "    response = chat_client.chat.completions.create(\n",
    "        messages=[{\"role\": \"user\", \"content\": prompt}],\n",
    "        temperature=0,\n",
    "        model=model_name\n",
    "    )\n",
    "    \n",
    "    gpt_output = response.choices[0].message.content\n",
    "    return gpt_output"
   ]
  },
  {
   "cell_type": "markdown",
   "metadata": {
    "application/vnd.databricks.v1+cell": {
     "cellMetadata": {
      "byteLimit": 2048000,
      "rowLimit": 10000
     },
     "inputWidgets": {},
     "nuid": "e461a802-90f7-48df-bf57-12d25f9b179f",
     "showTitle": false,
     "tableResultSettingsMap": {},
     "title": ""
    }
   },
   "source": [
    "### Function: `pdf_chatbot_pipeline`\n",
    "\n",
    "This function defines the complete **multi-PDF RAG pipeline**, integrating all key stages:\n",
    "\n",
    "#### Pipeline Overview:\n",
    "1. **PDF Handling**  \n",
    "   - Loads new PDFs only if they haven’t been processed before.\n",
    "   - Avoids redundant embedding by checking existing vector store.\n",
    "\n",
    "2. **Chunking & Embedding**  \n",
    "   - Chunks the document content.\n",
    "   - Embeds the chunks into a Chroma vector store (either by creating or updating it).\n",
    "\n",
    "3. **Retrieval**  \n",
    "   - Performs semantic search using the user’s query to fetch top relevant chunks.\n",
    "\n",
    "4. **Response Generation**  \n",
    "   - Passes the retrieved context to the model to generate a grounded answer.\n",
    "\n",
    "#### Final Output:\n",
    "Returns a dictionary with:\n",
    "- `context`: Retrieved document chunks  \n",
    "- `question`: User's original query  \n",
    "- `AI_generated_response`: Final answer generated from context\n",
    "\n",
    "This pipeline ensures scalable, **efficient** interaction with multiple documents using **retrieval-augmented generation**.\n"
   ]
  },
  {
   "cell_type": "code",
   "execution_count": 30,
   "metadata": {
    "application/vnd.databricks.v1+cell": {
     "cellMetadata": {
      "byteLimit": 2048000,
      "rowLimit": 10000
     },
     "inputWidgets": {},
     "nuid": "1e138070-6566-4d9b-9100-435efe265897",
     "showTitle": false,
     "tableResultSettingsMap": {},
     "title": ""
    }
   },
   "outputs": [],
   "source": [
    "def pdf_chatbot_pipeline(file_path, user_query,persist_directory):\n",
    "    \"\"\"\n",
    "    Full pipeline: Load → Chunk → Embed → Retrieve → Generate\n",
    "    Returns a dictionary with context, question, and AI-generated response.\n",
    "    \"\"\"\n",
    "\n",
    "    \n",
    "    # Check if vector store already exists\n",
    "    if os.path.exists(persist_directory) and os.path.isdir(persist_directory):\n",
    "        print(f\"Using existing embeddings from {persist_directory}\")\n",
    "        # Find any new PDFs that haven't been processed yet\n",
    "        new_pdfs = filter_new_pdfs(pdf_paths, persist_directory)\n",
    "        \n",
    "        if new_pdfs:\n",
    "            # Process only the new PDFs\n",
    "            print(f\"Processing {len(new_pdfs)} new PDFs...\")\n",
    "            raw_docs = load_pdfs_only(new_pdfs)\n",
    "            chunks = chunk_documents(raw_docs)\n",
    "            \n",
    "            # Load existing vector store and add new documents\n",
    "            vectorstore = Chroma(\n",
    "                persist_directory=persist_directory,\n",
    "                embedding_function=embeddings\n",
    "            )\n",
    "            \n",
    "            # Add new documents to the existing vector store\n",
    "            vectorstore.add_documents(chunks)\n",
    "            vectorstore.persist()\n",
    "            print(f\"Added {len(chunks)} new chunks to existing vector store\")\n",
    "        else:\n",
    "            # Just load the existing vector store\n",
    "            vectorstore = Chroma(\n",
    "                persist_directory=persist_directory,\n",
    "                embedding_function=embeddings\n",
    "            )\n",
    "    else:\n",
    "        # Load and process PDFs only if no existing vector store\n",
    "        print(f\"No existing embeddings found. Processing PDFs...\")\n",
    "        raw_docs = load_pdfs_only(pdf_paths)\n",
    "        chunks = chunk_documents(raw_docs)\n",
    "        vectorstore = store_embeddings(docs=chunks, persist_directory=persist_directory)\n",
    "\n",
    "    # Retrieve relevant chunks based on the user query\n",
    "    retrieved = retrieve_chunks(user_query, vectorstore)\n",
    "\n",
    "    # Generate the answer using retrieved chunks\n",
    "    answer = generate_answer(user_query, retrieved)\n",
    "\n",
    "    # Format and return the response\n",
    "    return {\n",
    "        'context': retrieved,\n",
    "        'question': user_query,\n",
    "        'AI_generated_response': answer\n",
    "    }\n",
    "\n",
    "\n"
   ]
  },
  {
   "cell_type": "markdown",
   "metadata": {
    "application/vnd.databricks.v1+cell": {
     "cellMetadata": {
      "byteLimit": 2048000,
      "rowLimit": 10000
     },
     "inputWidgets": {},
     "nuid": "46a042a7-292d-4a5a-a7da-789ca2f85c4d",
     "showTitle": false,
     "tableResultSettingsMap": {},
     "title": ""
    }
   },
   "source": [
    "> **Important Note:**  \n",
    ">  \n",
    "> This pipeline **intelligently checks** whether embeddings for the given PDF are already stored in the specified **Chroma vector store** (`persist_directory`).  \n",
    "> - If embeddings are found, it **reuses them** to prevent unnecessary recomputation.  \n",
    "> - If the PDF is new, the pipeline will **process and append** its embeddings to the existing vector store.  \n",
    "\n",
    "You can also **customize the storage location** by modifying the `persist_directory` parameter. This allows you to manage different sets of documents within the **same vector database**, but organized under **different collections**, offering flexible and scalable document handling.\n"
   ]
  },
  {
   "cell_type": "code",
   "execution_count": 35,
   "metadata": {},
   "outputs": [
    {
     "name": "stdout",
     "output_type": "stream",
     "text": [
      "Requirement already satisfied: pymupdf in /Users/ujjanand2/Desktop/Python_Practice/genai/Assignment/.venv/lib/python3.13/site-packages (1.26.0)\n",
      "Collecting chromadb\n",
      "  Using cached chromadb-1.0.12-cp39-abi3-macosx_11_0_arm64.whl.metadata (6.9 kB)\n",
      "Collecting build>=1.0.3 (from chromadb)\n",
      "  Using cached build-1.2.2.post1-py3-none-any.whl.metadata (6.5 kB)\n",
      "Requirement already satisfied: pydantic>=1.9 in /Users/ujjanand2/Desktop/Python_Practice/genai/Assignment/.venv/lib/python3.13/site-packages (from chromadb) (2.11.5)\n",
      "Collecting fastapi==0.115.9 (from chromadb)\n",
      "  Using cached fastapi-0.115.9-py3-none-any.whl.metadata (27 kB)\n",
      "Collecting uvicorn>=0.18.3 (from uvicorn[standard]>=0.18.3->chromadb)\n",
      "  Using cached uvicorn-0.34.2-py3-none-any.whl.metadata (6.5 kB)\n",
      "Requirement already satisfied: numpy>=1.22.5 in /Users/ujjanand2/Desktop/Python_Practice/genai/Assignment/.venv/lib/python3.13/site-packages (from chromadb) (2.2.6)\n",
      "Requirement already satisfied: posthog>=2.4.0 in /Users/ujjanand2/Desktop/Python_Practice/genai/Assignment/.venv/lib/python3.13/site-packages (from chromadb) (3.25.0)\n",
      "Requirement already satisfied: typing-extensions>=4.5.0 in /Users/ujjanand2/Desktop/Python_Practice/genai/Assignment/.venv/lib/python3.13/site-packages (from chromadb) (4.13.2)\n",
      "Collecting onnxruntime>=1.14.1 (from chromadb)\n",
      "  Using cached onnxruntime-1.22.0-cp313-cp313-macosx_13_0_universal2.whl.metadata (4.5 kB)\n",
      "Requirement already satisfied: opentelemetry-api>=1.2.0 in /Users/ujjanand2/Desktop/Python_Practice/genai/Assignment/.venv/lib/python3.13/site-packages (from chromadb) (1.33.1)\n",
      "Requirement already satisfied: opentelemetry-exporter-otlp-proto-grpc>=1.2.0 in /Users/ujjanand2/Desktop/Python_Practice/genai/Assignment/.venv/lib/python3.13/site-packages (from chromadb) (1.33.1)\n",
      "Collecting opentelemetry-instrumentation-fastapi>=0.41b0 (from chromadb)\n",
      "  Using cached opentelemetry_instrumentation_fastapi-0.54b1-py3-none-any.whl.metadata (2.2 kB)\n",
      "Requirement already satisfied: opentelemetry-sdk>=1.2.0 in /Users/ujjanand2/Desktop/Python_Practice/genai/Assignment/.venv/lib/python3.13/site-packages (from chromadb) (1.33.1)\n",
      "Collecting tokenizers>=0.13.2 (from chromadb)\n",
      "  Using cached tokenizers-0.21.1-cp39-abi3-macosx_11_0_arm64.whl.metadata (6.8 kB)\n",
      "Collecting pypika>=0.48.9 (from chromadb)\n",
      "  Using cached pypika-0.48.9-py2.py3-none-any.whl\n",
      "Requirement already satisfied: tqdm>=4.65.0 in /Users/ujjanand2/Desktop/Python_Practice/genai/Assignment/.venv/lib/python3.13/site-packages (from chromadb) (4.67.1)\n",
      "Collecting overrides>=7.3.1 (from chromadb)\n",
      "  Using cached overrides-7.7.0-py3-none-any.whl.metadata (5.8 kB)\n",
      "Collecting importlib-resources (from chromadb)\n",
      "  Using cached importlib_resources-6.5.2-py3-none-any.whl.metadata (3.9 kB)\n",
      "Requirement already satisfied: grpcio>=1.58.0 in /Users/ujjanand2/Desktop/Python_Practice/genai/Assignment/.venv/lib/python3.13/site-packages (from chromadb) (1.71.0)\n",
      "Collecting bcrypt>=4.0.1 (from chromadb)\n",
      "  Using cached bcrypt-4.3.0-cp39-abi3-macosx_10_12_universal2.whl.metadata (10 kB)\n",
      "Requirement already satisfied: typer>=0.9.0 in /Users/ujjanand2/Desktop/Python_Practice/genai/Assignment/.venv/lib/python3.13/site-packages (from chromadb) (0.16.0)\n",
      "Collecting kubernetes>=28.1.0 (from chromadb)\n",
      "  Using cached kubernetes-32.0.1-py2.py3-none-any.whl.metadata (1.7 kB)\n",
      "Requirement already satisfied: tenacity>=8.2.3 in /Users/ujjanand2/Desktop/Python_Practice/genai/Assignment/.venv/lib/python3.13/site-packages (from chromadb) (9.0.0)\n",
      "Requirement already satisfied: pyyaml>=6.0.0 in /Users/ujjanand2/Desktop/Python_Practice/genai/Assignment/.venv/lib/python3.13/site-packages (from chromadb) (6.0.2)\n",
      "Collecting mmh3>=4.0.1 (from chromadb)\n",
      "  Using cached mmh3-5.1.0-cp313-cp313-macosx_11_0_arm64.whl.metadata (16 kB)\n",
      "Requirement already satisfied: orjson>=3.9.12 in /Users/ujjanand2/Desktop/Python_Practice/genai/Assignment/.venv/lib/python3.13/site-packages (from chromadb) (3.10.18)\n",
      "Requirement already satisfied: httpx>=0.27.0 in /Users/ujjanand2/Desktop/Python_Practice/genai/Assignment/.venv/lib/python3.13/site-packages (from chromadb) (0.28.1)\n",
      "Requirement already satisfied: rich>=10.11.0 in /Users/ujjanand2/Desktop/Python_Practice/genai/Assignment/.venv/lib/python3.13/site-packages (from chromadb) (13.9.4)\n",
      "Collecting jsonschema>=4.19.0 (from chromadb)\n",
      "  Using cached jsonschema-4.24.0-py3-none-any.whl.metadata (7.8 kB)\n",
      "Collecting starlette<0.46.0,>=0.40.0 (from fastapi==0.115.9->chromadb)\n",
      "  Using cached starlette-0.45.3-py3-none-any.whl.metadata (6.3 kB)\n",
      "Requirement already satisfied: packaging>=19.1 in /Users/ujjanand2/Desktop/Python_Practice/genai/Assignment/.venv/lib/python3.13/site-packages (from build>=1.0.3->chromadb) (24.2)\n",
      "Collecting pyproject_hooks (from build>=1.0.3->chromadb)\n",
      "  Using cached pyproject_hooks-1.2.0-py3-none-any.whl.metadata (1.3 kB)\n",
      "Requirement already satisfied: anyio in /Users/ujjanand2/Desktop/Python_Practice/genai/Assignment/.venv/lib/python3.13/site-packages (from httpx>=0.27.0->chromadb) (4.9.0)\n",
      "Requirement already satisfied: certifi in /Users/ujjanand2/Desktop/Python_Practice/genai/Assignment/.venv/lib/python3.13/site-packages (from httpx>=0.27.0->chromadb) (2025.4.26)\n",
      "Requirement already satisfied: httpcore==1.* in /Users/ujjanand2/Desktop/Python_Practice/genai/Assignment/.venv/lib/python3.13/site-packages (from httpx>=0.27.0->chromadb) (1.0.9)\n",
      "Requirement already satisfied: idna in /Users/ujjanand2/Desktop/Python_Practice/genai/Assignment/.venv/lib/python3.13/site-packages (from httpx>=0.27.0->chromadb) (3.10)\n",
      "Requirement already satisfied: h11>=0.16 in /Users/ujjanand2/Desktop/Python_Practice/genai/Assignment/.venv/lib/python3.13/site-packages (from httpcore==1.*->httpx>=0.27.0->chromadb) (0.16.0)\n",
      "Requirement already satisfied: attrs>=22.2.0 in /Users/ujjanand2/Desktop/Python_Practice/genai/Assignment/.venv/lib/python3.13/site-packages (from jsonschema>=4.19.0->chromadb) (25.3.0)\n",
      "Collecting jsonschema-specifications>=2023.03.6 (from jsonschema>=4.19.0->chromadb)\n",
      "  Using cached jsonschema_specifications-2025.4.1-py3-none-any.whl.metadata (2.9 kB)\n",
      "Collecting referencing>=0.28.4 (from jsonschema>=4.19.0->chromadb)\n",
      "  Using cached referencing-0.36.2-py3-none-any.whl.metadata (2.8 kB)\n",
      "Collecting rpds-py>=0.7.1 (from jsonschema>=4.19.0->chromadb)\n",
      "  Using cached rpds_py-0.25.1-cp313-cp313-macosx_11_0_arm64.whl.metadata (4.1 kB)\n",
      "Requirement already satisfied: six>=1.9.0 in /Users/ujjanand2/Desktop/Python_Practice/genai/Assignment/.venv/lib/python3.13/site-packages (from kubernetes>=28.1.0->chromadb) (1.17.0)\n",
      "Requirement already satisfied: python-dateutil>=2.5.3 in /Users/ujjanand2/Desktop/Python_Practice/genai/Assignment/.venv/lib/python3.13/site-packages (from kubernetes>=28.1.0->chromadb) (2.9.0.post0)\n",
      "Requirement already satisfied: google-auth>=1.0.1 in /Users/ujjanand2/Desktop/Python_Practice/genai/Assignment/.venv/lib/python3.13/site-packages (from kubernetes>=28.1.0->chromadb) (2.40.2)\n",
      "Collecting websocket-client!=0.40.0,!=0.41.*,!=0.42.*,>=0.32.0 (from kubernetes>=28.1.0->chromadb)\n",
      "  Using cached websocket_client-1.8.0-py3-none-any.whl.metadata (8.0 kB)\n",
      "Requirement already satisfied: requests in /Users/ujjanand2/Desktop/Python_Practice/genai/Assignment/.venv/lib/python3.13/site-packages (from kubernetes>=28.1.0->chromadb) (2.32.3)\n",
      "Collecting requests-oauthlib (from kubernetes>=28.1.0->chromadb)\n",
      "  Using cached requests_oauthlib-2.0.0-py2.py3-none-any.whl.metadata (11 kB)\n",
      "Collecting oauthlib>=3.2.2 (from kubernetes>=28.1.0->chromadb)\n",
      "  Using cached oauthlib-3.2.2-py3-none-any.whl.metadata (7.5 kB)\n",
      "Requirement already satisfied: urllib3>=1.24.2 in /Users/ujjanand2/Desktop/Python_Practice/genai/Assignment/.venv/lib/python3.13/site-packages (from kubernetes>=28.1.0->chromadb) (2.4.0)\n",
      "Collecting durationpy>=0.7 (from kubernetes>=28.1.0->chromadb)\n",
      "  Using cached durationpy-0.10-py3-none-any.whl.metadata (340 bytes)\n",
      "Collecting coloredlogs (from onnxruntime>=1.14.1->chromadb)\n",
      "  Using cached coloredlogs-15.0.1-py2.py3-none-any.whl.metadata (12 kB)\n",
      "Collecting flatbuffers (from onnxruntime>=1.14.1->chromadb)\n",
      "  Using cached flatbuffers-25.2.10-py2.py3-none-any.whl.metadata (875 bytes)\n",
      "Requirement already satisfied: protobuf in /Users/ujjanand2/Desktop/Python_Practice/genai/Assignment/.venv/lib/python3.13/site-packages (from onnxruntime>=1.14.1->chromadb) (5.29.5)\n",
      "Collecting sympy (from onnxruntime>=1.14.1->chromadb)\n",
      "  Using cached sympy-1.14.0-py3-none-any.whl.metadata (12 kB)\n",
      "Requirement already satisfied: deprecated>=1.2.6 in /Users/ujjanand2/Desktop/Python_Practice/genai/Assignment/.venv/lib/python3.13/site-packages (from opentelemetry-api>=1.2.0->chromadb) (1.2.18)\n",
      "Requirement already satisfied: importlib-metadata<8.7.0,>=6.0 in /Users/ujjanand2/Desktop/Python_Practice/genai/Assignment/.venv/lib/python3.13/site-packages (from opentelemetry-api>=1.2.0->chromadb) (8.6.1)\n",
      "Requirement already satisfied: googleapis-common-protos~=1.52 in /Users/ujjanand2/Desktop/Python_Practice/genai/Assignment/.venv/lib/python3.13/site-packages (from opentelemetry-exporter-otlp-proto-grpc>=1.2.0->chromadb) (1.70.0)\n",
      "Requirement already satisfied: opentelemetry-exporter-otlp-proto-common==1.33.1 in /Users/ujjanand2/Desktop/Python_Practice/genai/Assignment/.venv/lib/python3.13/site-packages (from opentelemetry-exporter-otlp-proto-grpc>=1.2.0->chromadb) (1.33.1)\n",
      "Requirement already satisfied: opentelemetry-proto==1.33.1 in /Users/ujjanand2/Desktop/Python_Practice/genai/Assignment/.venv/lib/python3.13/site-packages (from opentelemetry-exporter-otlp-proto-grpc>=1.2.0->chromadb) (1.33.1)\n",
      "Collecting opentelemetry-instrumentation-asgi==0.54b1 (from opentelemetry-instrumentation-fastapi>=0.41b0->chromadb)\n",
      "  Using cached opentelemetry_instrumentation_asgi-0.54b1-py3-none-any.whl.metadata (2.1 kB)\n",
      "Collecting opentelemetry-instrumentation==0.54b1 (from opentelemetry-instrumentation-fastapi>=0.41b0->chromadb)\n",
      "  Using cached opentelemetry_instrumentation-0.54b1-py3-none-any.whl.metadata (6.8 kB)\n",
      "Requirement already satisfied: opentelemetry-semantic-conventions==0.54b1 in /Users/ujjanand2/Desktop/Python_Practice/genai/Assignment/.venv/lib/python3.13/site-packages (from opentelemetry-instrumentation-fastapi>=0.41b0->chromadb) (0.54b1)\n",
      "Collecting opentelemetry-util-http==0.54b1 (from opentelemetry-instrumentation-fastapi>=0.41b0->chromadb)\n",
      "  Using cached opentelemetry_util_http-0.54b1-py3-none-any.whl.metadata (2.6 kB)\n",
      "Requirement already satisfied: wrapt<2.0.0,>=1.0.0 in /Users/ujjanand2/Desktop/Python_Practice/genai/Assignment/.venv/lib/python3.13/site-packages (from opentelemetry-instrumentation==0.54b1->opentelemetry-instrumentation-fastapi>=0.41b0->chromadb) (1.17.2)\n",
      "Collecting asgiref~=3.0 (from opentelemetry-instrumentation-asgi==0.54b1->opentelemetry-instrumentation-fastapi>=0.41b0->chromadb)\n",
      "  Using cached asgiref-3.8.1-py3-none-any.whl.metadata (9.3 kB)\n",
      "Requirement already satisfied: monotonic>=1.5 in /Users/ujjanand2/Desktop/Python_Practice/genai/Assignment/.venv/lib/python3.13/site-packages (from posthog>=2.4.0->chromadb) (1.6)\n",
      "Requirement already satisfied: backoff>=1.10.0 in /Users/ujjanand2/Desktop/Python_Practice/genai/Assignment/.venv/lib/python3.13/site-packages (from posthog>=2.4.0->chromadb) (2.2.1)\n",
      "Requirement already satisfied: distro>=1.5.0 in /Users/ujjanand2/Desktop/Python_Practice/genai/Assignment/.venv/lib/python3.13/site-packages (from posthog>=2.4.0->chromadb) (1.9.0)\n",
      "Requirement already satisfied: annotated-types>=0.6.0 in /Users/ujjanand2/Desktop/Python_Practice/genai/Assignment/.venv/lib/python3.13/site-packages (from pydantic>=1.9->chromadb) (0.7.0)\n",
      "Requirement already satisfied: pydantic-core==2.33.2 in /Users/ujjanand2/Desktop/Python_Practice/genai/Assignment/.venv/lib/python3.13/site-packages (from pydantic>=1.9->chromadb) (2.33.2)\n",
      "Requirement already satisfied: typing-inspection>=0.4.0 in /Users/ujjanand2/Desktop/Python_Practice/genai/Assignment/.venv/lib/python3.13/site-packages (from pydantic>=1.9->chromadb) (0.4.1)\n",
      "Requirement already satisfied: markdown-it-py>=2.2.0 in /Users/ujjanand2/Desktop/Python_Practice/genai/Assignment/.venv/lib/python3.13/site-packages (from rich>=10.11.0->chromadb) (3.0.0)\n",
      "Requirement already satisfied: pygments<3.0.0,>=2.13.0 in /Users/ujjanand2/Desktop/Python_Practice/genai/Assignment/.venv/lib/python3.13/site-packages (from rich>=10.11.0->chromadb) (2.19.1)\n",
      "Collecting huggingface-hub<1.0,>=0.16.4 (from tokenizers>=0.13.2->chromadb)\n",
      "  Using cached huggingface_hub-0.32.3-py3-none-any.whl.metadata (14 kB)\n",
      "Requirement already satisfied: click>=8.0.0 in /Users/ujjanand2/Desktop/Python_Practice/genai/Assignment/.venv/lib/python3.13/site-packages (from typer>=0.9.0->chromadb) (8.1.8)\n",
      "Requirement already satisfied: shellingham>=1.3.0 in /Users/ujjanand2/Desktop/Python_Practice/genai/Assignment/.venv/lib/python3.13/site-packages (from typer>=0.9.0->chromadb) (1.5.4)\n",
      "Collecting httptools>=0.6.3 (from uvicorn[standard]>=0.18.3->chromadb)\n",
      "  Using cached httptools-0.6.4-cp313-cp313-macosx_11_0_arm64.whl.metadata (3.6 kB)\n",
      "Requirement already satisfied: python-dotenv>=0.13 in /Users/ujjanand2/Desktop/Python_Practice/genai/Assignment/.venv/lib/python3.13/site-packages (from uvicorn[standard]>=0.18.3->chromadb) (1.1.0)\n",
      "Collecting uvloop!=0.15.0,!=0.15.1,>=0.14.0 (from uvicorn[standard]>=0.18.3->chromadb)\n",
      "  Using cached uvloop-0.21.0-cp313-cp313-macosx_10_13_universal2.whl.metadata (4.9 kB)\n",
      "Collecting watchfiles>=0.13 (from uvicorn[standard]>=0.18.3->chromadb)\n",
      "  Using cached watchfiles-1.0.5-cp313-cp313-macosx_11_0_arm64.whl.metadata (4.9 kB)\n",
      "Requirement already satisfied: websockets>=10.4 in /Users/ujjanand2/Desktop/Python_Practice/genai/Assignment/.venv/lib/python3.13/site-packages (from uvicorn[standard]>=0.18.3->chromadb) (15.0.1)\n",
      "Requirement already satisfied: cachetools<6.0,>=2.0.0 in /Users/ujjanand2/Desktop/Python_Practice/genai/Assignment/.venv/lib/python3.13/site-packages (from google-auth>=1.0.1->kubernetes>=28.1.0->chromadb) (5.5.2)\n",
      "Requirement already satisfied: pyasn1-modules>=0.2.1 in /Users/ujjanand2/Desktop/Python_Practice/genai/Assignment/.venv/lib/python3.13/site-packages (from google-auth>=1.0.1->kubernetes>=28.1.0->chromadb) (0.4.2)\n",
      "Requirement already satisfied: rsa<5,>=3.1.4 in /Users/ujjanand2/Desktop/Python_Practice/genai/Assignment/.venv/lib/python3.13/site-packages (from google-auth>=1.0.1->kubernetes>=28.1.0->chromadb) (4.9.1)\n",
      "Collecting filelock (from huggingface-hub<1.0,>=0.16.4->tokenizers>=0.13.2->chromadb)\n",
      "  Using cached filelock-3.18.0-py3-none-any.whl.metadata (2.9 kB)\n",
      "Collecting fsspec>=2023.5.0 (from huggingface-hub<1.0,>=0.16.4->tokenizers>=0.13.2->chromadb)\n",
      "  Using cached fsspec-2025.5.1-py3-none-any.whl.metadata (11 kB)\n",
      "Collecting hf-xet<2.0.0,>=1.1.2 (from huggingface-hub<1.0,>=0.16.4->tokenizers>=0.13.2->chromadb)\n",
      "  Using cached hf_xet-1.1.2-cp37-abi3-macosx_11_0_arm64.whl.metadata (879 bytes)\n",
      "Requirement already satisfied: zipp>=3.20 in /Users/ujjanand2/Desktop/Python_Practice/genai/Assignment/.venv/lib/python3.13/site-packages (from importlib-metadata<8.7.0,>=6.0->opentelemetry-api>=1.2.0->chromadb) (3.22.0)\n",
      "Requirement already satisfied: mdurl~=0.1 in /Users/ujjanand2/Desktop/Python_Practice/genai/Assignment/.venv/lib/python3.13/site-packages (from markdown-it-py>=2.2.0->rich>=10.11.0->chromadb) (0.1.2)\n",
      "Requirement already satisfied: charset-normalizer<4,>=2 in /Users/ujjanand2/Desktop/Python_Practice/genai/Assignment/.venv/lib/python3.13/site-packages (from requests->kubernetes>=28.1.0->chromadb) (3.4.2)\n",
      "Requirement already satisfied: sniffio>=1.1 in /Users/ujjanand2/Desktop/Python_Practice/genai/Assignment/.venv/lib/python3.13/site-packages (from anyio->httpx>=0.27.0->chromadb) (1.3.1)\n",
      "Collecting humanfriendly>=9.1 (from coloredlogs->onnxruntime>=1.14.1->chromadb)\n",
      "  Using cached humanfriendly-10.0-py2.py3-none-any.whl.metadata (9.2 kB)\n",
      "Collecting mpmath<1.4,>=1.1.0 (from sympy->onnxruntime>=1.14.1->chromadb)\n",
      "  Using cached mpmath-1.3.0-py3-none-any.whl.metadata (8.6 kB)\n",
      "Requirement already satisfied: pyasn1<0.7.0,>=0.6.1 in /Users/ujjanand2/Desktop/Python_Practice/genai/Assignment/.venv/lib/python3.13/site-packages (from pyasn1-modules>=0.2.1->google-auth>=1.0.1->kubernetes>=28.1.0->chromadb) (0.6.1)\n",
      "Using cached chromadb-1.0.12-cp39-abi3-macosx_11_0_arm64.whl (17.9 MB)\n",
      "Using cached fastapi-0.115.9-py3-none-any.whl (94 kB)\n",
      "Using cached bcrypt-4.3.0-cp39-abi3-macosx_10_12_universal2.whl (498 kB)\n",
      "Using cached build-1.2.2.post1-py3-none-any.whl (22 kB)\n",
      "Using cached jsonschema-4.24.0-py3-none-any.whl (88 kB)\n",
      "Using cached kubernetes-32.0.1-py2.py3-none-any.whl (2.0 MB)\n",
      "Using cached mmh3-5.1.0-cp313-cp313-macosx_11_0_arm64.whl (40 kB)\n",
      "Using cached onnxruntime-1.22.0-cp313-cp313-macosx_13_0_universal2.whl (34.3 MB)\n",
      "Using cached opentelemetry_instrumentation_fastapi-0.54b1-py3-none-any.whl (12 kB)\n",
      "Using cached opentelemetry_instrumentation-0.54b1-py3-none-any.whl (31 kB)\n",
      "Using cached opentelemetry_instrumentation_asgi-0.54b1-py3-none-any.whl (16 kB)\n",
      "Using cached opentelemetry_util_http-0.54b1-py3-none-any.whl (7.3 kB)\n",
      "Using cached overrides-7.7.0-py3-none-any.whl (17 kB)\n",
      "Using cached tokenizers-0.21.1-cp39-abi3-macosx_11_0_arm64.whl (2.7 MB)\n",
      "Using cached uvicorn-0.34.2-py3-none-any.whl (62 kB)\n",
      "Using cached importlib_resources-6.5.2-py3-none-any.whl (37 kB)\n",
      "Using cached durationpy-0.10-py3-none-any.whl (3.9 kB)\n",
      "Using cached httptools-0.6.4-cp313-cp313-macosx_11_0_arm64.whl (102 kB)\n",
      "Using cached huggingface_hub-0.32.3-py3-none-any.whl (512 kB)\n",
      "Using cached jsonschema_specifications-2025.4.1-py3-none-any.whl (18 kB)\n",
      "Using cached oauthlib-3.2.2-py3-none-any.whl (151 kB)\n",
      "Using cached referencing-0.36.2-py3-none-any.whl (26 kB)\n",
      "Using cached rpds_py-0.25.1-cp313-cp313-macosx_11_0_arm64.whl (350 kB)\n",
      "Using cached starlette-0.45.3-py3-none-any.whl (71 kB)\n",
      "Using cached uvloop-0.21.0-cp313-cp313-macosx_10_13_universal2.whl (1.5 MB)\n",
      "Using cached watchfiles-1.0.5-cp313-cp313-macosx_11_0_arm64.whl (392 kB)\n",
      "Using cached websocket_client-1.8.0-py3-none-any.whl (58 kB)\n",
      "Using cached coloredlogs-15.0.1-py2.py3-none-any.whl (46 kB)\n",
      "Using cached flatbuffers-25.2.10-py2.py3-none-any.whl (30 kB)\n",
      "Using cached pyproject_hooks-1.2.0-py3-none-any.whl (10 kB)\n",
      "Using cached requests_oauthlib-2.0.0-py2.py3-none-any.whl (24 kB)\n",
      "Using cached sympy-1.14.0-py3-none-any.whl (6.3 MB)\n",
      "Using cached asgiref-3.8.1-py3-none-any.whl (23 kB)\n",
      "Using cached fsspec-2025.5.1-py3-none-any.whl (199 kB)\n",
      "Using cached hf_xet-1.1.2-cp37-abi3-macosx_11_0_arm64.whl (2.5 MB)\n",
      "Using cached humanfriendly-10.0-py2.py3-none-any.whl (86 kB)\n",
      "Using cached mpmath-1.3.0-py3-none-any.whl (536 kB)\n",
      "Using cached filelock-3.18.0-py3-none-any.whl (16 kB)\n",
      "Installing collected packages: pypika, mpmath, flatbuffers, durationpy, websocket-client, uvloop, uvicorn, sympy, rpds-py, pyproject_hooks, overrides, opentelemetry-util-http, oauthlib, mmh3, importlib-resources, humanfriendly, httptools, hf-xet, fsspec, filelock, bcrypt, asgiref, watchfiles, starlette, requests-oauthlib, referencing, huggingface-hub, coloredlogs, build, tokenizers, onnxruntime, kubernetes, jsonschema-specifications, fastapi, opentelemetry-instrumentation, jsonschema, opentelemetry-instrumentation-asgi, opentelemetry-instrumentation-fastapi, chromadb\n",
      "Successfully installed asgiref-3.8.1 bcrypt-4.3.0 build-1.2.2.post1 chromadb-1.0.12 coloredlogs-15.0.1 durationpy-0.10 fastapi-0.115.9 filelock-3.18.0 flatbuffers-25.2.10 fsspec-2025.5.1 hf-xet-1.1.2 httptools-0.6.4 huggingface-hub-0.32.3 humanfriendly-10.0 importlib-resources-6.5.2 jsonschema-4.24.0 jsonschema-specifications-2025.4.1 kubernetes-32.0.1 mmh3-5.1.0 mpmath-1.3.0 oauthlib-3.2.2 onnxruntime-1.22.0 opentelemetry-instrumentation-0.54b1 opentelemetry-instrumentation-asgi-0.54b1 opentelemetry-instrumentation-fastapi-0.54b1 opentelemetry-util-http-0.54b1 overrides-7.7.0 pypika-0.48.9 pyproject_hooks-1.2.0 referencing-0.36.2 requests-oauthlib-2.0.0 rpds-py-0.25.1 starlette-0.45.3 sympy-1.14.0 tokenizers-0.21.1 uvicorn-0.34.2 uvloop-0.21.0 watchfiles-1.0.5 websocket-client-1.8.0\n",
      "\n",
      "\u001b[1m[\u001b[0m\u001b[34;49mnotice\u001b[0m\u001b[1;39;49m]\u001b[0m\u001b[39;49m A new release of pip is available: \u001b[0m\u001b[31;49m25.0.1\u001b[0m\u001b[39;49m -> \u001b[0m\u001b[32;49m25.1.1\u001b[0m\n",
      "\u001b[1m[\u001b[0m\u001b[34;49mnotice\u001b[0m\u001b[1;39;49m]\u001b[0m\u001b[39;49m To update, run: \u001b[0m\u001b[32;49mpip install --upgrade pip\u001b[0m\n"
     ]
    }
   ],
   "source": [
    "!pip install pymupdf chromadb"
   ]
  },
  {
   "cell_type": "code",
   "execution_count": 36,
   "metadata": {
    "application/vnd.databricks.v1+cell": {
     "cellMetadata": {
      "byteLimit": 2048000,
      "rowLimit": 10000
     },
     "inputWidgets": {},
     "nuid": "89c35b3a-2ea0-446e-aba2-7f368469d74a",
     "showTitle": false,
     "tableResultSettingsMap": {},
     "title": ""
    }
   },
   "outputs": [
    {
     "name": "stdout",
     "output_type": "stream",
     "text": [
      "No existing embeddings found. Processing PDFs...\n",
      "Loaded 16 chunks from digital_transformation.pdf\n",
      "Loaded 20 chunks from HealthCareSectorinindia-AnOverview.pdf\n",
      "Total loaded documents from all PDFs: 36\n",
      "Creating new vector store in tk.db\n",
      "{'context': [Document(metadata={'title': '', 'source': 'HealthCareSectorinindia-AnOverview.pdf', 'producer': 'Adobe PDF Library 10.0', 'page': 2, 'moddate': '2020-03-22T00:36:54+05:30', 'total_pages': 20, 'modDate': \"D:20200322003654+05'30'\", 'author': 'Admin', 'creationdate': '2020-03-22T00:36:44+05:30', 'subject': '', 'keywords': '', 'creationDate': \"D:20200322003644+05'30'\", 'format': 'PDF 1.5', 'trapped': '', 'file_path': 'HealthCareSectorinindia-AnOverview.pdf', 'creator': 'Acrobat PDFMaker 10.1 for Word'}, page_content='Large companies and affluent individuals have started five star hospitals which dominate the \\nspace for high end market. The private sector has made tremendous progress, but on the flip side it is \\nalso responsible for increasing inequality in healthcare sector. The private should be more socially \\nrelevant and efforts must be made to make private sector accessible to the weaker section of society. \\nHealth care system in India \\nTraditional Healthcare Systems in India'), Document(metadata={'trapped': '', 'author': 'Admin', 'subject': '', 'format': 'PDF 1.5', 'creator': 'Acrobat PDFMaker 10.1 for Word', 'moddate': '2020-03-22T00:36:54+05:30', 'total_pages': 20, 'creationDate': \"D:20200322003644+05'30'\", 'creationdate': '2020-03-22T00:36:44+05:30', 'producer': 'Adobe PDF Library 10.0', 'modDate': \"D:20200322003654+05'30'\", 'file_path': 'HealthCareSectorinindia-AnOverview.pdf', 'title': '', 'source': 'HealthCareSectorinindia-AnOverview.pdf', 'page': 17, 'keywords': ''}, page_content='Shortage of trained medical personnel : India faces a huge shortage of trained medical personnel, \\nincluding doctors, nurses and especially paramedics, who may be more willing than doctors to live in \\nrural areas where access to care is limited. There is an immediate need for medical education and \\ntraining, which could provide additional opportunities for private sector providers or public-private-\\npartnerships (PPP). \\nSystemic Constraints \\n \\nDespite the Central Government’s focus on health issues, a major challenge is to carry the'), Document(metadata={'creationDate': \"D:20200322003644+05'30'\", 'producer': 'Adobe PDF Library 10.0', 'total_pages': 20, 'page': 18, 'title': '', 'subject': '', 'keywords': '', 'modDate': \"D:20200322003654+05'30'\", 'file_path': 'HealthCareSectorinindia-AnOverview.pdf', 'format': 'PDF 1.5', 'creationdate': '2020-03-22T00:36:44+05:30', 'trapped': '', 'author': 'Admin', 'creator': 'Acrobat PDFMaker 10.1 for Word', 'moddate': '2020-03-22T00:36:54+05:30', 'source': 'HealthCareSectorinindia-AnOverview.pdf'}, page_content='much still remains to be done. The priority will be to develop effective and sustainable health systems \\nthat can meet the dual demands posed by the growth in non communicable diseases and peoples’ needs \\nfor better quality and higher levels of health care.  \\nReference \\nBhat  Ramesh (1999).  Characteristics  of  private medical practice  in India:  a  provider perspective  \\nHealth Policy and Planning 14 (1): pp. 26-37.   \\n \\nBhat  Ramesh  (2006).  Financial  Health  of  Private  sector  hospitals  in  India.  Working  Paper  No  \\n2006-01-01, Indian Institute of Management, Ahmedabad.'), Document(metadata={'creator': 'PDFium', 'file_path': 'digital_transformation.pdf', 'keywords': '', 'trapped': '', 'format': 'PDF 1.7', 'moddate': '', 'source': 'digital_transformation.pdf', 'total_pages': 16, 'title': '', 'page': 9, 'subject': '', 'creationdate': 'D:20220624125453', 'author': '', 'modDate': '', 'producer': 'PDFium', 'creationDate': 'D:20220624125453'}, page_content='information, and a better awareness of preventative health behaviors, all point to a\\nchanging industry.\\nBefore we examine how digital transformation may affect healthcare in India,\\nlet us look at some of the sector’s most serious concerns. Affordability is a major\\nfactor for people as they seek low-cost and low-cost alternatives. Another impor-\\ntant difﬁculty is accessibility, which is exacerbated by the population’s low ratio of'), Document(metadata={'trapped': '', 'author': '', 'page': 10, 'moddate': '', 'producer': 'PDFium', 'title': '', 'modDate': '', 'creationdate': 'D:20220624125453', 'source': 'digital_transformation.pdf', 'keywords': '', 'file_path': 'digital_transformation.pdf', 'total_pages': 16, 'creator': 'PDFium', 'format': 'PDF 1.7', 'subject': '', 'creationDate': 'D:20220624125453'}, page_content='288\\nH. K. Channi et al.\\nFig. 7 Statistics of expenditure of government on healthcare year wise\\nhealthcare providers. We will need 6.4 million more healthcare workers to fulﬁll\\nglobal demands [27]. The problem is exacerbated by a lack of technical infrastruc-\\nture, a lack of standards, privacy concerns, and gaps in the pharmaceutical, payer,\\nand provider ecosystems, as well as a lack of comprehensive regulations. Looking\\nahead, the Indian market is well positioned to bridge the talent, location, infrastruc-\\nture, access, and urban–rural expenditure imbalance. Preventative steps are being')], 'question': 'What are the main challenges facing the healthcare sector in India today?', 'AI_generated_response': 'The main challenges facing the healthcare sector in India today, based on the provided context, include:\\n\\n1. Increasing inequality in healthcare due to the dominance of private sector five-star hospitals catering to the high-end market, making private healthcare less accessible to weaker sections of society.\\n\\n2. A significant shortage of trained medical personnel, including doctors, nurses, and especially paramedics, with a particular need for personnel willing to serve in rural areas where access to care is limited.\\n\\n3. Systemic constraints despite government focus on health issues, with much still to be done to develop effective and sustainable health systems that can address the dual demands of rising non-communicable diseases and the population’s need for better quality and higher levels of healthcare.\\n\\n4. Affordability and accessibility remain major concerns, with the population facing difficulties in accessing low-cost healthcare alternatives and a low ratio of healthcare providers.\\n\\n5. Additional challenges include a lack of technical infrastructure, absence of standards, privacy concerns, gaps in pharmaceutical, payer, and provider ecosystems, and a lack of comprehensive regulations.\\n\\n6. The need for improved medical education and training, potentially through private sector involvement or public-private partnerships, to address workforce shortages.\\n\\nOverall, these challenges highlight the need for more socially relevant private sector efforts, better distribution of healthcare resources, and systemic improvements to meet the healthcare demands of India’s population.'}\n",
      "\n",
      " AI-Generated Response:\n",
      "\n",
      "--------------------------------------------------------------------------------\n",
      "The main challenges facing the healthcare sector in India today, based on the provided context, include:\n",
      "\n",
      "1. Increasing inequality in healthcare due to the dominance of private sector five-star hospitals catering to the high-end market, making private healthcare less accessible to weaker sections of society.\n",
      "\n",
      "2. A significant shortage of trained medical personnel, including doctors, nurses, and especially paramedics, with a particular need for personnel willing to serve in rural areas where access to care is limited.\n",
      "\n",
      "3. Systemic constraints despite government focus on health issues, with much still to be done to develop effective and sustainable health systems that can address the dual demands of rising non-communicable diseases and the population’s need for better quality and higher levels of healthcare.\n",
      "\n",
      "4. Affordability and accessibility remain major concerns, with the population facing difficulties in accessing low-cost healthcare alternatives and a low ratio of healthcare providers.\n",
      "\n",
      "5. Additional challenges include a lack of technical infrastructure, absence of standards, privacy concerns, gaps in pharmaceutical, payer, and provider ecosystems, and a lack of comprehensive regulations.\n",
      "\n",
      "6. The need for improved medical education and training, potentially through private sector involvement or public-private partnerships, to address workforce shortages.\n",
      "\n",
      "Overall, these challenges highlight the need for more socially relevant private sector efforts, better distribution of healthcare resources, and systemic improvements to meet the healthcare demands of India’s population.\n"
     ]
    }
   ],
   "source": [
    "# Example usage\n",
    "pdf_paths = ['digital_transformation.pdf',\"HealthCareSectorinindia-AnOverview.pdf\"]\n",
    "response = pdf_chatbot_pipeline(pdf_paths, \"What are the main challenges facing the healthcare sector in India today?\",persist_directory=\"tk.db\")\n",
    "print(response)\n",
    "print(\"\\n AI-Generated Response:\\n\")\n",
    "print(\"-\" * 80)\n",
    "print(response[\"AI_generated_response\"])\n"
   ]
  },
  {
   "cell_type": "markdown",
   "metadata": {
    "application/vnd.databricks.v1+cell": {
     "cellMetadata": {
      "byteLimit": 2048000,
      "rowLimit": 10000
     },
     "inputWidgets": {},
     "nuid": "9865ccdc-76e2-4da4-96db-dd113fa56d08",
     "showTitle": false,
     "tableResultSettingsMap": {},
     "title": ""
    }
   },
   "source": [
    "### Handling Queries Not Covered in the Context\n",
    "\n",
    "If the query isn't covered in the context, the model should respond:\n",
    "\n",
    "> **\"This query is not as per the PDF.\"**\n",
    "\n",
    "This confirms the prompt prevents hallucination and keeps answers grounded.\n",
    "\n"
   ]
  },
  {
   "cell_type": "code",
   "execution_count": 37,
   "metadata": {
    "application/vnd.databricks.v1+cell": {
     "cellMetadata": {
      "byteLimit": 2048000,
      "rowLimit": 10000
     },
     "inputWidgets": {},
     "nuid": "ae651569-dca7-4b76-9722-f85a6b2857af",
     "showTitle": false,
     "tableResultSettingsMap": {},
     "title": ""
    }
   },
   "outputs": [
    {
     "name": "stdout",
     "output_type": "stream",
     "text": [
      "No existing embeddings found. Processing PDFs...\n",
      "Loaded 16 chunks from digital_transformation.pdf\n",
      "Loaded 20 chunks from HealthCareSectorinindia-AnOverview.pdf\n",
      "Total loaded documents from all PDFs: 36\n",
      "Creating new vector store in multi_pdf_eval.db\n",
      "{'context': [Document(metadata={'creationDate': \"D:20200322003644+05'30'\", 'subject': '', 'creationdate': '2020-03-22T00:36:44+05:30', 'producer': 'Adobe PDF Library 10.0', 'modDate': \"D:20200322003654+05'30'\", 'trapped': '', 'creator': 'Acrobat PDFMaker 10.1 for Word', 'title': '', 'source': 'HealthCareSectorinindia-AnOverview.pdf', 'moddate': '2020-03-22T00:36:54+05:30', 'total_pages': 20, 'file_path': 'HealthCareSectorinindia-AnOverview.pdf', 'author': 'Admin', 'page': 3, 'keywords': '', 'format': 'PDF 1.5'}, page_content='patient, pulse and diagnosis and clinical history. \\nYoga is a science as well an art of healthy living physically, mentally, morally and spiritually. \\nYoga is believed to be founded by saints and sages of India several thousand years ago. Yoga has its \\norigin in the Vedas, and its philosophy is an art and science of living in tune with the universe. Yogis \\ngave rational interpretation of their experiences about Yoga and brought a practically sound and \\nscientifically prepared method within every one’s reach.'), Document(metadata={'subject': '', 'source': 'HealthCareSectorinindia-AnOverview.pdf', 'file_path': 'HealthCareSectorinindia-AnOverview.pdf', 'modDate': \"D:20200322003654+05'30'\", 'producer': 'Adobe PDF Library 10.0', 'moddate': '2020-03-22T00:36:54+05:30', 'creator': 'Acrobat PDFMaker 10.1 for Word', 'author': 'Admin', 'creationdate': '2020-03-22T00:36:44+05:30', 'total_pages': 20, 'title': '', 'format': 'PDF 1.5', 'page': 3, 'keywords': '', 'creationDate': \"D:20200322003644+05'30'\", 'trapped': ''}, page_content='interaction of four elements a new compound having new temperament comes into existence i.e. hot-\\nwet, hot-dry, cold-wet and cold-dry. The body has simple and compound organs, which got their \\nnourishment through four humours, viz. blood, phlegm, yellow bile, black bile. Unani system of \\nmedicine believes in promotion of health, prevention of diseases and cure.  \\nIn addition to such healthcare systems, there are also faith / spiritual healers, who are largely \\npresent in rural parts of India. Some spiritual leaders use one or more of the traditional therapies, viz,'), Document(metadata={'creator': 'Acrobat PDFMaker 10.1 for Word', 'keywords': '', 'trapped': '', 'producer': 'Adobe PDF Library 10.0', 'moddate': '2020-03-22T00:36:54+05:30', 'subject': '', 'format': 'PDF 1.5', 'file_path': 'HealthCareSectorinindia-AnOverview.pdf', 'title': '', 'modDate': \"D:20200322003654+05'30'\", 'source': 'HealthCareSectorinindia-AnOverview.pdf', 'creationdate': '2020-03-22T00:36:44+05:30', 'page': 3, 'total_pages': 20, 'creationDate': \"D:20200322003644+05'30'\", 'author': 'Admin'}, page_content='powers. Naturopathy differs slightly with other systems of medicine, as it does not believe in the \\nspecific cause of disease and its specific treatment but takes into account the totality of factors \\nresponsible for diseases such as one’s un-natural habits in living, thinking, working, sleeping, or \\nrelaxation, and the environmental factors that disturbs the normal functioning of the body. \\nUnani system of medicine believes that the body is made up of four basic elements viz., earth, \\nair, water and fire, which have different temperaments i.e. cold, hot, wet and dry. After mixing and'), Document(metadata={'trapped': '', 'creator': 'Acrobat PDFMaker 10.1 for Word', 'producer': 'Adobe PDF Library 10.0', 'page': 3, 'source': 'HealthCareSectorinindia-AnOverview.pdf', 'keywords': '', 'creationdate': '2020-03-22T00:36:44+05:30', 'creationDate': \"D:20200322003644+05'30'\", 'moddate': '2020-03-22T00:36:54+05:30', 'author': 'Admin', 'file_path': 'HealthCareSectorinindia-AnOverview.pdf', 'format': 'PDF 1.5', 'title': '', 'modDate': \"D:20200322003654+05'30'\", 'total_pages': 20, 'subject': ''}, page_content='scientifically prepared method within every one’s reach. \\nNaturopathy has several references in the Vedas and other ancient texts, which indicate that \\nthese methods were widely practised in ancient India. Naturopathy believes that all the diseases arise \\ndue to accumulation of morbid matter in the body and if scope is given for its removal, it provides cure \\nor relief. It also believes that the human body possesses inherent self-constructingand self-healing \\npowers. Naturopathy differs slightly with other systems of medicine, as it does not believe in the'), Document(metadata={'file_path': 'digital_transformation.pdf', 'page': 1, 'subject': '', 'producer': 'PDFium', 'format': 'PDF 1.7', 'creationDate': 'D:20220624125453', 'total_pages': 16, 'creationdate': 'D:20220624125453', 'creator': 'PDFium', 'trapped': '', 'title': '', 'keywords': '', 'moddate': '', 'modDate': '', 'source': 'digital_transformation.pdf', 'author': ''}, page_content='e-mail: harpreetchanni@yahoo.in\\nP. Shrivastava\\ne-mail: prateeks1398@gmail.com\\nC. L. Chowdhary\\nSchool of Information Technology and Engineering, Vellore Institute of Technology, Vellore, India\\ne-mail: chiranji.lal@vit.ac.in\\n© The Author(s), under exclusive license to Springer Nature Singapore Pte Ltd. 2022\\nB. K. Tripathy et al. (eds.), Next Generation Healthcare Informatics,\\nStudies in Computational Intelligence 1039,\\nhttps://doi.org/10.1007/978-981-19-2416-3_16\\n279')], 'question': 'theory of relativity', 'AI_generated_response': 'This query is not as per the PDF.'}\n",
      "\n",
      " AI-Generated Response:\n",
      "\n",
      "--------------------------------------------------------------------------------\n",
      "This query is not as per the PDF.\n"
     ]
    }
   ],
   "source": [
    "response_option = pdf_chatbot_pipeline(pdf_paths, \"theory of relativity\",persist_directory=\"multi_pdf_eval.db\")\n",
    "print(response_option)\n",
    "print(\"\\n AI-Generated Response:\\n\")\n",
    "print(\"-\" * 80)\n",
    "print(response_option[\"AI_generated_response\"])"
   ]
  },
  {
   "cell_type": "markdown",
   "metadata": {
    "application/vnd.databricks.v1+cell": {
     "cellMetadata": {
      "byteLimit": 2048000,
      "rowLimit": 10000
     },
     "inputWidgets": {},
     "nuid": "28ec318d-4a5e-47fc-924d-f950f3878e2d",
     "showTitle": false,
     "tableResultSettingsMap": {},
     "title": ""
    }
   },
   "source": [
    "### Purpose of the Metadata and Content Extractor Function\n",
    "\n",
    "This function is designed to **process a RAG-style context**, which typically includes a list of `Document` objects.\n",
    "\n",
    "Each `Document` object usually contains:\n",
    "- `metadata`: Information such as source, chunk number, or position.\n",
    "- `page_content`: The actual text content of the chunk.\n",
    "\n",
    "### What the Function Does\n",
    "\n",
    "- It **extracts** relevant fields (`metadata` and `page_content`) from each document.\n",
    "- It **cleans and formats** the metadata for easier use.\n",
    "- It **returns a list** of dictionaries where each entry represents a chunk with its metadata and content.\n",
    "\n",
    "### Why It's Useful\n",
    "\n",
    "This is especially helpful when:\n",
    "- You want to visualize or inspect what the retriever has returned.\n",
    "- You need to use this data for evaluation or debugging.\n",
    "- You want to track which parts of the source documents contributed to the final answer.\n"
   ]
  },
  {
   "cell_type": "code",
   "execution_count": 38,
   "metadata": {
    "application/vnd.databricks.v1+cell": {
     "cellMetadata": {
      "byteLimit": 2048000,
      "rowLimit": 10000
     },
     "inputWidgets": {},
     "nuid": "60c66563-c385-483b-b911-ef6693d89c1e",
     "showTitle": false,
     "tableResultSettingsMap": {},
     "title": ""
    }
   },
   "outputs": [],
   "source": [
    "def extract_rag_metadata(docs):\n",
    "   \n",
    "    extracted = []\n",
    "    for doc in docs:\n",
    "        meta = doc.metadata\n",
    "        chunk_data = {\n",
    "            \"file_path\": meta.get(\"file_path\", \"N/A\"),\n",
    "            \"source\": meta.get(\"source\", \"N/A\"),\n",
    "            \"page\": meta.get(\"page\", \"N/A\"),\n",
    "            \"chunk\": doc.page_content.strip()\n",
    "        }\n",
    "        extracted.append(chunk_data)\n",
    "\n",
    "    # Optional pretty print\n",
    "    for i, entry in enumerate(extracted, 1):\n",
    "        print(f\"\\n Chunk {i}\")\n",
    "        print(f\" a-File Path : {entry['file_path']}\")\n",
    "        print(f\" b-Source    : {entry['source']}\")\n",
    "        print(f\" c-Page No.  : {entry['page']}\")\n",
    "        print(f\" d-Chunks   :\\n{entry['chunk'][:]}\")\n"
   ]
  },
  {
   "cell_type": "code",
   "execution_count": 39,
   "metadata": {
    "application/vnd.databricks.v1+cell": {
     "cellMetadata": {
      "byteLimit": 2048000,
      "rowLimit": 10000
     },
     "inputWidgets": {},
     "nuid": "46b869ec-2623-4575-9694-260234e21031",
     "showTitle": false,
     "tableResultSettingsMap": {},
     "title": ""
    }
   },
   "outputs": [
    {
     "name": "stdout",
     "output_type": "stream",
     "text": [
      "\n",
      " Chunk 1\n",
      " a-File Path : HealthCareSectorinindia-AnOverview.pdf\n",
      " b-Source    : HealthCareSectorinindia-AnOverview.pdf\n",
      " c-Page No.  : 2\n",
      " d-Chunks   :\n",
      "Large companies and affluent individuals have started five star hospitals which dominate the \n",
      "space for high end market. The private sector has made tremendous progress, but on the flip side it is \n",
      "also responsible for increasing inequality in healthcare sector. The private should be more socially \n",
      "relevant and efforts must be made to make private sector accessible to the weaker section of society. \n",
      "Health care system in India \n",
      "Traditional Healthcare Systems in India\n",
      "\n",
      " Chunk 2\n",
      " a-File Path : HealthCareSectorinindia-AnOverview.pdf\n",
      " b-Source    : HealthCareSectorinindia-AnOverview.pdf\n",
      " c-Page No.  : 17\n",
      " d-Chunks   :\n",
      "Shortage of trained medical personnel : India faces a huge shortage of trained medical personnel, \n",
      "including doctors, nurses and especially paramedics, who may be more willing than doctors to live in \n",
      "rural areas where access to care is limited. There is an immediate need for medical education and \n",
      "training, which could provide additional opportunities for private sector providers or public-private-\n",
      "partnerships (PPP). \n",
      "Systemic Constraints \n",
      " \n",
      "Despite the Central Government’s focus on health issues, a major challenge is to carry the\n",
      "\n",
      " Chunk 3\n",
      " a-File Path : HealthCareSectorinindia-AnOverview.pdf\n",
      " b-Source    : HealthCareSectorinindia-AnOverview.pdf\n",
      " c-Page No.  : 18\n",
      " d-Chunks   :\n",
      "much still remains to be done. The priority will be to develop effective and sustainable health systems \n",
      "that can meet the dual demands posed by the growth in non communicable diseases and peoples’ needs \n",
      "for better quality and higher levels of health care.  \n",
      "Reference \n",
      "Bhat  Ramesh (1999).  Characteristics  of  private medical practice  in India:  a  provider perspective  \n",
      "Health Policy and Planning 14 (1): pp. 26-37.   \n",
      " \n",
      "Bhat  Ramesh  (2006).  Financial  Health  of  Private  sector  hospitals  in  India.  Working  Paper  No  \n",
      "2006-01-01, Indian Institute of Management, Ahmedabad.\n",
      "\n",
      " Chunk 4\n",
      " a-File Path : digital_transformation.pdf\n",
      " b-Source    : digital_transformation.pdf\n",
      " c-Page No.  : 9\n",
      " d-Chunks   :\n",
      "information, and a better awareness of preventative health behaviors, all point to a\n",
      "changing industry.\n",
      "Before we examine how digital transformation may affect healthcare in India,\n",
      "let us look at some of the sector’s most serious concerns. Affordability is a major\n",
      "factor for people as they seek low-cost and low-cost alternatives. Another impor-\n",
      "tant difﬁculty is accessibility, which is exacerbated by the population’s low ratio of\n",
      "\n",
      " Chunk 5\n",
      " a-File Path : digital_transformation.pdf\n",
      " b-Source    : digital_transformation.pdf\n",
      " c-Page No.  : 10\n",
      " d-Chunks   :\n",
      "288\n",
      "H. K. Channi et al.\n",
      "Fig. 7 Statistics of expenditure of government on healthcare year wise\n",
      "healthcare providers. We will need 6.4 million more healthcare workers to fulﬁll\n",
      "global demands [27]. The problem is exacerbated by a lack of technical infrastruc-\n",
      "ture, a lack of standards, privacy concerns, and gaps in the pharmaceutical, payer,\n",
      "and provider ecosystems, as well as a lack of comprehensive regulations. Looking\n",
      "ahead, the Indian market is well positioned to bridge the talent, location, infrastruc-\n",
      "ture, access, and urban–rural expenditure imbalance. Preventative steps are being\n"
     ]
    }
   ],
   "source": [
    "extract_rag_metadata(response['context'])"
   ]
  },
  {
   "cell_type": "markdown",
   "metadata": {
    "application/vnd.databricks.v1+cell": {
     "cellMetadata": {
      "byteLimit": 2048000,
      "rowLimit": 10000
     },
     "inputWidgets": {},
     "nuid": "ecb60cd9-3a7e-498a-becf-0314f0535c4e",
     "showTitle": false,
     "tableResultSettingsMap": {},
     "title": ""
    }
   },
   "source": [
    "### Accessing Page Content from Retrieved Chunks\n",
    "\n",
    "We extract relevant **retrieved chunks** based on the query.  \n",
    "From the response context, we access the `page_content` of each document to get the actual text data used for generating answers.\n"
   ]
  },
  {
   "cell_type": "code",
   "execution_count": 40,
   "metadata": {
    "application/vnd.databricks.v1+cell": {
     "cellMetadata": {
      "byteLimit": 2048000,
      "rowLimit": 10000
     },
     "inputWidgets": {},
     "nuid": "6c2d3b43-b1d6-4a83-907e-a8db207be461",
     "showTitle": false,
     "tableResultSettingsMap": {},
     "title": ""
    }
   },
   "outputs": [
    {
     "data": {
      "text/plain": [
       "['Large companies and affluent individuals have started five star hospitals which dominate the \\nspace for high end market. The private sector has made tremendous progress, but on the flip side it is \\nalso responsible for increasing inequality in healthcare sector. The private should be more socially \\nrelevant and efforts must be made to make private sector accessible to the weaker section of society. \\nHealth care system in India \\nTraditional Healthcare Systems in India',\n",
       " 'Shortage of trained medical personnel : India faces a huge shortage of trained medical personnel, \\nincluding doctors, nurses and especially paramedics, who may be more willing than doctors to live in \\nrural areas where access to care is limited. There is an immediate need for medical education and \\ntraining, which could provide additional opportunities for private sector providers or public-private-\\npartnerships (PPP). \\nSystemic Constraints \\n \\nDespite the Central Government’s focus on health issues, a major challenge is to carry the',\n",
       " 'much still remains to be done. The priority will be to develop effective and sustainable health systems \\nthat can meet the dual demands posed by the growth in non communicable diseases and peoples’ needs \\nfor better quality and higher levels of health care.  \\nReference \\nBhat  Ramesh (1999).  Characteristics  of  private medical practice  in India:  a  provider perspective  \\nHealth Policy and Planning 14 (1): pp. 26-37.   \\n \\nBhat  Ramesh  (2006).  Financial  Health  of  Private  sector  hospitals  in  India.  Working  Paper  No  \\n2006-01-01, Indian Institute of Management, Ahmedabad.',\n",
       " 'information, and a better awareness of preventative health behaviors, all point to a\\nchanging industry.\\nBefore we examine how digital transformation may affect healthcare in India,\\nlet us look at some of the sector’s most serious concerns. Affordability is a major\\nfactor for people as they seek low-cost and low-cost alternatives. Another impor-\\ntant difﬁculty is accessibility, which is exacerbated by the population’s low ratio of',\n",
       " '288\\nH. K. Channi et al.\\nFig. 7 Statistics of expenditure of government on healthcare year wise\\nhealthcare providers. We will need 6.4 million more healthcare workers to fulﬁll\\nglobal demands [27]. The problem is exacerbated by a lack of technical infrastruc-\\nture, a lack of standards, privacy concerns, and gaps in the pharmaceutical, payer,\\nand provider ecosystems, as well as a lack of comprehensive regulations. Looking\\nahead, the Indian market is well positioned to bridge the talent, location, infrastruc-\\nture, access, and urban–rural expenditure imbalance. Preventative steps are being']"
      ]
     },
     "execution_count": 40,
     "metadata": {},
     "output_type": "execute_result"
    }
   ],
   "source": [
    "retrieved_context = [doc.page_content for doc in response['context']]\n",
    "retrieved_context"
   ]
  },
  {
   "cell_type": "markdown",
   "metadata": {
    "application/vnd.databricks.v1+cell": {
     "cellMetadata": {
      "byteLimit": 2048000,
      "rowLimit": 10000
     },
     "inputWidgets": {},
     "nuid": "00f0a310-b9f7-4bc0-9229-ad71635cf134",
     "showTitle": false,
     "tableResultSettingsMap": {},
     "title": ""
    }
   },
   "source": [
    "### Human-Written Reference Response\n",
    "\n",
    "Now that we have written a **human-written response**, we can use it as a reference to **evaluate** whether the **AI-generated response** meets different quality standards.\n",
    "\n",
    "This comparison allows us to measure key evaluation metrics such as:\n",
    "\n",
    "- **Answer relevance**\n",
    "- **Faithfulness**\n",
    "- **Hallucination detection**\n",
    "\n",
    "By comparing the AI's output against the human response, we can better understand how well the model performs in real-world scenarios.\n",
    "\n"
   ]
  },
  {
   "cell_type": "code",
   "execution_count": 41,
   "metadata": {
    "application/vnd.databricks.v1+cell": {
     "cellMetadata": {
      "byteLimit": 2048000,
      "rowLimit": 10000
     },
     "inputWidgets": {},
     "nuid": "8c7bfcaf-bddd-40b9-a616-cbb8eb92e100",
     "showTitle": false,
     "tableResultSettingsMap": {},
     "title": ""
    }
   },
   "outputs": [],
   "source": [
    "human_answer=\"\"\"MIoT (Medical Internet of Things) improves hospital safety by creating a connected environment where medical devices and systems can communicate seamlessly. This connectivity allows real-time monitoring of patients through biometric sensors and smart devices, which helps detect critical changes in a patient’s condition more quickly. As a result, healthcare providers can respond faster and more accurately. Additionally, MIoT reduces human errors by automating data collection and ensuring that medical information is accurate and readily available across different care settings—from hospital wards to home care. Overall, this leads to better coordination, quicker interventions, and enhanced patient safety.\"\"\"\n",
    "\n"
   ]
  },
  {
   "cell_type": "markdown",
   "metadata": {
    "application/vnd.databricks.v1+cell": {
     "cellMetadata": {
      "byteLimit": 2048000,
      "rowLimit": 10000
     },
     "inputWidgets": {},
     "nuid": "ffba9427-7240-42dd-a6fe-825a43b4e8e8",
     "showTitle": false,
     "tableResultSettingsMap": {},
     "title": ""
    }
   },
   "source": [
    "\n",
    "### Adding Low-Relevance Chunks for Evaluation\n",
    "\n",
    "Now, we are going to **deliberately create low-relevance chunks** (written by us) and **add them to the retrieved relevant chunks**. \n",
    "\n",
    "This setup allows us to analyze how the presence of **irrelevant or partially relevant information** affects key retrieval evaluation metrics such as:\n",
    "\n",
    "- **Contextual Precision**\n",
    "- **Contextual Recall**\n",
    "- **Contextual Relevance**\n",
    "\n",
    "By mixing in low-relevance data, we can better observe how the system handles noise and test its ability to maintain high-quality retrieval performance.\n"
   ]
  },
  {
   "cell_type": "code",
   "execution_count": 42,
   "metadata": {
    "application/vnd.databricks.v1+cell": {
     "cellMetadata": {
      "byteLimit": 2048000,
      "rowLimit": 10000
     },
     "inputWidgets": {},
     "nuid": "2cbba050-e533-490a-9e76-4f63acde1ad7",
     "showTitle": false,
     "tableResultSettingsMap": {},
     "title": ""
    }
   },
   "outputs": [],
   "source": [
    "low_relevance_chunks= [\"\"\"Many respected institutions and well-regarded medical professionals advertise their services as a way to inform the public about available healthcare options. Over time, physicians and hospitals have increasingly adopted marketing and public relations strategies to connect with their communities and raise awareness of the care they offer. These approaches, while often useful for improving visibility and accessibility, have also led to a noticeable shift in how healthcare services are presented.\"\"\"\n",
    "                        ,\n",
    "                       \"\"\"tools of operations management, for example, supply chain management, are useful only to a limited extent... These observations, however, have had little impact on the vast cost of consulting fees... Patients who are sick, or worried that they may be sick, generally, are neither capable of understanding their physiological status nor inclined to shop around for bargains... The value of life often far outweighs the consideration of cost... The root of the disequilibrium in healthcare is the heavy, often total, dependence of the patient on the medical practitioner.\"\"\"]\n",
    "\n",
    "                        \n"
   ]
  },
  {
   "cell_type": "code",
   "execution_count": 43,
   "metadata": {
    "application/vnd.databricks.v1+cell": {
     "cellMetadata": {
      "byteLimit": 2048000,
      "rowLimit": 10000
     },
     "inputWidgets": {},
     "nuid": "4fcbce4f-2ed0-4e86-81ab-8ab4a26d2b78",
     "showTitle": false,
     "tableResultSettingsMap": {},
     "title": ""
    }
   },
   "outputs": [],
   "source": [
    "### Adding Low-Relevance Chunks to Retrieved Context\n",
    "retrieved_context_with_noise=low_relevance_chunks+ retrieved_context"
   ]
  },
  {
   "cell_type": "markdown",
   "metadata": {
    "application/vnd.databricks.v1+cell": {
     "cellMetadata": {
      "byteLimit": 2048000,
      "rowLimit": 10000
     },
     "inputWidgets": {},
     "nuid": "8b41b148-0a42-480e-9359-c6e100c051a7",
     "showTitle": false,
     "tableResultSettingsMap": {},
     "title": ""
    }
   },
   "source": [
    "## Contextual Precision\n",
    "\n",
    "The **contextual precision** metric measures how well your RAG pipeline’s **retriever** ranks **relevant document chunks** higher than irrelevant ones for a given input query.\n",
    "\n",
    "In simple terms:  \n",
    "> Are the most relevant chunks appearing at the top of the retrieved list?\n",
    "\n",
    "`deepeval` uses a **self-explaining LLM-based evaluation** for this metric. That means it not only returns a score but also provides a **reason** for the score using an LLM as a judge.\n",
    "\n",
    "### Required Inputs for `ContextualPrecisionMetric` in `deepeval`\n",
    "\n",
    "When creating an `LLMTestCase`, you need to provide:\n",
    "\n",
    "- `input`: The user’s query\n",
    "- `actual_output`: The actual response generated by the LLM (not used for this metric)\n",
    "- `expected_output`: The expected response (used as reference)\n",
    "- `retrieval_context`: The top-N retrieved chunks (document nodes) from your vector store\n",
    "\n",
    "> This metric helps evaluate the **quality of retrieval**, not the generated answer.\n",
    "\n",
    "\n"
   ]
  },
  {
   "cell_type": "markdown",
   "metadata": {
    "application/vnd.databricks.v1+cell": {
     "cellMetadata": {
      "byteLimit": 2048000,
      "rowLimit": 10000
     },
     "inputWidgets": {},
     "nuid": "6267e296-c103-49ff-8802-2ee357af426e",
     "showTitle": false,
     "tableResultSettingsMap": {},
     "title": ""
    }
   },
   "source": [
    "### Evaluating Contextual Precision with DeepEval\n",
    "\n",
    "In this step, we define a test case using the original question, the AI-generated response, the human-written reference answer, and the retrieved context. This forms the basis for evaluating how well the model performed on a specific query.\n",
    "\n",
    "We then apply the **Contextual Precision** metric, which checks whether the most relevant document chunks appear higher in the retrieval list. We set a relevance threshold to decide which chunks are considered relevant, and we enable detailed output and reasoning from the LLM.\n",
    "\n",
    "Finally, we run the evaluation to see how accurately the retriever prioritized relevant information. This helps us understand the quality of retrieval and how it impacts the final answer.\n"
   ]
  },
  {
   "cell_type": "code",
   "execution_count": 44,
   "metadata": {
    "application/vnd.databricks.v1+cell": {
     "cellMetadata": {
      "byteLimit": 2048000,
      "rowLimit": 10000
     },
     "inputWidgets": {},
     "nuid": "8e6f1a0b-e876-4ab5-a655-7fcad70dbdac",
     "showTitle": false,
     "tableResultSettingsMap": {},
     "title": ""
    },
    "scrolled": true
   },
   "outputs": [
    {
     "data": {
      "text/html": [
       "<pre style=\"white-space:pre;overflow-x:auto;line-height:normal;font-family:Menlo,'DejaVu Sans Mono',consolas,'Courier New',monospace\">✨ You're running DeepEval's latest <span style=\"color: #6a00ff; text-decoration-color: #6a00ff\">Contextual Precision Metric</span>! <span style=\"color: #374151; text-decoration-color: #374151; font-weight: bold\">(</span><span style=\"color: #374151; text-decoration-color: #374151\">using azure-gpt4o-mini, </span><span style=\"color: #374151; text-decoration-color: #374151\">strict</span><span style=\"color: #374151; text-decoration-color: #374151\">=</span><span style=\"color: #374151; text-decoration-color: #374151; font-style: italic\">False</span><span style=\"color: #374151; text-decoration-color: #374151\">, </span>\n",
       "<span style=\"color: #374151; text-decoration-color: #374151\">async_mode</span><span style=\"color: #374151; text-decoration-color: #374151\">=</span><span style=\"color: #374151; text-decoration-color: #374151; font-style: italic\">True</span><span style=\"color: #374151; text-decoration-color: #374151; font-weight: bold\">)</span><span style=\"color: #374151; text-decoration-color: #374151\">...</span>\n",
       "</pre>\n"
      ],
      "text/plain": [
       "✨ You're running DeepEval's latest \u001b[38;2;106;0;255mContextual Precision Metric\u001b[0m! \u001b[1;38;2;55;65;81m(\u001b[0m\u001b[38;2;55;65;81musing azure-gpt4o-mini, \u001b[0m\u001b[38;2;55;65;81mstrict\u001b[0m\u001b[38;2;55;65;81m=\u001b[0m\u001b[3;38;2;55;65;81mFalse\u001b[0m\u001b[38;2;55;65;81m, \u001b[0m\n",
       "\u001b[38;2;55;65;81masync_mode\u001b[0m\u001b[38;2;55;65;81m=\u001b[0m\u001b[3;38;2;55;65;81mTrue\u001b[0m\u001b[1;38;2;55;65;81m)\u001b[0m\u001b[38;2;55;65;81m...\u001b[0m\n"
      ]
     },
     "metadata": {},
     "output_type": "display_data"
    },
    {
     "name": "stderr",
     "output_type": "stream",
     "text": [
      "Evaluating 1 test case(s) in parallel: |          |  0% (0/1) [Time Taken: 00:00, ?test case/s]"
     ]
    },
    {
     "name": "stdout",
     "output_type": "stream",
     "text": [
      "**************************************************\n",
      "Contextual Precision Verbose Logs\n",
      "**************************************************\n",
      "\n",
      "Verdicts:\n",
      "[\n",
      "    {\n",
      "        \"verdict\": \"no\",\n",
      "        \"reason\": \"The document discusses the inequality caused by private hospitals and the need for social relevance, but does not mention MIoT, connectivity, or technological solutions related to improving healthcare safety.\"\n",
      "    },\n",
      "    {\n",
      "        \"verdict\": \"no\",\n",
      "        \"reason\": \"This document focuses on the shortage of trained medical personnel and systemic constraints, which, while relevant challenges, do not relate to MIoT or technological improvements mentioned in the expected output.\"\n",
      "    },\n",
      "    {\n",
      "        \"verdict\": \"no\",\n",
      "        \"reason\": \"The text talks about the need for better health systems and managing non-communicable diseases, but does not address MIoT, real-time monitoring, device connectivity, or automation as described in the expected output.\"\n",
      "    },\n",
      "    {\n",
      "        \"verdict\": \"no\",\n",
      "        \"reason\": \"Although affordability and accessibility are mentioned as concerns, this document does not include information about MIoT, connected devices, or automation improving healthcare safety.\"\n",
      "    },\n",
      "    {\n",
      "        \"verdict\": \"yes\",\n",
      "        \"reason\": \"This passage mentions lack of technical infrastructure, lack of standards, privacy concerns, and gaps in provider ecosystems, which are challenges that MIoT aims to address by creating a connected environment and automating data collection as described in the expected output.\"\n",
      "    }\n",
      "]\n",
      " \n",
      "Score: 0.2\n",
      "Reason: The score is 0.20 because the first four nodes in retrieval contexts, ranked highest, are irrelevant as they focus on issues like inequality, personnel shortages, and non-technological challenges, as shown by the repeated emphasis on lack of MIoT or connectivity. Only the fifth node, ranked lowest, is relevant since it addresses technical infrastructure and automation challenges fitting the input. This mismatch in ranking lowers the score.\n",
      "\n",
      "======================================================================\n"
     ]
    },
    {
     "name": "stderr",
     "output_type": "stream",
     "text": [
      "Evaluating 1 test case(s) in parallel: |██████████|100% (1/1) [Time Taken: 00:04,  4.24s/test case]"
     ]
    },
    {
     "name": "stdout",
     "output_type": "stream",
     "text": [
      "\n",
      "======================================================================\n",
      "\n",
      "Metrics Summary\n",
      "\n",
      "  - ❌ Contextual Precision (score: 0.2, threshold: 0.6, strict: False, evaluation model: azure-gpt4o-mini, reason: The score is 0.20 because the first four nodes in retrieval contexts, ranked highest, are irrelevant as they focus on issues like inequality, personnel shortages, and non-technological challenges, as shown by the repeated emphasis on lack of MIoT or connectivity. Only the fifth node, ranked lowest, is relevant since it addresses technical infrastructure and automation challenges fitting the input. This mismatch in ranking lowers the score., error: None)\n",
      "\n",
      "For test case:\n",
      "\n",
      "  - input: What are the main challenges facing the healthcare sector in India today?\n",
      "  - actual output: The main challenges facing the healthcare sector in India today, based on the provided context, include:\n",
      "\n",
      "1. Increasing inequality in healthcare due to the dominance of private sector five-star hospitals catering to the high-end market, making private healthcare less accessible to weaker sections of society.\n",
      "\n",
      "2. A significant shortage of trained medical personnel, including doctors, nurses, and especially paramedics, with a particular need for personnel willing to serve in rural areas where access to care is limited.\n",
      "\n",
      "3. Systemic constraints despite government focus on health issues, with much still to be done to develop effective and sustainable health systems that can address the dual demands of rising non-communicable diseases and the population’s need for better quality and higher levels of healthcare.\n",
      "\n",
      "4. Affordability and accessibility remain major concerns, with the population facing difficulties in accessing low-cost healthcare alternatives and a low ratio of healthcare providers.\n",
      "\n",
      "5. Additional challenges include a lack of technical infrastructure, absence of standards, privacy concerns, gaps in pharmaceutical, payer, and provider ecosystems, and a lack of comprehensive regulations.\n",
      "\n",
      "6. The need for improved medical education and training, potentially through private sector involvement or public-private partnerships, to address workforce shortages.\n",
      "\n",
      "Overall, these challenges highlight the need for more socially relevant private sector efforts, better distribution of healthcare resources, and systemic improvements to meet the healthcare demands of India’s population.\n",
      "  - expected output: MIoT (Medical Internet of Things) improves hospital safety by creating a connected environment where medical devices and systems can communicate seamlessly. This connectivity allows real-time monitoring of patients through biometric sensors and smart devices, which helps detect critical changes in a patient’s condition more quickly. As a result, healthcare providers can respond faster and more accurately. Additionally, MIoT reduces human errors by automating data collection and ensuring that medical information is accurate and readily available across different care settings—from hospital wards to home care. Overall, this leads to better coordination, quicker interventions, and enhanced patient safety.\n",
      "  - context: None\n",
      "  - retrieval context: ['Large companies and affluent individuals have started five star hospitals which dominate the \\nspace for high end market. The private sector has made tremendous progress, but on the flip side it is \\nalso responsible for increasing inequality in healthcare sector. The private should be more socially \\nrelevant and efforts must be made to make private sector accessible to the weaker section of society. \\nHealth care system in India \\nTraditional Healthcare Systems in India', 'Shortage of trained medical personnel : India faces a huge shortage of trained medical personnel, \\nincluding doctors, nurses and especially paramedics, who may be more willing than doctors to live in \\nrural areas where access to care is limited. There is an immediate need for medical education and \\ntraining, which could provide additional opportunities for private sector providers or public-private-\\npartnerships (PPP). \\nSystemic Constraints \\n \\nDespite the Central Government’s focus on health issues, a major challenge is to carry the', 'much still remains to be done. The priority will be to develop effective and sustainable health systems \\nthat can meet the dual demands posed by the growth in non communicable diseases and peoples’ needs \\nfor better quality and higher levels of health care.  \\nReference \\nBhat  Ramesh (1999).  Characteristics  of  private medical practice  in India:  a  provider perspective  \\nHealth Policy and Planning 14 (1): pp. 26-37.   \\n \\nBhat  Ramesh  (2006).  Financial  Health  of  Private  sector  hospitals  in  India.  Working  Paper  No  \\n2006-01-01, Indian Institute of Management, Ahmedabad.', 'information, and a better awareness of preventative health behaviors, all point to a\\nchanging industry.\\nBefore we examine how digital transformation may affect healthcare in India,\\nlet us look at some of the sector’s most serious concerns. Affordability is a major\\nfactor for people as they seek low-cost and low-cost alternatives. Another impor-\\ntant difﬁculty is accessibility, which is exacerbated by the population’s low ratio of', '288\\nH. K. Channi et al.\\nFig. 7 Statistics of expenditure of government on healthcare year wise\\nhealthcare providers. We will need 6.4 million more healthcare workers to fulﬁll\\nglobal demands [27]. The problem is exacerbated by a lack of technical infrastruc-\\nture, a lack of standards, privacy concerns, and gaps in the pharmaceutical, payer,\\nand provider ecosystems, as well as a lack of comprehensive regulations. Looking\\nahead, the Indian market is well positioned to bridge the talent, location, infrastruc-\\nture, access, and urban–rural expenditure imbalance. Preventative steps are being']\n",
      "\n",
      "======================================================================\n",
      "\n",
      "Overall Metric Pass Rates\n",
      "\n",
      "Contextual Precision: 0.00% pass rate\n",
      "\n",
      "======================================================================\n",
      "\n"
     ]
    },
    {
     "name": "stderr",
     "output_type": "stream",
     "text": [
      "\n"
     ]
    },
    {
     "data": {
      "text/html": [
       "<pre style=\"white-space:pre;overflow-x:auto;line-height:normal;font-family:Menlo,'DejaVu Sans Mono',consolas,'Courier New',monospace\">\n",
       "<span style=\"color: #05f58d; text-decoration-color: #05f58d\">✓</span> Tests finished 🎉! Run <span style=\"color: #008000; text-decoration-color: #008000; font-weight: bold\">'deepeval login'</span> to save and analyze evaluation results on Confident AI.\n",
       " \n",
       "✨👀 Looking for a place for your LLM test data to live 🏡❤️ ? Use <span style=\"color: #6a00ff; text-decoration-color: #6a00ff\">Confident AI</span> to get &amp; share testing reports, \n",
       "experiment with models/prompts, and catch regressions for your LLM system. Just run <span style=\"color: #008080; text-decoration-color: #008080\">'deepeval login'</span> in the CLI. \n",
       "\n",
       "</pre>\n"
      ],
      "text/plain": [
       "\n",
       "\u001b[38;2;5;245;141m✓\u001b[0m Tests finished 🎉! Run \u001b[1;32m'deepeval login'\u001b[0m to save and analyze evaluation results on Confident AI.\n",
       " \n",
       "✨👀 Looking for a place for your LLM test data to live 🏡❤️ ? Use \u001b[38;2;106;0;255mConfident AI\u001b[0m to get & share testing reports, \n",
       "experiment with models/prompts, and catch regressions for your LLM system. Just run \u001b[36m'deepeval login'\u001b[0m in the CLI. \n",
       "\n"
      ]
     },
     "metadata": {},
     "output_type": "display_data"
    }
   ],
   "source": [
    "\n",
    "test_case = LLMTestCase(\n",
    "    input=response['question'],\n",
    "    actual_output=response['AI_generated_response'],\n",
    "    expected_output=human_answer,\n",
    "    retrieval_context=retrieved_context\n",
    ")\n",
    "\n",
    "metric = ContextualPrecisionMetric(\n",
    "    threshold=0.6,\n",
    "    model=wrapped_model,\n",
    "    include_reason=True,\n",
    "    verbose_mode=True\n",
    ")\n",
    "\n",
    "result = evaluate([test_case], [metric])"
   ]
  },
  {
   "cell_type": "code",
   "execution_count": 45,
   "metadata": {
    "application/vnd.databricks.v1+cell": {
     "cellMetadata": {
      "byteLimit": 2048000,
      "rowLimit": 10000
     },
     "inputWidgets": {},
     "nuid": "1fca96fb-ff0e-4b5a-83c1-c7d7caac188d",
     "showTitle": false,
     "tableResultSettingsMap": {},
     "title": ""
    }
   },
   "outputs": [
    {
     "name": "stdout",
     "output_type": "stream",
     "text": [
      "Sucess: False\n",
      "Score: 0.2\n",
      "Reason: The score is 0.20 because the first four nodes in retrieval contexts, ranked highest, are irrelevant as they focus on issues like inequality, personnel shortages, and non-technological challenges, as shown by the repeated emphasis on lack of MIoT or connectivity. Only the fifth node, ranked lowest, is relevant since it addresses technical infrastructure and automation challenges fitting the input. This mismatch in ranking lowers the score.\n"
     ]
    }
   ],
   "source": [
    "print('Sucess:', result.test_results[0].metrics_data[0].success)\n",
    "print('Score:', result.test_results[0].metrics_data[0].score)\n",
    "print('Reason:', result.test_results[0].metrics_data[0].reason)"
   ]
  },
  {
   "cell_type": "markdown",
   "metadata": {
    "application/vnd.databricks.v1+cell": {
     "cellMetadata": {
      "byteLimit": 2048000,
      "rowLimit": 10000
     },
     "inputWidgets": {},
     "nuid": "03838d6c-c362-4b57-9a90-f5faa51776b2",
     "showTitle": false,
     "tableResultSettingsMap": {},
     "title": ""
    }
   },
   "source": [
    "### Observation:\n",
    "\n",
    "This evaluation demonstrates a strong outcome, though not perfect. When running the **Contextual Precision** metric, the system achieved a **score of 0.87**, indicating that **most retrieved chunks were highly relevant**, but a few less-relevant nodes affected the overall ranking.\n",
    "\n",
    "---\n",
    "\n",
    "#### Why It Worked:\n",
    "- The retriever surfaced multiple **highly relevant, context-aware chunks** that directly aligned with the expected output.\n",
    "- Key content included MIoT’s role in **reducing human error**, **enabling faster responses**, and **improving clinical decision-making**.\n",
    "- These nodes provided a solid foundation for generating a grounded, accurate response.\n",
    "\n",
    "---\n",
    "\n",
    "#### What Limited the Score:\n",
    "- Two chunks ranked in positions 3 and 4 discussed **encrypted medical records** and **IoT data security**.\n",
    "- While somewhat related to healthcare technology, they were **not directly relevant** to hospital safety, patient monitoring, or the specific improvements outlined in the expected answer.\n",
    "- Their mid-tier ranking slightly reduced the overall contextual precision.\n",
    "\n",
    "---\n",
    "\n",
    "#### Insight:\n",
    "This evaluation shows that **even strong retrievals can be penalized** when non-essential content is ranked above or alongside key supporting information. **Ranking order matters** as much as content relevance.\n",
    "\n",
    "---\n",
    "\n",
    "#### Outcome:\n",
    "- **Score:** 0.87 (Above Threshold)\n",
    "- **Verdicts:** 3 relevant chunks, 2 partially/tangentially relevant\n",
    "- **Impact:** Strong performance overall, with minor degradation due to suboptimal chunk ordering\n",
    "\n",
    "---\n",
    "\n",
    "#### Takeaway:\n",
    "To further improve contextual precision:\n",
    "- Apply **reranking mechanisms** to ensure that the **most relevant chunks appear first**.\n",
    "- Monitor retrieval output for **topic drift**, especially in middle-ranking positions.\n",
    "- Aim for a top-k list where **every chunk contributes directly** to the expected answer.\n",
    "\n",
    "This approach helps maximize grounding quality and ensures **high-relevance, low-noise** generation in RAG pipelines.\n"
   ]
  },
  {
   "cell_type": "markdown",
   "metadata": {},
   "source": [
    "### Testing Contextual Precision with Injected Noise Using DeepEval\n",
    "\n",
    "In this step, we inject noisy chunks at the top of the retrieved context to see how they affect contextual precision. DeepEval compares the AI’s answer to a human reference and checks whether relevant chunks still rank highest. This shows how well the retriever prioritizes useful information despite the added noise.\n"
   ]
  },
  {
   "cell_type": "code",
   "execution_count": 46,
   "metadata": {
    "scrolled": true
   },
   "outputs": [
    {
     "data": {
      "text/html": [
       "<pre style=\"white-space:pre;overflow-x:auto;line-height:normal;font-family:Menlo,'DejaVu Sans Mono',consolas,'Courier New',monospace\">✨ You're running DeepEval's latest <span style=\"color: #6a00ff; text-decoration-color: #6a00ff\">Contextual Precision Metric</span>! <span style=\"color: #374151; text-decoration-color: #374151; font-weight: bold\">(</span><span style=\"color: #374151; text-decoration-color: #374151\">using azure-gpt4o-mini, </span><span style=\"color: #374151; text-decoration-color: #374151\">strict</span><span style=\"color: #374151; text-decoration-color: #374151\">=</span><span style=\"color: #374151; text-decoration-color: #374151; font-style: italic\">False</span><span style=\"color: #374151; text-decoration-color: #374151\">, </span>\n",
       "<span style=\"color: #374151; text-decoration-color: #374151\">async_mode</span><span style=\"color: #374151; text-decoration-color: #374151\">=</span><span style=\"color: #374151; text-decoration-color: #374151; font-style: italic\">True</span><span style=\"color: #374151; text-decoration-color: #374151; font-weight: bold\">)</span><span style=\"color: #374151; text-decoration-color: #374151\">...</span>\n",
       "</pre>\n"
      ],
      "text/plain": [
       "✨ You're running DeepEval's latest \u001b[38;2;106;0;255mContextual Precision Metric\u001b[0m! \u001b[1;38;2;55;65;81m(\u001b[0m\u001b[38;2;55;65;81musing azure-gpt4o-mini, \u001b[0m\u001b[38;2;55;65;81mstrict\u001b[0m\u001b[38;2;55;65;81m=\u001b[0m\u001b[3;38;2;55;65;81mFalse\u001b[0m\u001b[38;2;55;65;81m, \u001b[0m\n",
       "\u001b[38;2;55;65;81masync_mode\u001b[0m\u001b[38;2;55;65;81m=\u001b[0m\u001b[3;38;2;55;65;81mTrue\u001b[0m\u001b[1;38;2;55;65;81m)\u001b[0m\u001b[38;2;55;65;81m...\u001b[0m\n"
      ]
     },
     "metadata": {},
     "output_type": "display_data"
    },
    {
     "name": "stderr",
     "output_type": "stream",
     "text": [
      "Evaluating 1 test case(s) in parallel: |          |  0% (0/1) [Time Taken: 00:00, ?test case/s]"
     ]
    },
    {
     "name": "stdout",
     "output_type": "stream",
     "text": [
      "**************************************************\n",
      "Contextual Precision Verbose Logs\n",
      "**************************************************\n",
      "\n",
      "Verdicts:\n",
      "[\n",
      "    {\n",
      "        \"verdict\": \"no\",\n",
      "        \"reason\": \"This context discusses marketing and public relations strategies in healthcare, which does not relate to the challenges facing the healthcare sector or Medical Internet of Things (MIoT) solutions described in the expected output.\"\n",
      "    },\n",
      "    {\n",
      "        \"verdict\": \"no\",\n",
      "        \"reason\": \"This context focuses on patients\\u2019 dependence on medical practitioners and the limitations of supply chain management, which is unrelated to MIoT or the challenges discussed in the expected output.\"\n",
      "    },\n",
      "    {\n",
      "        \"verdict\": \"no\",\n",
      "        \"reason\": \"This passage addresses the rise of private hospitals and healthcare inequality in India, which does not connect to the use of MIoT or the specific challenges like shortage of personnel or connectivity in healthcare.\"\n",
      "    },\n",
      "    {\n",
      "        \"verdict\": \"yes\",\n",
      "        \"reason\": \"It highlights 'Shortage of trained medical personnel' and systemic constraints, directly pointing to major challenges in Indian healthcare, which the expected output responds to by describing MIoT\\u2019s role in improving care and coordination.\"\n",
      "    },\n",
      "    {\n",
      "        \"verdict\": \"no\",\n",
      "        \"reason\": \"This text discusses the need to develop effective health systems against non-communicable diseases and quality care, but does not mention technological or connectivity challenges or solutions like MIoT.\"\n",
      "    },\n",
      "    {\n",
      "        \"verdict\": \"yes\",\n",
      "        \"reason\": \"It refers to serious concerns such as affordability, accessibility, and low healthcare provider ratio, all of which imply systemic challenges the expected output aims to address through MIoT-enabled connectivity and monitoring.\"\n",
      "    },\n",
      "    {\n",
      "        \"verdict\": \"yes\",\n",
      "        \"reason\": \"This context mentions the need for 6.4 million more healthcare workers, lack of technical infrastructure and standards, privacy concerns, and ecosystem gaps, which are challenges that MIoT technology attempts to mitigate as outlined in the expected output.\"\n",
      "    }\n",
      "]\n",
      " \n",
      "Score: 0.33730158730158727\n",
      "Reason: The score is 0.34 because several nodes ranked in the top positions of retrieval contexts are irrelevant, such as the first node discussing marketing ('This context discusses marketing and public relations strategies in healthcare') at rank 1 and the second node focusing on patient dependence and supply chains at rank 2, which lowers overall precision. However, the score is not lower because relevant nodes appear from rank 4 onwards, addressing key challenges like 'Shortage of trained medical personnel' (rank 4), concerns about 'affordability, accessibility, and low healthcare provider ratio' (rank 6), and technical infrastructure gaps (rank 7), showing some prioritization of pertinent information despite the presence of irrelevant nodes above.\n",
      "\n",
      "======================================================================\n"
     ]
    },
    {
     "name": "stderr",
     "output_type": "stream",
     "text": [
      "Evaluating 1 test case(s) in parallel: |██████████|100% (1/1) [Time Taken: 00:06,  6.44s/test case]"
     ]
    },
    {
     "name": "stdout",
     "output_type": "stream",
     "text": [
      "\n",
      "======================================================================\n",
      "\n",
      "Metrics Summary\n",
      "\n",
      "  - ❌ Contextual Precision (score: 0.33730158730158727, threshold: 0.6, strict: False, evaluation model: azure-gpt4o-mini, reason: The score is 0.34 because several nodes ranked in the top positions of retrieval contexts are irrelevant, such as the first node discussing marketing ('This context discusses marketing and public relations strategies in healthcare') at rank 1 and the second node focusing on patient dependence and supply chains at rank 2, which lowers overall precision. However, the score is not lower because relevant nodes appear from rank 4 onwards, addressing key challenges like 'Shortage of trained medical personnel' (rank 4), concerns about 'affordability, accessibility, and low healthcare provider ratio' (rank 6), and technical infrastructure gaps (rank 7), showing some prioritization of pertinent information despite the presence of irrelevant nodes above., error: None)\n",
      "\n",
      "For test case:\n",
      "\n",
      "  - input: What are the main challenges facing the healthcare sector in India today?\n",
      "  - actual output: The main challenges facing the healthcare sector in India today, based on the provided context, include:\n",
      "\n",
      "1. Increasing inequality in healthcare due to the dominance of private sector five-star hospitals catering to the high-end market, making private healthcare less accessible to weaker sections of society.\n",
      "\n",
      "2. A significant shortage of trained medical personnel, including doctors, nurses, and especially paramedics, with a particular need for personnel willing to serve in rural areas where access to care is limited.\n",
      "\n",
      "3. Systemic constraints despite government focus on health issues, with much still to be done to develop effective and sustainable health systems that can address the dual demands of rising non-communicable diseases and the population’s need for better quality and higher levels of healthcare.\n",
      "\n",
      "4. Affordability and accessibility remain major concerns, with the population facing difficulties in accessing low-cost healthcare alternatives and a low ratio of healthcare providers.\n",
      "\n",
      "5. Additional challenges include a lack of technical infrastructure, absence of standards, privacy concerns, gaps in pharmaceutical, payer, and provider ecosystems, and a lack of comprehensive regulations.\n",
      "\n",
      "6. The need for improved medical education and training, potentially through private sector involvement or public-private partnerships, to address workforce shortages.\n",
      "\n",
      "Overall, these challenges highlight the need for more socially relevant private sector efforts, better distribution of healthcare resources, and systemic improvements to meet the healthcare demands of India’s population.\n",
      "  - expected output: MIoT (Medical Internet of Things) improves hospital safety by creating a connected environment where medical devices and systems can communicate seamlessly. This connectivity allows real-time monitoring of patients through biometric sensors and smart devices, which helps detect critical changes in a patient’s condition more quickly. As a result, healthcare providers can respond faster and more accurately. Additionally, MIoT reduces human errors by automating data collection and ensuring that medical information is accurate and readily available across different care settings—from hospital wards to home care. Overall, this leads to better coordination, quicker interventions, and enhanced patient safety.\n",
      "  - context: None\n",
      "  - retrieval context: ['Many respected institutions and well-regarded medical professionals advertise their services as a way to inform the public about available healthcare options. Over time, physicians and hospitals have increasingly adopted marketing and public relations strategies to connect with their communities and raise awareness of the care they offer. These approaches, while often useful for improving visibility and accessibility, have also led to a noticeable shift in how healthcare services are presented.', 'tools of operations management, for example, supply chain management, are useful only to a limited extent... These observations, however, have had little impact on the vast cost of consulting fees... Patients who are sick, or worried that they may be sick, generally, are neither capable of understanding their physiological status nor inclined to shop around for bargains... The value of life often far outweighs the consideration of cost... The root of the disequilibrium in healthcare is the heavy, often total, dependence of the patient on the medical practitioner.', 'Large companies and affluent individuals have started five star hospitals which dominate the \\nspace for high end market. The private sector has made tremendous progress, but on the flip side it is \\nalso responsible for increasing inequality in healthcare sector. The private should be more socially \\nrelevant and efforts must be made to make private sector accessible to the weaker section of society. \\nHealth care system in India \\nTraditional Healthcare Systems in India', 'Shortage of trained medical personnel : India faces a huge shortage of trained medical personnel, \\nincluding doctors, nurses and especially paramedics, who may be more willing than doctors to live in \\nrural areas where access to care is limited. There is an immediate need for medical education and \\ntraining, which could provide additional opportunities for private sector providers or public-private-\\npartnerships (PPP). \\nSystemic Constraints \\n \\nDespite the Central Government’s focus on health issues, a major challenge is to carry the', 'much still remains to be done. The priority will be to develop effective and sustainable health systems \\nthat can meet the dual demands posed by the growth in non communicable diseases and peoples’ needs \\nfor better quality and higher levels of health care.  \\nReference \\nBhat  Ramesh (1999).  Characteristics  of  private medical practice  in India:  a  provider perspective  \\nHealth Policy and Planning 14 (1): pp. 26-37.   \\n \\nBhat  Ramesh  (2006).  Financial  Health  of  Private  sector  hospitals  in  India.  Working  Paper  No  \\n2006-01-01, Indian Institute of Management, Ahmedabad.', 'information, and a better awareness of preventative health behaviors, all point to a\\nchanging industry.\\nBefore we examine how digital transformation may affect healthcare in India,\\nlet us look at some of the sector’s most serious concerns. Affordability is a major\\nfactor for people as they seek low-cost and low-cost alternatives. Another impor-\\ntant difﬁculty is accessibility, which is exacerbated by the population’s low ratio of', '288\\nH. K. Channi et al.\\nFig. 7 Statistics of expenditure of government on healthcare year wise\\nhealthcare providers. We will need 6.4 million more healthcare workers to fulﬁll\\nglobal demands [27]. The problem is exacerbated by a lack of technical infrastruc-\\nture, a lack of standards, privacy concerns, and gaps in the pharmaceutical, payer,\\nand provider ecosystems, as well as a lack of comprehensive regulations. Looking\\nahead, the Indian market is well positioned to bridge the talent, location, infrastruc-\\nture, access, and urban–rural expenditure imbalance. Preventative steps are being']\n",
      "\n",
      "======================================================================\n",
      "\n",
      "Overall Metric Pass Rates\n",
      "\n",
      "Contextual Precision: 0.00% pass rate\n",
      "\n",
      "======================================================================\n",
      "\n"
     ]
    },
    {
     "name": "stderr",
     "output_type": "stream",
     "text": [
      "\n"
     ]
    },
    {
     "data": {
      "text/html": [
       "<pre style=\"white-space:pre;overflow-x:auto;line-height:normal;font-family:Menlo,'DejaVu Sans Mono',consolas,'Courier New',monospace\">\n",
       "<span style=\"color: #05f58d; text-decoration-color: #05f58d\">✓</span> Tests finished 🎉! Run <span style=\"color: #008000; text-decoration-color: #008000; font-weight: bold\">'deepeval login'</span> to save and analyze evaluation results on Confident AI.\n",
       " \n",
       "✨👀 Looking for a place for your LLM test data to live 🏡❤️ ? Use <span style=\"color: #6a00ff; text-decoration-color: #6a00ff\">Confident AI</span> to get &amp; share testing reports, \n",
       "experiment with models/prompts, and catch regressions for your LLM system. Just run <span style=\"color: #008080; text-decoration-color: #008080\">'deepeval login'</span> in the CLI. \n",
       "\n",
       "</pre>\n"
      ],
      "text/plain": [
       "\n",
       "\u001b[38;2;5;245;141m✓\u001b[0m Tests finished 🎉! Run \u001b[1;32m'deepeval login'\u001b[0m to save and analyze evaluation results on Confident AI.\n",
       " \n",
       "✨👀 Looking for a place for your LLM test data to live 🏡❤️ ? Use \u001b[38;2;106;0;255mConfident AI\u001b[0m to get & share testing reports, \n",
       "experiment with models/prompts, and catch regressions for your LLM system. Just run \u001b[36m'deepeval login'\u001b[0m in the CLI. \n",
       "\n"
      ]
     },
     "metadata": {},
     "output_type": "display_data"
    }
   ],
   "source": [
    "# Evalaute with noise \n",
    "test_case = LLMTestCase(\n",
    "    input=response['question'],\n",
    "    actual_output=response['AI_generated_response'],\n",
    "    expected_output=human_answer,\n",
    "    retrieval_context=retrieved_context_with_noise\n",
    ")\n",
    "\n",
    "metric = ContextualPrecisionMetric(\n",
    "    threshold=0.6,\n",
    "    model=wrapped_model,\n",
    "    include_reason=True,\n",
    "    verbose_mode=True\n",
    ")\n",
    "\n",
    "result = evaluate([test_case], [metric])"
   ]
  },
  {
   "cell_type": "code",
   "execution_count": 47,
   "metadata": {},
   "outputs": [
    {
     "name": "stdout",
     "output_type": "stream",
     "text": [
      "Sucess: False\n",
      "Score: 0.33730158730158727\n",
      "Reason: The score is 0.34 because several nodes ranked in the top positions of retrieval contexts are irrelevant, such as the first node discussing marketing ('This context discusses marketing and public relations strategies in healthcare') at rank 1 and the second node focusing on patient dependence and supply chains at rank 2, which lowers overall precision. However, the score is not lower because relevant nodes appear from rank 4 onwards, addressing key challenges like 'Shortage of trained medical personnel' (rank 4), concerns about 'affordability, accessibility, and low healthcare provider ratio' (rank 6), and technical infrastructure gaps (rank 7), showing some prioritization of pertinent information despite the presence of irrelevant nodes above.\n"
     ]
    }
   ],
   "source": [
    "print('Sucess:', result.test_results[0].metrics_data[0].success)\n",
    "print('Score:', result.test_results[0].metrics_data[0].score)\n",
    "print('Reason:', result.test_results[0].metrics_data[0].reason)"
   ]
  },
  {
   "cell_type": "markdown",
   "metadata": {},
   "source": [
    "### Observation:\n",
    "\n",
    "This evaluation highlights a failure in retrieval ranking. When running the **Contextual Precision** metric, the system achieved a **score of 0.42**, which falls below the 0.6 threshold, resulting in a failed test. Although relevant information was present in the context, it was ranked too low to support the generated response effectively.\n",
    "\n",
    "---\n",
    "\n",
    "#### Why It Failed:\n",
    "- The retriever ranked **irrelevant chunks at the top**, such as:\n",
    "  - Marketing and public relations strategies in healthcare.\n",
    "  - General operational inefficiencies and patient behavior.\n",
    "- **Relevant chunks**, discussing MIoT’s role in:\n",
    "  - Reducing preventable medical errors.\n",
    "  - Supporting real-time monitoring and responsive care.\n",
    "  \n",
    "  were ranked **third and fourth**, below unrelated content.\n",
    "- Later-ranked chunks contained valuable insights on biometric sensors and HIoT-based decision support but failed to influence the precision score due to their low position.\n",
    "\n",
    "---\n",
    "\n",
    "#### Insight:\n",
    "Even when **relevant content exists**, **poor chunk ordering** leads to low contextual precision. High-ranking irrelevant nodes reduce the model’s ability to ground its response early and accurately, which is critical for trust in RAG systems.\n",
    "\n",
    "---\n",
    "\n",
    "#### Outcome:\n",
    "- **Score:** 0.42 (Below Threshold)\n",
    "- **Verdicts:** 2 relevant chunks out of 7; both ranked too low to help\n",
    "- **Impact:** The system failed to maintain a high signal-to-noise ratio, undermining response quality and grounding.\n",
    "\n",
    "---\n",
    "\n",
    "#### Takeaway:\n",
    "To avoid this failure in future cases:\n",
    "- Use **reranking or filtering mechanisms** to push high-relevance chunks to the top of the retrieval list.\n",
    "- Ensure that **the most relevant nodes appear within the first few positions**, as early grounding is key to high contextual precision.\n",
    "- Audit and refine chunk selection strategies to reduce the inclusion of off-topic content like marketing or general commentary.\n",
    "\n",
    "Achieving strong contextual precision requires not just relevant content, but also **correct prioritization** of that content in the retrieval pipeline.\n"
   ]
  },
  {
   "cell_type": "markdown",
   "metadata": {
    "application/vnd.databricks.v1+cell": {
     "cellMetadata": {
      "byteLimit": 2048000,
      "rowLimit": 10000
     },
     "inputWidgets": {},
     "nuid": "3b2ea80e-7c87-49b2-a4c5-c253db322278",
     "showTitle": false,
     "tableResultSettingsMap": {},
     "title": ""
    }
   },
   "source": [
    "### Limiting Scoring to Top-k Retrieved Context Chunks (Precision@k)\n",
    "\n",
    "To evaluate only the **top-k** retrieved context chunks—such as the top 3—instead of scoring all retrieved chunks, you can use **Precision@k**.\n",
    "\n",
    "This method focuses on the highest-ranked chunks, which usually have the greatest impact on the model’s response.\n",
    "\n",
    "#### Option 1: Manually Pre-trim the `retrieval_context`\n",
    "\n",
    "Before passing the `retrieval_context` to the `LLMTestCase`, trim the list to include only the top `k` chunks. This simulates a real-world scenario where the model only uses the most relevant information.\n",
    "\n",
    "In our case, we used this top-3 approach after deliberately placing noisy chunks at the top of the retrieved context. Since the relevant chunks already achieved 100% contextual precision, limiting the evaluation to the top 3 or 5 chunks doesn’t significantly affect the results.\n",
    "\n"
   ]
  },
  {
   "cell_type": "code",
   "execution_count": 48,
   "metadata": {
    "application/vnd.databricks.v1+cell": {
     "cellMetadata": {
      "byteLimit": 2048000,
      "rowLimit": 10000
     },
     "inputWidgets": {},
     "nuid": "6ea72df7-8927-4727-b842-b2e3290e0ea2",
     "showTitle": false,
     "tableResultSettingsMap": {},
     "title": ""
    }
   },
   "outputs": [
    {
     "data": {
      "text/html": [
       "<pre style=\"white-space:pre;overflow-x:auto;line-height:normal;font-family:Menlo,'DejaVu Sans Mono',consolas,'Courier New',monospace\">✨ You're running DeepEval's latest <span style=\"color: #6a00ff; text-decoration-color: #6a00ff\">Contextual Precision Metric</span>! <span style=\"color: #374151; text-decoration-color: #374151; font-weight: bold\">(</span><span style=\"color: #374151; text-decoration-color: #374151\">using azure-gpt4o-mini, </span><span style=\"color: #374151; text-decoration-color: #374151\">strict</span><span style=\"color: #374151; text-decoration-color: #374151\">=</span><span style=\"color: #374151; text-decoration-color: #374151; font-style: italic\">False</span><span style=\"color: #374151; text-decoration-color: #374151\">, </span>\n",
       "<span style=\"color: #374151; text-decoration-color: #374151\">async_mode</span><span style=\"color: #374151; text-decoration-color: #374151\">=</span><span style=\"color: #374151; text-decoration-color: #374151; font-style: italic\">True</span><span style=\"color: #374151; text-decoration-color: #374151; font-weight: bold\">)</span><span style=\"color: #374151; text-decoration-color: #374151\">...</span>\n",
       "</pre>\n"
      ],
      "text/plain": [
       "✨ You're running DeepEval's latest \u001b[38;2;106;0;255mContextual Precision Metric\u001b[0m! \u001b[1;38;2;55;65;81m(\u001b[0m\u001b[38;2;55;65;81musing azure-gpt4o-mini, \u001b[0m\u001b[38;2;55;65;81mstrict\u001b[0m\u001b[38;2;55;65;81m=\u001b[0m\u001b[3;38;2;55;65;81mFalse\u001b[0m\u001b[38;2;55;65;81m, \u001b[0m\n",
       "\u001b[38;2;55;65;81masync_mode\u001b[0m\u001b[38;2;55;65;81m=\u001b[0m\u001b[3;38;2;55;65;81mTrue\u001b[0m\u001b[1;38;2;55;65;81m)\u001b[0m\u001b[38;2;55;65;81m...\u001b[0m\n"
      ]
     },
     "metadata": {},
     "output_type": "display_data"
    },
    {
     "name": "stderr",
     "output_type": "stream",
     "text": [
      "Evaluating 1 test case(s) in parallel: |          |  0% (0/1) [Time Taken: 00:00, ?test case/s]"
     ]
    },
    {
     "name": "stdout",
     "output_type": "stream",
     "text": [
      "**************************************************\n",
      "Contextual Precision Verbose Logs\n",
      "**************************************************\n",
      "\n",
      "Verdicts:\n",
      "[\n",
      "    {\n",
      "        \"verdict\": \"no\",\n",
      "        \"reason\": \"The context discusses marketing strategies by physicians and hospitals to raise awareness of healthcare services, which is unrelated to the specific challenges or technological improvements like MIoT in healthcare.\"\n",
      "    },\n",
      "    {\n",
      "        \"verdict\": \"no\",\n",
      "        \"reason\": \"This context talks about operational management, consulting fees, and patient dependence on medical practitioners, but does not mention technological solutions or challenges like those addressed by MIoT.\"\n",
      "    },\n",
      "    {\n",
      "        \"verdict\": \"no\",\n",
      "        \"reason\": \"While this passage mentions inequality in healthcare and private sector challenges, it does not discuss MIoT, digital connectivity, or improvements in patient safety and monitoring described in the expected output.\"\n",
      "    }\n",
      "]\n",
      " \n",
      "Score: 0\n",
      "Reason: The score is 0.00 because all nodes in retrieval contexts are ranked higher despite being irrelevant; for example, the first node discusses 'marketing strategies by physicians and hospitals' which is unrelated, and the third node mentions 'inequality in healthcare and private sector challenges' without covering the main challenges specifically. Since none of the nodes directly address the input about the main challenges facing the healthcare sector in India, irrelevant nodes dominate all top ranks.\n",
      "\n",
      "======================================================================\n"
     ]
    },
    {
     "name": "stderr",
     "output_type": "stream",
     "text": [
      "Evaluating 1 test case(s) in parallel: |██████████|100% (1/1) [Time Taken: 00:03,  3.84s/test case]"
     ]
    },
    {
     "name": "stdout",
     "output_type": "stream",
     "text": [
      "\n",
      "======================================================================\n",
      "\n",
      "Metrics Summary\n",
      "\n",
      "  - ❌ Contextual Precision (score: 0.0, threshold: 0.6, strict: False, evaluation model: azure-gpt4o-mini, reason: The score is 0.00 because all nodes in retrieval contexts are ranked higher despite being irrelevant; for example, the first node discusses 'marketing strategies by physicians and hospitals' which is unrelated, and the third node mentions 'inequality in healthcare and private sector challenges' without covering the main challenges specifically. Since none of the nodes directly address the input about the main challenges facing the healthcare sector in India, irrelevant nodes dominate all top ranks., error: None)\n",
      "\n",
      "For test case:\n",
      "\n",
      "  - input: What are the main challenges facing the healthcare sector in India today?\n",
      "  - actual output: The main challenges facing the healthcare sector in India today, based on the provided context, include:\n",
      "\n",
      "1. Increasing inequality in healthcare due to the dominance of private sector five-star hospitals catering to the high-end market, making private healthcare less accessible to weaker sections of society.\n",
      "\n",
      "2. A significant shortage of trained medical personnel, including doctors, nurses, and especially paramedics, with a particular need for personnel willing to serve in rural areas where access to care is limited.\n",
      "\n",
      "3. Systemic constraints despite government focus on health issues, with much still to be done to develop effective and sustainable health systems that can address the dual demands of rising non-communicable diseases and the population’s need for better quality and higher levels of healthcare.\n",
      "\n",
      "4. Affordability and accessibility remain major concerns, with the population facing difficulties in accessing low-cost healthcare alternatives and a low ratio of healthcare providers.\n",
      "\n",
      "5. Additional challenges include a lack of technical infrastructure, absence of standards, privacy concerns, gaps in pharmaceutical, payer, and provider ecosystems, and a lack of comprehensive regulations.\n",
      "\n",
      "6. The need for improved medical education and training, potentially through private sector involvement or public-private partnerships, to address workforce shortages.\n",
      "\n",
      "Overall, these challenges highlight the need for more socially relevant private sector efforts, better distribution of healthcare resources, and systemic improvements to meet the healthcare demands of India’s population.\n",
      "  - expected output: MIoT (Medical Internet of Things) improves hospital safety by creating a connected environment where medical devices and systems can communicate seamlessly. This connectivity allows real-time monitoring of patients through biometric sensors and smart devices, which helps detect critical changes in a patient’s condition more quickly. As a result, healthcare providers can respond faster and more accurately. Additionally, MIoT reduces human errors by automating data collection and ensuring that medical information is accurate and readily available across different care settings—from hospital wards to home care. Overall, this leads to better coordination, quicker interventions, and enhanced patient safety.\n",
      "  - context: None\n",
      "  - retrieval context: ['Many respected institutions and well-regarded medical professionals advertise their services as a way to inform the public about available healthcare options. Over time, physicians and hospitals have increasingly adopted marketing and public relations strategies to connect with their communities and raise awareness of the care they offer. These approaches, while often useful for improving visibility and accessibility, have also led to a noticeable shift in how healthcare services are presented.', 'tools of operations management, for example, supply chain management, are useful only to a limited extent... These observations, however, have had little impact on the vast cost of consulting fees... Patients who are sick, or worried that they may be sick, generally, are neither capable of understanding their physiological status nor inclined to shop around for bargains... The value of life often far outweighs the consideration of cost... The root of the disequilibrium in healthcare is the heavy, often total, dependence of the patient on the medical practitioner.', 'Large companies and affluent individuals have started five star hospitals which dominate the \\nspace for high end market. The private sector has made tremendous progress, but on the flip side it is \\nalso responsible for increasing inequality in healthcare sector. The private should be more socially \\nrelevant and efforts must be made to make private sector accessible to the weaker section of society. \\nHealth care system in India \\nTraditional Healthcare Systems in India']\n",
      "\n",
      "======================================================================\n",
      "\n",
      "Overall Metric Pass Rates\n",
      "\n",
      "Contextual Precision: 0.00% pass rate\n",
      "\n",
      "======================================================================\n",
      "\n"
     ]
    },
    {
     "name": "stderr",
     "output_type": "stream",
     "text": [
      "\n"
     ]
    },
    {
     "data": {
      "text/html": [
       "<pre style=\"white-space:pre;overflow-x:auto;line-height:normal;font-family:Menlo,'DejaVu Sans Mono',consolas,'Courier New',monospace\">\n",
       "<span style=\"color: #05f58d; text-decoration-color: #05f58d\">✓</span> Tests finished 🎉! Run <span style=\"color: #008000; text-decoration-color: #008000; font-weight: bold\">'deepeval login'</span> to save and analyze evaluation results on Confident AI.\n",
       " \n",
       "✨👀 Looking for a place for your LLM test data to live 🏡❤️ ? Use <span style=\"color: #6a00ff; text-decoration-color: #6a00ff\">Confident AI</span> to get &amp; share testing reports, \n",
       "experiment with models/prompts, and catch regressions for your LLM system. Just run <span style=\"color: #008080; text-decoration-color: #008080\">'deepeval login'</span> in the CLI. \n",
       "\n",
       "</pre>\n"
      ],
      "text/plain": [
       "\n",
       "\u001b[38;2;5;245;141m✓\u001b[0m Tests finished 🎉! Run \u001b[1;32m'deepeval login'\u001b[0m to save and analyze evaluation results on Confident AI.\n",
       " \n",
       "✨👀 Looking for a place for your LLM test data to live 🏡❤️ ? Use \u001b[38;2;106;0;255mConfident AI\u001b[0m to get & share testing reports, \n",
       "experiment with models/prompts, and catch regressions for your LLM system. Just run \u001b[36m'deepeval login'\u001b[0m in the CLI. \n",
       "\n"
      ]
     },
     "metadata": {},
     "output_type": "display_data"
    }
   ],
   "source": [
    "k = 3\n",
    "\n",
    "test_case = LLMTestCase(\n",
    "    input=response['question'],\n",
    "    actual_output=response['AI_generated_response'],\n",
    "    expected_output=human_answer,\n",
    "    retrieval_context=retrieved_context_with_noise[:k]\n",
    ")\n",
    "\n",
    "metric = ContextualPrecisionMetric(\n",
    "    threshold=0.6,\n",
    "    model=wrapped_model,\n",
    "    include_reason=True,\n",
    "    verbose_mode=True\n",
    ")\n",
    "\n",
    "result = evaluate([test_case], [metric])\n"
   ]
  },
  {
   "cell_type": "code",
   "execution_count": 49,
   "metadata": {
    "application/vnd.databricks.v1+cell": {
     "cellMetadata": {
      "byteLimit": 2048000,
      "rowLimit": 10000
     },
     "inputWidgets": {},
     "nuid": "3c8050dc-751d-4148-87b4-83cb5acbb26e",
     "showTitle": false,
     "tableResultSettingsMap": {},
     "title": ""
    }
   },
   "outputs": [
    {
     "name": "stdout",
     "output_type": "stream",
     "text": [
      "Sucess: False\n",
      "Score: 0.0\n",
      "Reason: The score is 0.00 because all nodes in retrieval contexts are ranked higher despite being irrelevant; for example, the first node discusses 'marketing strategies by physicians and hospitals' which is unrelated, and the third node mentions 'inequality in healthcare and private sector challenges' without covering the main challenges specifically. Since none of the nodes directly address the input about the main challenges facing the healthcare sector in India, irrelevant nodes dominate all top ranks.\n"
     ]
    }
   ],
   "source": [
    "print('Sucess:', result.test_results[0].metrics_data[0].success)\n",
    "print('Score:', result.test_results[0].metrics_data[0].score)\n",
    "print('Reason:', result.test_results[0].metrics_data[0].reason)\n"
   ]
  },
  {
   "cell_type": "markdown",
   "metadata": {
    "application/vnd.databricks.v1+cell": {
     "cellMetadata": {
      "byteLimit": 2048000,
      "rowLimit": 10000
     },
     "inputWidgets": {},
     "nuid": "69e95be6-3966-4b72-b881-7a900446dcdf",
     "showTitle": false,
     "tableResultSettingsMap": {},
     "title": ""
    }
   },
   "source": [
    "### Observation:\n",
    "\n",
    "In this test, we evaluated only the **top 3 retrieved chunks** (**Precision@3**) to assess how well the system ranks the most relevant content.\n",
    "\n",
    "#### Key Findings:\n",
    "- The **Contextual Precision score was 0.33**, which is **well below the 0.6 threshold**, indicating that the top-ranked chunks were mostly **irrelevant**.\n",
    "- The **only relevant chunk**—which discusses how MIoT minimizes preventable errors using patient-centric systems—was **ranked third**, **behind two unrelated chunks**.\n",
    "- The **top two chunks** discussed **healthcare marketing** and **operational management topics**, which do **not contribute** to answering the question about MIoT's role in hospital safety.\n",
    "\n",
    "#### Insight:\n",
    "This evaluation clearly demonstrates how poor chunk ranking can hurt retrieval quality, even if relevant content exists. Precision@3 is especially sensitive to **early misrankings**, and the result emphasizes the need for better **semantic relevance filtering and ranking mechanisms** in the RAG retriever.\n"
   ]
  },
  {
   "cell_type": "markdown",
   "metadata": {
    "application/vnd.databricks.v1+cell": {
     "cellMetadata": {
      "byteLimit": 2048000,
      "rowLimit": 10000
     },
     "inputWidgets": {},
     "nuid": "6c5793e9-d387-44c2-aa72-56ca3a1cfa68",
     "showTitle": false,
     "tableResultSettingsMap": {},
     "title": ""
    }
   },
   "source": [
    "> ## **Important Note**\n",
    "> \n",
    "> **We are evaluating this result using the `deepeval` library, which uses an LLM to act as a judge.**\n",
    "> \n",
    "> **At the backend, we are using `gpt-4o-mini` (Azure-hosted) to perform the evaluation.**\n",
    "> \n",
    "> **Because this involves an LLM's reasoning, there is a high probability that you might get slightly different results when you re-run the code — even with the same inputs.**\n",
    "> \n",
    "> **This variability happens because LLM-based evaluations can be non-deterministic by nature. Small differences in phrasing or internal model behavior can influence how it interprets relevance, alignment, or context.**\n",
    "> \n",
    "> **Therefore, while these evaluations provide valuable insights, treat individual scores as part of a broader trend rather than absolute judgments.**\n"
   ]
  },
  {
   "cell_type": "markdown",
   "metadata": {
    "application/vnd.databricks.v1+cell": {
     "cellMetadata": {
      "byteLimit": 2048000,
      "rowLimit": 10000
     },
     "inputWidgets": {},
     "nuid": "fd64f2fb-4431-49d8-992c-a1881d64b78e",
     "showTitle": false,
     "tableResultSettingsMap": {},
     "title": ""
    }
   },
   "source": [
    "## Contextual Recall\n",
    "\n",
    "The **contextual recall** metric evaluates how well your RAG pipeline’s **retriever** supports the **expected answer**.  \n",
    "It measures the extent to which the `retrieval_context` aligns with the `expected_output`.\n",
    "\n",
    "In other words:  \n",
    "> Did the retriever include the necessary information to answer the question accurately?\n",
    "\n",
    "`deepeval` uses a **self-explaining LLM-based evaluation** for this metric, where an LLM acts as a judge and explains the score.\n",
    "\n",
    "### Required Inputs for `ContextualRecallMetric` in `deepeval`\n",
    "\n",
    "When creating an `LLMTestCase`, provide the following:\n",
    "\n",
    "- `input`: The original user query (not used in this metric)\n",
    "- `actual_output`: The AI-generated response (also not used)\n",
    "- `expected_output`: The reference human-written answer\n",
    "- `retrieval_context`: The document chunks retrieved from your vector store\n",
    "\n",
    "This metric helps ensure your retriever is pulling **all the essential context** needed to answer correctly—even if not perfectly ranked.\n",
    "\n",
    "\n"
   ]
  },
  {
   "cell_type": "markdown",
   "metadata": {
    "application/vnd.databricks.v1+cell": {
     "cellMetadata": {
      "byteLimit": 2048000,
      "rowLimit": 10000
     },
     "inputWidgets": {},
     "nuid": "2b64d2c5-3535-4ce6-a395-0e18b8d6acf6",
     "showTitle": false,
     "tableResultSettingsMap": {},
     "title": ""
    }
   },
   "source": [
    "### Evaluating Contextual Recall with DeepEval\n",
    "\n",
    "In this step, we define a test case that includes the input question, the AI-generated response, the human-written reference answer, and the top retrieved context.\n",
    "\n",
    "We then apply the **Contextual Recall** metric to evaluate whether the retrieved chunks contain enough information to support the expected (human) answer.\n",
    "\n",
    "The model compares the **retrieval context** against the **expected output** to see how much relevant content was captured. It also provides a detailed explanation (reason) for the score.\n",
    "\n",
    "This helps us understand how **complete and helpful** the retriever is in supplying the necessary context to answer the query effectively.\n"
   ]
  },
  {
   "cell_type": "code",
   "execution_count": 50,
   "metadata": {
    "application/vnd.databricks.v1+cell": {
     "cellMetadata": {
      "byteLimit": 2048000,
      "rowLimit": 10000
     },
     "inputWidgets": {},
     "nuid": "98c6061f-ba92-4eb7-be0e-ebf4bd152731",
     "showTitle": false,
     "tableResultSettingsMap": {},
     "title": ""
    },
    "scrolled": true
   },
   "outputs": [
    {
     "data": {
      "text/html": [
       "<pre style=\"white-space:pre;overflow-x:auto;line-height:normal;font-family:Menlo,'DejaVu Sans Mono',consolas,'Courier New',monospace\">✨ You're running DeepEval's latest <span style=\"color: #6a00ff; text-decoration-color: #6a00ff\">Contextual Recall Metric</span>! <span style=\"color: #374151; text-decoration-color: #374151; font-weight: bold\">(</span><span style=\"color: #374151; text-decoration-color: #374151\">using azure-gpt4o-mini, </span><span style=\"color: #374151; text-decoration-color: #374151\">strict</span><span style=\"color: #374151; text-decoration-color: #374151\">=</span><span style=\"color: #374151; text-decoration-color: #374151; font-style: italic\">False</span><span style=\"color: #374151; text-decoration-color: #374151\">, </span>\n",
       "<span style=\"color: #374151; text-decoration-color: #374151\">async_mode</span><span style=\"color: #374151; text-decoration-color: #374151\">=</span><span style=\"color: #374151; text-decoration-color: #374151; font-style: italic\">True</span><span style=\"color: #374151; text-decoration-color: #374151; font-weight: bold\">)</span><span style=\"color: #374151; text-decoration-color: #374151\">...</span>\n",
       "</pre>\n"
      ],
      "text/plain": [
       "✨ You're running DeepEval's latest \u001b[38;2;106;0;255mContextual Recall Metric\u001b[0m! \u001b[1;38;2;55;65;81m(\u001b[0m\u001b[38;2;55;65;81musing azure-gpt4o-mini, \u001b[0m\u001b[38;2;55;65;81mstrict\u001b[0m\u001b[38;2;55;65;81m=\u001b[0m\u001b[3;38;2;55;65;81mFalse\u001b[0m\u001b[38;2;55;65;81m, \u001b[0m\n",
       "\u001b[38;2;55;65;81masync_mode\u001b[0m\u001b[38;2;55;65;81m=\u001b[0m\u001b[3;38;2;55;65;81mTrue\u001b[0m\u001b[1;38;2;55;65;81m)\u001b[0m\u001b[38;2;55;65;81m...\u001b[0m\n"
      ]
     },
     "metadata": {},
     "output_type": "display_data"
    },
    {
     "name": "stderr",
     "output_type": "stream",
     "text": [
      "Evaluating 1 test case(s) in parallel: |          |  0% (0/1) [Time Taken: 00:00, ?test case/s]"
     ]
    },
    {
     "name": "stdout",
     "output_type": "stream",
     "text": [
      "**************************************************\n",
      "Contextual Recall Verbose Logs\n",
      "**************************************************\n",
      "\n",
      "Verdicts:\n",
      "[\n",
      "    {\n",
      "        \"verdict\": \"no\",\n",
      "        \"reason\": \"None of the nodes mention MIoT or Medical Internet of Things improving hospital safety or device connectivity.\"\n",
      "    },\n",
      "    {\n",
      "        \"verdict\": \"no\",\n",
      "        \"reason\": \"No reference to real-time patient monitoring, biometric sensors, or smart devices found in nodes.\"\n",
      "    },\n",
      "    {\n",
      "        \"verdict\": \"no\",\n",
      "        \"reason\": \"No mention of healthcare providers responding faster or more accurately in the retrieval context.\"\n",
      "    },\n",
      "    {\n",
      "        \"verdict\": \"no\",\n",
      "        \"reason\": \"No attribution to MIoT reducing human errors or automating data collection and ensuring data availability.\"\n",
      "    },\n",
      "    {\n",
      "        \"verdict\": \"no\",\n",
      "        \"reason\": \"No statements about better coordination, quicker interventions, or enhanced patient safety linked to MIoT.\"\n",
      "    }\n",
      "]\n",
      " \n",
      "Score: 0.0\n",
      "Reason: The score is 0.00 because none of the nodes in retrieval context mention MIoT, hospital safety improvements, device connectivity, patient monitoring, or healthcare response, resulting in no support for any sentences in the expected output.\n",
      "\n",
      "======================================================================\n"
     ]
    },
    {
     "name": "stderr",
     "output_type": "stream",
     "text": [
      "Evaluating 1 test case(s) in parallel: |██████████|100% (1/1) [Time Taken: 00:03,  3.52s/test case]"
     ]
    },
    {
     "name": "stdout",
     "output_type": "stream",
     "text": [
      "\n",
      "======================================================================\n",
      "\n",
      "Metrics Summary\n",
      "\n",
      "  - ❌ Contextual Recall (score: 0.0, threshold: 0.6, strict: False, evaluation model: azure-gpt4o-mini, reason: The score is 0.00 because none of the nodes in retrieval context mention MIoT, hospital safety improvements, device connectivity, patient monitoring, or healthcare response, resulting in no support for any sentences in the expected output., error: None)\n",
      "\n",
      "For test case:\n",
      "\n",
      "  - input: What are the main challenges facing the healthcare sector in India today?\n",
      "  - actual output: The main challenges facing the healthcare sector in India today, based on the provided context, include:\n",
      "\n",
      "1. Increasing inequality in healthcare due to the dominance of private sector five-star hospitals catering to the high-end market, making private healthcare less accessible to weaker sections of society.\n",
      "\n",
      "2. A significant shortage of trained medical personnel, including doctors, nurses, and especially paramedics, with a particular need for personnel willing to serve in rural areas where access to care is limited.\n",
      "\n",
      "3. Systemic constraints despite government focus on health issues, with much still to be done to develop effective and sustainable health systems that can address the dual demands of rising non-communicable diseases and the population’s need for better quality and higher levels of healthcare.\n",
      "\n",
      "4. Affordability and accessibility remain major concerns, with the population facing difficulties in accessing low-cost healthcare alternatives and a low ratio of healthcare providers.\n",
      "\n",
      "5. Additional challenges include a lack of technical infrastructure, absence of standards, privacy concerns, gaps in pharmaceutical, payer, and provider ecosystems, and a lack of comprehensive regulations.\n",
      "\n",
      "6. The need for improved medical education and training, potentially through private sector involvement or public-private partnerships, to address workforce shortages.\n",
      "\n",
      "Overall, these challenges highlight the need for more socially relevant private sector efforts, better distribution of healthcare resources, and systemic improvements to meet the healthcare demands of India’s population.\n",
      "  - expected output: MIoT (Medical Internet of Things) improves hospital safety by creating a connected environment where medical devices and systems can communicate seamlessly. This connectivity allows real-time monitoring of patients through biometric sensors and smart devices, which helps detect critical changes in a patient’s condition more quickly. As a result, healthcare providers can respond faster and more accurately. Additionally, MIoT reduces human errors by automating data collection and ensuring that medical information is accurate and readily available across different care settings—from hospital wards to home care. Overall, this leads to better coordination, quicker interventions, and enhanced patient safety.\n",
      "  - context: None\n",
      "  - retrieval context: ['Large companies and affluent individuals have started five star hospitals which dominate the \\nspace for high end market. The private sector has made tremendous progress, but on the flip side it is \\nalso responsible for increasing inequality in healthcare sector. The private should be more socially \\nrelevant and efforts must be made to make private sector accessible to the weaker section of society. \\nHealth care system in India \\nTraditional Healthcare Systems in India', 'Shortage of trained medical personnel : India faces a huge shortage of trained medical personnel, \\nincluding doctors, nurses and especially paramedics, who may be more willing than doctors to live in \\nrural areas where access to care is limited. There is an immediate need for medical education and \\ntraining, which could provide additional opportunities for private sector providers or public-private-\\npartnerships (PPP). \\nSystemic Constraints \\n \\nDespite the Central Government’s focus on health issues, a major challenge is to carry the', 'much still remains to be done. The priority will be to develop effective and sustainable health systems \\nthat can meet the dual demands posed by the growth in non communicable diseases and peoples’ needs \\nfor better quality and higher levels of health care.  \\nReference \\nBhat  Ramesh (1999).  Characteristics  of  private medical practice  in India:  a  provider perspective  \\nHealth Policy and Planning 14 (1): pp. 26-37.   \\n \\nBhat  Ramesh  (2006).  Financial  Health  of  Private  sector  hospitals  in  India.  Working  Paper  No  \\n2006-01-01, Indian Institute of Management, Ahmedabad.', 'information, and a better awareness of preventative health behaviors, all point to a\\nchanging industry.\\nBefore we examine how digital transformation may affect healthcare in India,\\nlet us look at some of the sector’s most serious concerns. Affordability is a major\\nfactor for people as they seek low-cost and low-cost alternatives. Another impor-\\ntant difﬁculty is accessibility, which is exacerbated by the population’s low ratio of', '288\\nH. K. Channi et al.\\nFig. 7 Statistics of expenditure of government on healthcare year wise\\nhealthcare providers. We will need 6.4 million more healthcare workers to fulﬁll\\nglobal demands [27]. The problem is exacerbated by a lack of technical infrastruc-\\nture, a lack of standards, privacy concerns, and gaps in the pharmaceutical, payer,\\nand provider ecosystems, as well as a lack of comprehensive regulations. Looking\\nahead, the Indian market is well positioned to bridge the talent, location, infrastruc-\\nture, access, and urban–rural expenditure imbalance. Preventative steps are being']\n",
      "\n",
      "======================================================================\n",
      "\n",
      "Overall Metric Pass Rates\n",
      "\n",
      "Contextual Recall: 0.00% pass rate\n",
      "\n",
      "======================================================================\n",
      "\n"
     ]
    },
    {
     "name": "stderr",
     "output_type": "stream",
     "text": [
      "\n"
     ]
    },
    {
     "data": {
      "text/html": [
       "<pre style=\"white-space:pre;overflow-x:auto;line-height:normal;font-family:Menlo,'DejaVu Sans Mono',consolas,'Courier New',monospace\">\n",
       "<span style=\"color: #05f58d; text-decoration-color: #05f58d\">✓</span> Tests finished 🎉! Run <span style=\"color: #008000; text-decoration-color: #008000; font-weight: bold\">'deepeval login'</span> to save and analyze evaluation results on Confident AI.\n",
       " \n",
       "✨👀 Looking for a place for your LLM test data to live 🏡❤️ ? Use <span style=\"color: #6a00ff; text-decoration-color: #6a00ff\">Confident AI</span> to get &amp; share testing reports, \n",
       "experiment with models/prompts, and catch regressions for your LLM system. Just run <span style=\"color: #008080; text-decoration-color: #008080\">'deepeval login'</span> in the CLI. \n",
       "\n",
       "</pre>\n"
      ],
      "text/plain": [
       "\n",
       "\u001b[38;2;5;245;141m✓\u001b[0m Tests finished 🎉! Run \u001b[1;32m'deepeval login'\u001b[0m to save and analyze evaluation results on Confident AI.\n",
       " \n",
       "✨👀 Looking for a place for your LLM test data to live 🏡❤️ ? Use \u001b[38;2;106;0;255mConfident AI\u001b[0m to get & share testing reports, \n",
       "experiment with models/prompts, and catch regressions for your LLM system. Just run \u001b[36m'deepeval login'\u001b[0m in the CLI. \n",
       "\n"
      ]
     },
     "metadata": {},
     "output_type": "display_data"
    }
   ],
   "source": [
    "test_case1 = LLMTestCase(\n",
    "    input=response['question'],\n",
    "    actual_output=response['AI_generated_response'],\n",
    "    expected_output=human_answer,\n",
    "    retrieval_context=retrieved_context\n",
    ")\n",
    "\n",
    "\n",
    "\n",
    "metric = ContextualRecallMetric(\n",
    "    threshold=0.6,\n",
    "    model=wrapped_model,\n",
    "    include_reason=True,\n",
    "    verbose_mode=True\n",
    ")\n",
    "\n",
    "result = evaluate([test_case1], [metric])"
   ]
  },
  {
   "cell_type": "code",
   "execution_count": 51,
   "metadata": {
    "application/vnd.databricks.v1+cell": {
     "cellMetadata": {
      "byteLimit": 2048000,
      "rowLimit": 10000
     },
     "inputWidgets": {},
     "nuid": "e1455300-c6ef-4d59-8964-07da2bd4567f",
     "showTitle": false,
     "tableResultSettingsMap": {},
     "title": ""
    }
   },
   "outputs": [
    {
     "name": "stdout",
     "output_type": "stream",
     "text": [
      "Sucess: False\n",
      "Score: 0.0\n",
      "Reason: The score is 0.00 because none of the nodes in retrieval context mention MIoT, hospital safety improvements, device connectivity, patient monitoring, or healthcare response, resulting in no support for any sentences in the expected output.\n"
     ]
    }
   ],
   "source": [
    "print('Sucess:', result.test_results[0].metrics_data[0].success)\n",
    "print('Score:', result.test_results[0].metrics_data[0].score)\n",
    "print('Reason:', result.test_results[0].metrics_data[0].reason)"
   ]
  },
  {
   "cell_type": "markdown",
   "metadata": {
    "application/vnd.databricks.v1+cell": {
     "cellMetadata": {
      "byteLimit": 2048000,
      "rowLimit": 10000
     },
     "inputWidgets": {},
     "nuid": "cb35db94-5aba-4f88-a4d8-3d074949c4a2",
     "showTitle": false,
     "tableResultSettingsMap": {},
     "title": ""
    }
   },
   "source": [
    "### Observation:\n",
    "\n",
    "This evaluation demonstrates the ideal outcome for a retrieval-augmented system. When running the **Contextual Recall** metric, the system achieved a **perfect score of 1.0**, confirming that **every sentence in the expected output** was explicitly supported by the retrieved content.\n",
    "\n",
    "---\n",
    "\n",
    "#### Why It Worked:\n",
    "- The retriever surfaced **only highly relevant chunks** that directly aligned with each part of the expected answer.\n",
    "- The retrieved nodes covered the full scope of MIoT’s contributions to hospital safety, including:\n",
    "  - Real-time monitoring\n",
    "  - Faster response times\n",
    "  - Continuous patient tracking via smart sensors\n",
    "  - Reduction of human error\n",
    "  - Asset management and protocol compliance\n",
    "\n",
    "- There were **no unrelated or noisy chunks** in the evaluated set, and each supporting node was clearly connected to a specific claim.\n",
    "\n",
    "---\n",
    "\n",
    "#### Insight:\n",
    "This outcome validates that when the **retrieval context is both complete and topically focused**, it leads to **high-fidelity, grounded answers**. The retrieval strategy successfully captured the full range of concepts required to support the model's generated response.\n",
    "\n",
    "---\n",
    "\n",
    "#### Outcome:\n",
    "- **Score:** 1.0 (Perfect Recall)\n",
    "- **Verdicts:** All expected output sentences were grounded in retrieved context.\n",
    "- **Impact:** Ensures comprehensive and traceable grounding of the answer content.\n",
    "\n",
    "---\n",
    "\n",
    "#### Takeaway:\n",
    "To consistently achieve this level of recall:\n",
    "- Maintain **tight topical alignment** in the document set used for retrieval.\n",
    "- Use **fine-grained chunking** to preserve semantic completeness of context nodes.\n",
    "- Ensure **balanced coverage** of all expected answer themes through appropriate indexing and retrieval techniques.\n",
    "\n",
    "This evaluation highlights the effectiveness of high-quality retrieval in enabling **accurate, evidence-backed generation** in RAG systems.\n"
   ]
  },
  {
   "cell_type": "markdown",
   "metadata": {},
   "source": [
    "### Testing Contextual Recall with Injected Noise Using DeepEval\n",
    "\n",
    "In this step, we inject noisy chunks at the top of the retrieved context to see how they affect contextual recall. DeepEval compares the AI’s answer to a human reference and checks whether relevant chunks still rank highest. This shows how well the retriever prioritizes useful information despite the added noise.\n"
   ]
  },
  {
   "cell_type": "code",
   "execution_count": 52,
   "metadata": {
    "scrolled": true
   },
   "outputs": [
    {
     "data": {
      "text/html": [
       "<pre style=\"white-space:pre;overflow-x:auto;line-height:normal;font-family:Menlo,'DejaVu Sans Mono',consolas,'Courier New',monospace\">✨ You're running DeepEval's latest <span style=\"color: #6a00ff; text-decoration-color: #6a00ff\">Contextual Recall Metric</span>! <span style=\"color: #374151; text-decoration-color: #374151; font-weight: bold\">(</span><span style=\"color: #374151; text-decoration-color: #374151\">using azure-gpt4o-mini, </span><span style=\"color: #374151; text-decoration-color: #374151\">strict</span><span style=\"color: #374151; text-decoration-color: #374151\">=</span><span style=\"color: #374151; text-decoration-color: #374151; font-style: italic\">False</span><span style=\"color: #374151; text-decoration-color: #374151\">, </span>\n",
       "<span style=\"color: #374151; text-decoration-color: #374151\">async_mode</span><span style=\"color: #374151; text-decoration-color: #374151\">=</span><span style=\"color: #374151; text-decoration-color: #374151; font-style: italic\">True</span><span style=\"color: #374151; text-decoration-color: #374151; font-weight: bold\">)</span><span style=\"color: #374151; text-decoration-color: #374151\">...</span>\n",
       "</pre>\n"
      ],
      "text/plain": [
       "✨ You're running DeepEval's latest \u001b[38;2;106;0;255mContextual Recall Metric\u001b[0m! \u001b[1;38;2;55;65;81m(\u001b[0m\u001b[38;2;55;65;81musing azure-gpt4o-mini, \u001b[0m\u001b[38;2;55;65;81mstrict\u001b[0m\u001b[38;2;55;65;81m=\u001b[0m\u001b[3;38;2;55;65;81mFalse\u001b[0m\u001b[38;2;55;65;81m, \u001b[0m\n",
       "\u001b[38;2;55;65;81masync_mode\u001b[0m\u001b[38;2;55;65;81m=\u001b[0m\u001b[3;38;2;55;65;81mTrue\u001b[0m\u001b[1;38;2;55;65;81m)\u001b[0m\u001b[38;2;55;65;81m...\u001b[0m\n"
      ]
     },
     "metadata": {},
     "output_type": "display_data"
    },
    {
     "name": "stderr",
     "output_type": "stream",
     "text": [
      "Evaluating 1 test case(s) in parallel: |          |  0% (0/1) [Time Taken: 00:00, ?test case/s]"
     ]
    },
    {
     "name": "stdout",
     "output_type": "stream",
     "text": [
      "**************************************************\n",
      "Contextual Recall Verbose Logs\n",
      "**************************************************\n",
      "\n",
      "Verdicts:\n",
      "[\n",
      "    {\n",
      "        \"verdict\": \"no\",\n",
      "        \"reason\": \"None of the retrieval nodes mention MIoT or Medical Internet of Things or connected medical devices.\"\n",
      "    },\n",
      "    {\n",
      "        \"verdict\": \"no\",\n",
      "        \"reason\": \"No reference to real-time patient monitoring or biometric sensors in any of the retrieval nodes.\"\n",
      "    },\n",
      "    {\n",
      "        \"verdict\": \"no\",\n",
      "        \"reason\": \"No content in retrieval nodes about healthcare providers responding faster or more accurately due to device connectivity.\"\n",
      "    },\n",
      "    {\n",
      "        \"verdict\": \"no\",\n",
      "        \"reason\": \"None of the retrieval nodes discuss automation of data collection or reduction of human errors via MIoT.\"\n",
      "    },\n",
      "    {\n",
      "        \"verdict\": \"no\",\n",
      "        \"reason\": \"No mention in retrieval nodes on improved coordination, quicker interventions, or enhanced patient safety through MIoT.\"\n",
      "    }\n",
      "]\n",
      " \n",
      "Score: 0.0\n",
      "Reason: The score is 0.00 because none of the sentences in the expected output are supported by any information from the retrieval context nodes, which lack any mention of MIoT, connected devices, real-time monitoring, or related healthcare improvements.\n",
      "\n",
      "======================================================================\n"
     ]
    },
    {
     "name": "stderr",
     "output_type": "stream",
     "text": [
      "Evaluating 1 test case(s) in parallel: |██████████|100% (1/1) [Time Taken: 00:04,  4.44s/test case]"
     ]
    },
    {
     "name": "stdout",
     "output_type": "stream",
     "text": [
      "\n",
      "======================================================================\n",
      "\n",
      "Metrics Summary\n",
      "\n",
      "  - ❌ Contextual Recall (score: 0.0, threshold: 0.6, strict: False, evaluation model: azure-gpt4o-mini, reason: The score is 0.00 because none of the sentences in the expected output are supported by any information from the retrieval context nodes, which lack any mention of MIoT, connected devices, real-time monitoring, or related healthcare improvements., error: None)\n",
      "\n",
      "For test case:\n",
      "\n",
      "  - input: What are the main challenges facing the healthcare sector in India today?\n",
      "  - actual output: The main challenges facing the healthcare sector in India today, based on the provided context, include:\n",
      "\n",
      "1. Increasing inequality in healthcare due to the dominance of private sector five-star hospitals catering to the high-end market, making private healthcare less accessible to weaker sections of society.\n",
      "\n",
      "2. A significant shortage of trained medical personnel, including doctors, nurses, and especially paramedics, with a particular need for personnel willing to serve in rural areas where access to care is limited.\n",
      "\n",
      "3. Systemic constraints despite government focus on health issues, with much still to be done to develop effective and sustainable health systems that can address the dual demands of rising non-communicable diseases and the population’s need for better quality and higher levels of healthcare.\n",
      "\n",
      "4. Affordability and accessibility remain major concerns, with the population facing difficulties in accessing low-cost healthcare alternatives and a low ratio of healthcare providers.\n",
      "\n",
      "5. Additional challenges include a lack of technical infrastructure, absence of standards, privacy concerns, gaps in pharmaceutical, payer, and provider ecosystems, and a lack of comprehensive regulations.\n",
      "\n",
      "6. The need for improved medical education and training, potentially through private sector involvement or public-private partnerships, to address workforce shortages.\n",
      "\n",
      "Overall, these challenges highlight the need for more socially relevant private sector efforts, better distribution of healthcare resources, and systemic improvements to meet the healthcare demands of India’s population.\n",
      "  - expected output: MIoT (Medical Internet of Things) improves hospital safety by creating a connected environment where medical devices and systems can communicate seamlessly. This connectivity allows real-time monitoring of patients through biometric sensors and smart devices, which helps detect critical changes in a patient’s condition more quickly. As a result, healthcare providers can respond faster and more accurately. Additionally, MIoT reduces human errors by automating data collection and ensuring that medical information is accurate and readily available across different care settings—from hospital wards to home care. Overall, this leads to better coordination, quicker interventions, and enhanced patient safety.\n",
      "  - context: None\n",
      "  - retrieval context: ['Many respected institutions and well-regarded medical professionals advertise their services as a way to inform the public about available healthcare options. Over time, physicians and hospitals have increasingly adopted marketing and public relations strategies to connect with their communities and raise awareness of the care they offer. These approaches, while often useful for improving visibility and accessibility, have also led to a noticeable shift in how healthcare services are presented.', 'tools of operations management, for example, supply chain management, are useful only to a limited extent... These observations, however, have had little impact on the vast cost of consulting fees... Patients who are sick, or worried that they may be sick, generally, are neither capable of understanding their physiological status nor inclined to shop around for bargains... The value of life often far outweighs the consideration of cost... The root of the disequilibrium in healthcare is the heavy, often total, dependence of the patient on the medical practitioner.', 'Large companies and affluent individuals have started five star hospitals which dominate the \\nspace for high end market. The private sector has made tremendous progress, but on the flip side it is \\nalso responsible for increasing inequality in healthcare sector. The private should be more socially \\nrelevant and efforts must be made to make private sector accessible to the weaker section of society. \\nHealth care system in India \\nTraditional Healthcare Systems in India', 'Shortage of trained medical personnel : India faces a huge shortage of trained medical personnel, \\nincluding doctors, nurses and especially paramedics, who may be more willing than doctors to live in \\nrural areas where access to care is limited. There is an immediate need for medical education and \\ntraining, which could provide additional opportunities for private sector providers or public-private-\\npartnerships (PPP). \\nSystemic Constraints \\n \\nDespite the Central Government’s focus on health issues, a major challenge is to carry the', 'much still remains to be done. The priority will be to develop effective and sustainable health systems \\nthat can meet the dual demands posed by the growth in non communicable diseases and peoples’ needs \\nfor better quality and higher levels of health care.  \\nReference \\nBhat  Ramesh (1999).  Characteristics  of  private medical practice  in India:  a  provider perspective  \\nHealth Policy and Planning 14 (1): pp. 26-37.   \\n \\nBhat  Ramesh  (2006).  Financial  Health  of  Private  sector  hospitals  in  India.  Working  Paper  No  \\n2006-01-01, Indian Institute of Management, Ahmedabad.', 'information, and a better awareness of preventative health behaviors, all point to a\\nchanging industry.\\nBefore we examine how digital transformation may affect healthcare in India,\\nlet us look at some of the sector’s most serious concerns. Affordability is a major\\nfactor for people as they seek low-cost and low-cost alternatives. Another impor-\\ntant difﬁculty is accessibility, which is exacerbated by the population’s low ratio of', '288\\nH. K. Channi et al.\\nFig. 7 Statistics of expenditure of government on healthcare year wise\\nhealthcare providers. We will need 6.4 million more healthcare workers to fulﬁll\\nglobal demands [27]. The problem is exacerbated by a lack of technical infrastruc-\\nture, a lack of standards, privacy concerns, and gaps in the pharmaceutical, payer,\\nand provider ecosystems, as well as a lack of comprehensive regulations. Looking\\nahead, the Indian market is well positioned to bridge the talent, location, infrastruc-\\nture, access, and urban–rural expenditure imbalance. Preventative steps are being']\n",
      "\n",
      "======================================================================\n",
      "\n",
      "Overall Metric Pass Rates\n",
      "\n",
      "Contextual Recall: 0.00% pass rate\n",
      "\n",
      "======================================================================\n",
      "\n"
     ]
    },
    {
     "name": "stderr",
     "output_type": "stream",
     "text": [
      "\n"
     ]
    },
    {
     "data": {
      "text/html": [
       "<pre style=\"white-space:pre;overflow-x:auto;line-height:normal;font-family:Menlo,'DejaVu Sans Mono',consolas,'Courier New',monospace\">\n",
       "<span style=\"color: #05f58d; text-decoration-color: #05f58d\">✓</span> Tests finished 🎉! Run <span style=\"color: #008000; text-decoration-color: #008000; font-weight: bold\">'deepeval login'</span> to save and analyze evaluation results on Confident AI.\n",
       " \n",
       "✨👀 Looking for a place for your LLM test data to live 🏡❤️ ? Use <span style=\"color: #6a00ff; text-decoration-color: #6a00ff\">Confident AI</span> to get &amp; share testing reports, \n",
       "experiment with models/prompts, and catch regressions for your LLM system. Just run <span style=\"color: #008080; text-decoration-color: #008080\">'deepeval login'</span> in the CLI. \n",
       "\n",
       "</pre>\n"
      ],
      "text/plain": [
       "\n",
       "\u001b[38;2;5;245;141m✓\u001b[0m Tests finished 🎉! Run \u001b[1;32m'deepeval login'\u001b[0m to save and analyze evaluation results on Confident AI.\n",
       " \n",
       "✨👀 Looking for a place for your LLM test data to live 🏡❤️ ? Use \u001b[38;2;106;0;255mConfident AI\u001b[0m to get & share testing reports, \n",
       "experiment with models/prompts, and catch regressions for your LLM system. Just run \u001b[36m'deepeval login'\u001b[0m in the CLI. \n",
       "\n"
      ]
     },
     "metadata": {},
     "output_type": "display_data"
    }
   ],
   "source": [
    "\n",
    "test_case1 = LLMTestCase(\n",
    "    input=response['question'],\n",
    "    actual_output=response['AI_generated_response'],\n",
    "    expected_output=human_answer,\n",
    "    retrieval_context=retrieved_context_with_noise\n",
    ")\n",
    "\n",
    "\n",
    "\n",
    "metric = ContextualRecallMetric(\n",
    "    threshold=0.6,\n",
    "    model=wrapped_model,\n",
    "    include_reason=True,\n",
    "    verbose_mode=True\n",
    ")\n",
    "\n",
    "result = evaluate([test_case1], [metric])"
   ]
  },
  {
   "cell_type": "code",
   "execution_count": 53,
   "metadata": {},
   "outputs": [
    {
     "name": "stdout",
     "output_type": "stream",
     "text": [
      "Sucess: False\n",
      "Score: 0.0\n",
      "Reason: The score is 0.00 because none of the sentences in the expected output are supported by any information from the retrieval context nodes, which lack any mention of MIoT, connected devices, real-time monitoring, or related healthcare improvements.\n"
     ]
    }
   ],
   "source": [
    "print('Sucess:', result.test_results[0].metrics_data[0].success)\n",
    "print('Score:', result.test_results[0].metrics_data[0].score)\n",
    "print('Reason:', result.test_results[0].metrics_data[0].reason)"
   ]
  },
  {
   "cell_type": "markdown",
   "metadata": {},
   "source": [
    "### Observation:\n",
    "\n",
    "This evaluation demonstrates a high-performing but imperfect recall result. When running the **Contextual Recall** metric, the system achieved a **score of 0.83**, passing the threshold of 0.6 but falling short of a perfect score. The drop occurred due to the presence of **partially irrelevant chunks** in the retrieved context, which diluted coverage for one key aspect of the expected answer.\n",
    "\n",
    "---\n",
    "\n",
    "#### Why It Dropped:\n",
    "- Most sentences in the expected output were **well-supported** by the 3rd and 4th nodes, which covered:\n",
    "  - MIoT’s role in reducing preventable errors\n",
    "  - Real-time monitoring with biometric sensors\n",
    "  - Improved response times and decision-making\n",
    "  - Enhanced patient care and error minimization\n",
    "- However, the **sentence referring to hospital asset management** was **not grounded** in any of the retrieved nodes. The context focused more on patient monitoring and system integration, without addressing operational or logistical aspects like asset tracking.\n",
    "- This evaluation included **injected partially irrelevant chunks** (e.g., healthcare marketing and medical economics), which shifted focus and **reduced the recall score** from a previous perfect score of 1.0 to 0.83.\n",
    "\n",
    "---\n",
    "\n",
    "#### Insight:\n",
    "This result shows that **injecting even a few off-topic or incomplete chunks** into the retrieval context can lead to missed grounding opportunities. The model was unable to support one sentence of the expected answer due to the absence of directly relevant information in the context.\n",
    "\n",
    "---\n",
    "\n",
    "#### Outcome:\n",
    "- **Score:** 0.83 (Pass, but not perfect)\n",
    "- **Verdicts:** 5 supported, 1 unsupported\n",
    "- **Impact:** One missed sentence led to a 17% drop in contextual recall\n",
    "\n",
    "---\n",
    "\n",
    "#### Takeaway:\n",
    "To maintain consistently high recall:\n",
    "- Avoid including **semantically unrelated or overly general content** in the retrieval set.\n",
    "- Ensure that the context **covers all facets** of the expected answer, especially operational or non-clinical claims like asset management.\n",
    "- Monitor retrieval pipelines for **contextual completeness** as well as relevance.\n",
    "\n",
    "This test highlights the **sensitivity of contextual recall to partial noise** and the importance of precise, comprehensive document retrieval in RAG systems.\n"
   ]
  },
  {
   "cell_type": "markdown",
   "metadata": {
    "application/vnd.databricks.v1+cell": {
     "cellMetadata": {
      "byteLimit": 2048000,
      "rowLimit": 10000
     },
     "inputWidgets": {},
     "nuid": "f40ccd87-d43e-47d2-9de8-9a5e71e4532c",
     "showTitle": false,
     "tableResultSettingsMap": {},
     "title": ""
    }
   },
   "source": [
    "### Recall@k (Top-k Context Evaluation)\n",
    "\n",
    "To focus only on the top-k retrieved chunks with noise (e.g., top 3), we use **Recall@k**.\n",
    "\n",
    "You can do this by **slicing the retrieval context** before passing it to the test case.\n",
    "\n",
    "We tested this with **k = 3** to see if the top 3 chunks alone cover the expected answer.\n"
   ]
  },
  {
   "cell_type": "code",
   "execution_count": 54,
   "metadata": {
    "application/vnd.databricks.v1+cell": {
     "cellMetadata": {
      "byteLimit": 2048000,
      "rowLimit": 10000
     },
     "inputWidgets": {},
     "nuid": "58fb92ab-5145-45de-aff2-bc8643192dc6",
     "showTitle": false,
     "tableResultSettingsMap": {},
     "title": ""
    },
    "scrolled": true
   },
   "outputs": [
    {
     "data": {
      "text/html": [
       "<pre style=\"white-space:pre;overflow-x:auto;line-height:normal;font-family:Menlo,'DejaVu Sans Mono',consolas,'Courier New',monospace\">✨ You're running DeepEval's latest <span style=\"color: #6a00ff; text-decoration-color: #6a00ff\">Contextual Recall Metric</span>! <span style=\"color: #374151; text-decoration-color: #374151; font-weight: bold\">(</span><span style=\"color: #374151; text-decoration-color: #374151\">using azure-gpt4o-mini, </span><span style=\"color: #374151; text-decoration-color: #374151\">strict</span><span style=\"color: #374151; text-decoration-color: #374151\">=</span><span style=\"color: #374151; text-decoration-color: #374151; font-style: italic\">False</span><span style=\"color: #374151; text-decoration-color: #374151\">, </span>\n",
       "<span style=\"color: #374151; text-decoration-color: #374151\">async_mode</span><span style=\"color: #374151; text-decoration-color: #374151\">=</span><span style=\"color: #374151; text-decoration-color: #374151; font-style: italic\">True</span><span style=\"color: #374151; text-decoration-color: #374151; font-weight: bold\">)</span><span style=\"color: #374151; text-decoration-color: #374151\">...</span>\n",
       "</pre>\n"
      ],
      "text/plain": [
       "✨ You're running DeepEval's latest \u001b[38;2;106;0;255mContextual Recall Metric\u001b[0m! \u001b[1;38;2;55;65;81m(\u001b[0m\u001b[38;2;55;65;81musing azure-gpt4o-mini, \u001b[0m\u001b[38;2;55;65;81mstrict\u001b[0m\u001b[38;2;55;65;81m=\u001b[0m\u001b[3;38;2;55;65;81mFalse\u001b[0m\u001b[38;2;55;65;81m, \u001b[0m\n",
       "\u001b[38;2;55;65;81masync_mode\u001b[0m\u001b[38;2;55;65;81m=\u001b[0m\u001b[3;38;2;55;65;81mTrue\u001b[0m\u001b[1;38;2;55;65;81m)\u001b[0m\u001b[38;2;55;65;81m...\u001b[0m\n"
      ]
     },
     "metadata": {},
     "output_type": "display_data"
    },
    {
     "name": "stderr",
     "output_type": "stream",
     "text": [
      "Evaluating 1 test case(s) in parallel: |          |  0% (0/1) [Time Taken: 00:00, ?test case/s]"
     ]
    },
    {
     "name": "stdout",
     "output_type": "stream",
     "text": [
      "**************************************************\n",
      "Contextual Recall Verbose Logs\n",
      "**************************************************\n",
      "\n",
      "Verdicts:\n",
      "[\n",
      "    {\n",
      "        \"verdict\": \"no\",\n",
      "        \"reason\": \"None of the retrieval context nodes mention MIoT, connected environments, or communication among medical devices.\"\n",
      "    },\n",
      "    {\n",
      "        \"verdict\": \"no\",\n",
      "        \"reason\": \"The retrieval context does not reference real-time monitoring, biometric sensors, or smart devices.\"\n",
      "    },\n",
      "    {\n",
      "        \"verdict\": \"no\",\n",
      "        \"reason\": \"No attribution in retrieval nodes about healthcare providers responding faster or more accurately due to technology.\"\n",
      "    },\n",
      "    {\n",
      "        \"verdict\": \"no\",\n",
      "        \"reason\": \"Retrieval context lacks mention of automation, data collection, or reducing human error.\"\n",
      "    },\n",
      "    {\n",
      "        \"verdict\": \"no\",\n",
      "        \"reason\": \"No reference to improved coordination, quicker interventions, or enhanced patient safety in any retrieval node.\"\n",
      "    }\n",
      "]\n",
      " \n",
      "Score: 0.0\n",
      "Reason: The score is 0.00 because none of the sentences in the expected output are supported by any information from the nodes in retrieval context; there is no mention of MIoT, connected devices, real-time monitoring, or improvements in patient safety in the retrieval nodes.\n",
      "\n",
      "======================================================================\n"
     ]
    },
    {
     "name": "stderr",
     "output_type": "stream",
     "text": [
      "Evaluating 1 test case(s) in parallel: |██████████|100% (1/1) [Time Taken: 00:03,  3.38s/test case]"
     ]
    },
    {
     "name": "stdout",
     "output_type": "stream",
     "text": [
      "\n",
      "======================================================================\n",
      "\n",
      "Metrics Summary\n",
      "\n",
      "  - ❌ Contextual Recall (score: 0.0, threshold: 0.6, strict: False, evaluation model: azure-gpt4o-mini, reason: The score is 0.00 because none of the sentences in the expected output are supported by any information from the nodes in retrieval context; there is no mention of MIoT, connected devices, real-time monitoring, or improvements in patient safety in the retrieval nodes., error: None)\n",
      "\n",
      "For test case:\n",
      "\n",
      "  - input: What are the main challenges facing the healthcare sector in India today?\n",
      "  - actual output: The main challenges facing the healthcare sector in India today, based on the provided context, include:\n",
      "\n",
      "1. Increasing inequality in healthcare due to the dominance of private sector five-star hospitals catering to the high-end market, making private healthcare less accessible to weaker sections of society.\n",
      "\n",
      "2. A significant shortage of trained medical personnel, including doctors, nurses, and especially paramedics, with a particular need for personnel willing to serve in rural areas where access to care is limited.\n",
      "\n",
      "3. Systemic constraints despite government focus on health issues, with much still to be done to develop effective and sustainable health systems that can address the dual demands of rising non-communicable diseases and the population’s need for better quality and higher levels of healthcare.\n",
      "\n",
      "4. Affordability and accessibility remain major concerns, with the population facing difficulties in accessing low-cost healthcare alternatives and a low ratio of healthcare providers.\n",
      "\n",
      "5. Additional challenges include a lack of technical infrastructure, absence of standards, privacy concerns, gaps in pharmaceutical, payer, and provider ecosystems, and a lack of comprehensive regulations.\n",
      "\n",
      "6. The need for improved medical education and training, potentially through private sector involvement or public-private partnerships, to address workforce shortages.\n",
      "\n",
      "Overall, these challenges highlight the need for more socially relevant private sector efforts, better distribution of healthcare resources, and systemic improvements to meet the healthcare demands of India’s population.\n",
      "  - expected output: MIoT (Medical Internet of Things) improves hospital safety by creating a connected environment where medical devices and systems can communicate seamlessly. This connectivity allows real-time monitoring of patients through biometric sensors and smart devices, which helps detect critical changes in a patient’s condition more quickly. As a result, healthcare providers can respond faster and more accurately. Additionally, MIoT reduces human errors by automating data collection and ensuring that medical information is accurate and readily available across different care settings—from hospital wards to home care. Overall, this leads to better coordination, quicker interventions, and enhanced patient safety.\n",
      "  - context: None\n",
      "  - retrieval context: ['Many respected institutions and well-regarded medical professionals advertise their services as a way to inform the public about available healthcare options. Over time, physicians and hospitals have increasingly adopted marketing and public relations strategies to connect with their communities and raise awareness of the care they offer. These approaches, while often useful for improving visibility and accessibility, have also led to a noticeable shift in how healthcare services are presented.', 'tools of operations management, for example, supply chain management, are useful only to a limited extent... These observations, however, have had little impact on the vast cost of consulting fees... Patients who are sick, or worried that they may be sick, generally, are neither capable of understanding their physiological status nor inclined to shop around for bargains... The value of life often far outweighs the consideration of cost... The root of the disequilibrium in healthcare is the heavy, often total, dependence of the patient on the medical practitioner.', 'Large companies and affluent individuals have started five star hospitals which dominate the \\nspace for high end market. The private sector has made tremendous progress, but on the flip side it is \\nalso responsible for increasing inequality in healthcare sector. The private should be more socially \\nrelevant and efforts must be made to make private sector accessible to the weaker section of society. \\nHealth care system in India \\nTraditional Healthcare Systems in India']\n",
      "\n",
      "======================================================================\n",
      "\n",
      "Overall Metric Pass Rates\n",
      "\n",
      "Contextual Recall: 0.00% pass rate\n",
      "\n",
      "======================================================================\n",
      "\n"
     ]
    },
    {
     "name": "stderr",
     "output_type": "stream",
     "text": [
      "\n"
     ]
    },
    {
     "data": {
      "text/html": [
       "<pre style=\"white-space:pre;overflow-x:auto;line-height:normal;font-family:Menlo,'DejaVu Sans Mono',consolas,'Courier New',monospace\">\n",
       "<span style=\"color: #05f58d; text-decoration-color: #05f58d\">✓</span> Tests finished 🎉! Run <span style=\"color: #008000; text-decoration-color: #008000; font-weight: bold\">'deepeval login'</span> to save and analyze evaluation results on Confident AI.\n",
       " \n",
       "✨👀 Looking for a place for your LLM test data to live 🏡❤️ ? Use <span style=\"color: #6a00ff; text-decoration-color: #6a00ff\">Confident AI</span> to get &amp; share testing reports, \n",
       "experiment with models/prompts, and catch regressions for your LLM system. Just run <span style=\"color: #008080; text-decoration-color: #008080\">'deepeval login'</span> in the CLI. \n",
       "\n",
       "</pre>\n"
      ],
      "text/plain": [
       "\n",
       "\u001b[38;2;5;245;141m✓\u001b[0m Tests finished 🎉! Run \u001b[1;32m'deepeval login'\u001b[0m to save and analyze evaluation results on Confident AI.\n",
       " \n",
       "✨👀 Looking for a place for your LLM test data to live 🏡❤️ ? Use \u001b[38;2;106;0;255mConfident AI\u001b[0m to get & share testing reports, \n",
       "experiment with models/prompts, and catch regressions for your LLM system. Just run \u001b[36m'deepeval login'\u001b[0m in the CLI. \n",
       "\n"
      ]
     },
     "metadata": {},
     "output_type": "display_data"
    }
   ],
   "source": [
    "k = 3\n",
    "\n",
    "test_case = LLMTestCase(\n",
    "    input=response['question'],\n",
    "    actual_output=response['AI_generated_response'],\n",
    "    expected_output=human_answer,\n",
    "    retrieval_context=retrieved_context_with_noise[:k]\n",
    ")\n",
    "\n",
    "metric = ContextualRecallMetric(\n",
    "    threshold=0.6,\n",
    "    model=wrapped_model,\n",
    "    include_reason=True,\n",
    "    verbose_mode=True\n",
    ")\n",
    "\n",
    "result = evaluate([test_case], [metric])"
   ]
  },
  {
   "cell_type": "code",
   "execution_count": 55,
   "metadata": {
    "application/vnd.databricks.v1+cell": {
     "cellMetadata": {
      "byteLimit": 2048000,
      "rowLimit": 10000
     },
     "inputWidgets": {},
     "nuid": "c9da856a-8923-4cbd-9fef-3469497d4473",
     "showTitle": false,
     "tableResultSettingsMap": {},
     "title": ""
    }
   },
   "outputs": [
    {
     "name": "stdout",
     "output_type": "stream",
     "text": [
      "Sucess: False\n",
      "Score: 0.0\n",
      "Reason: The score is 0.00 because none of the sentences in the expected output are supported by any information from the nodes in retrieval context; there is no mention of MIoT, connected devices, real-time monitoring, or improvements in patient safety in the retrieval nodes.\n"
     ]
    }
   ],
   "source": [
    "print('Sucess:', result.test_results[0].metrics_data[0].success)\n",
    "print('Score:', result.test_results[0].metrics_data[0].score)\n",
    "print('Reason:', result.test_results[0].metrics_data[0].reason)"
   ]
  },
  {
   "cell_type": "markdown",
   "metadata": {
    "application/vnd.databricks.v1+cell": {
     "cellMetadata": {
      "byteLimit": 2048000,
      "rowLimit": 10000
     },
     "inputWidgets": {},
     "nuid": "48772c11-8834-4d8b-bb71-9795f8220eb4",
     "showTitle": false,
     "tableResultSettingsMap": {},
     "title": ""
    }
   },
   "source": [
    "### Observation:\n",
    "\n",
    "This evaluation demonstrates a significant drop in contextual grounding. When running the **Contextual Recall** metric, the system scored **0.43**, well below the threshold of 0.6, resulting in a failed test. Although a few relevant insights were retrieved, the majority of the expected answer lacked proper grounding.\n",
    "\n",
    "---\n",
    "\n",
    "#### Why It Failed:\n",
    "- The retrieval context was **overly narrow**, with only one node (Node 3) offering meaningful support.\n",
    "- **Only 3 out of 7 sentences** in the expected answer were supported.\n",
    "- Key claims around **device monitoring**, **faster responses**, **staff alerts**, and **asset management** were completely unsupported.\n",
    "- The presence of **off-topic chunks**, such as healthcare marketing and operational commentary, diluted the signal.\n",
    "\n",
    "---\n",
    "\n",
    "#### Insight:\n",
    "This result shows how **limited semantic coverage and injected noise** significantly degrade contextual recall. Even if one chunk is highly aligned, it cannot carry the grounding for a multi-faceted answer on its own.\n",
    "\n",
    "---\n",
    "\n",
    "#### Outcome:\n",
    "- **Score:** 0.43 (Fail)\n",
    "- **Verdicts:** 3 supported, 4 unsupported\n",
    "- **Impact:** Key answer dimensions were ungrounded due to missing context and irrelevant nodes.\n",
    "\n",
    "---\n",
    "\n",
    "#### Takeaway:\n",
    "To maintain high contextual recall:\n",
    "- Ensure retrieval returns **diverse, topically rich chunks** that collectively support the full expected answer.\n",
    "- Apply **semantic filtering** or **reranking** to demote irrelevant content.\n",
    "- Avoid over-reliance on singular nodes for complex, multi-point answers.\n",
    "\n",
    "Even partial noise or missing coverage can cause significant drops in recall score.\n",
    "\n",
    "---\n",
    "\n",
    "### Comparative Chunk Analysis\n",
    "\n",
    "| Chunk Type                     | MIoT Signal Present | Noise Present | Description |\n",
    "|-------------------------------|---------------------|---------------|-------------|\n",
    "| **Fully Relevant**            | Yes                 | No            | Clean, on-topic chunks that directly support major claims like device interoperability and error prevention. |\n",
    "| **Relevant with Noise**       | Yes                 | Yes           | Partial grounding; includes valid MIoT content but mixed with unrelated details (e.g., healthcare marketing). |\n",
    "| **Top 3 Chunks (with Noise)** | No or Minimal       | Yes           | Highly ranked but off-topic chunks; introduce irrelevant information such as consulting economics and patient behavior, reducing overall grounding accuracy. |\n"
   ]
  },
  {
   "cell_type": "markdown",
   "metadata": {
    "application/vnd.databricks.v1+cell": {
     "cellMetadata": {
      "byteLimit": 2048000,
      "rowLimit": 10000
     },
     "inputWidgets": {},
     "nuid": "67cfeea2-f6d2-41fc-a81e-cd152fc2aa1a",
     "showTitle": false,
     "tableResultSettingsMap": {},
     "title": ""
    }
   },
   "source": [
    "> ## **Important Note**\n",
    "> \n",
    "> **We are evaluating this result using the `deepeval` library, which uses an LLM to act as a judge.**\n",
    "> \n",
    "> **At the backend, we are using `gpt-4o-mini` (Azure-hosted) to perform the evaluation.**\n",
    "> \n",
    "> **Because this involves an LLM's reasoning, there is a high probability that you might get slightly different results when you re-run the code — even with the same inputs.**\n",
    "> \n",
    "> **This variability happens because LLM-based evaluations can be non-deterministic by nature. Small differences in phrasing or internal model behavior can influence how it interprets relevance, alignment, or context.**\n",
    "> \n",
    "> **Therefore, while these evaluations provide valuable insights, treat individual scores as part of a broader trend rather than absolute judgments.**\n"
   ]
  },
  {
   "cell_type": "markdown",
   "metadata": {
    "application/vnd.databricks.v1+cell": {
     "cellMetadata": {
      "byteLimit": 2048000,
      "rowLimit": 10000
     },
     "inputWidgets": {},
     "nuid": "d9a5861e-da0a-4078-a66d-d25fa5410f52",
     "showTitle": false,
     "tableResultSettingsMap": {},
     "title": ""
    }
   },
   "source": [
    "## Contextual Relevancy\n",
    "\n",
    "The **contextual relevancy** metric measures how relevant the information in your `retrieval_context` is for answering the given input query.  \n",
    "It focuses on the **overall quality and usefulness** of the retrieved content, regardless of specific expected answers.\n",
    "\n",
    "`deepeval` uses a **self-explaining LLM-based evaluation**, where the model not only scores the result but also provides a reason for the score—making the evaluation more transparent.\n",
    "\n",
    "### Required Inputs for `ContextualRelevancyMetric` in `deepeval`\n",
    "\n",
    "When creating an `LLMTestCase`, you need to provide:\n",
    "\n",
    "- `input`: The user’s query  \n",
    "- `actual_output`: The AI-generated response (not used for this metric)  \n",
    "- `retrieval_context`: The top-N document chunks retrieved from the vector store\n",
    "\n",
    "> This metric is useful for assessing the **general relevance** of the retrieved documents—whether or not the final answer is perfect.\n",
    "\n",
    "\n"
   ]
  },
  {
   "cell_type": "markdown",
   "metadata": {
    "application/vnd.databricks.v1+cell": {
     "cellMetadata": {
      "byteLimit": 2048000,
      "rowLimit": 10000
     },
     "inputWidgets": {},
     "nuid": "0bdd5cb3-c808-46dd-828d-3abe61d15810",
     "showTitle": false,
     "tableResultSettingsMap": {},
     "title": ""
    }
   },
   "source": [
    "### How ContextualRelevancyMetric Handles Context Chunks\n",
    "\n",
    "By default, `ContextualRelevancyMetric` splits the retrieval context into smaller \"statements\"—usually by sentences using periods (`.`).\n",
    "\n",
    "This means that even if you pass entire context chunks to the evaluator, the metric evaluates **each sentence individually** for its relevance to the input query.\n",
    "\n",
    "As a result, the scoring is more fine-grained and reflects sentence-level relevancy rather than evaluating full chunks as a whole.\n"
   ]
  },
  {
   "cell_type": "markdown",
   "metadata": {
    "application/vnd.databricks.v1+cell": {
     "cellMetadata": {
      "byteLimit": 2048000,
      "rowLimit": 10000
     },
     "inputWidgets": {},
     "nuid": "c983cf6e-b537-463c-a416-b74498b8324e",
     "showTitle": false,
     "tableResultSettingsMap": {},
     "title": ""
    }
   },
   "source": [
    "### Evaluating Contextual Relevancy\n",
    "\n",
    "We use the input question and the retrieved chunks to check how relevant the context is overall.\n",
    "\n",
    "The metric ignores the actual and expected answers and focuses only on how well the context supports the input query.\n",
    "\n",
    "It returns a score and explanation to show if the retrieved content was generally useful.\n"
   ]
  },
  {
   "cell_type": "code",
   "execution_count": 56,
   "metadata": {
    "application/vnd.databricks.v1+cell": {
     "cellMetadata": {
      "byteLimit": 2048000,
      "rowLimit": 10000
     },
     "inputWidgets": {},
     "nuid": "320cd77b-5f2f-4577-890a-9f33ffc57605",
     "showTitle": false,
     "tableResultSettingsMap": {},
     "title": ""
    },
    "scrolled": true
   },
   "outputs": [
    {
     "data": {
      "text/html": [
       "<pre style=\"white-space:pre;overflow-x:auto;line-height:normal;font-family:Menlo,'DejaVu Sans Mono',consolas,'Courier New',monospace\">✨ You're running DeepEval's latest <span style=\"color: #6a00ff; text-decoration-color: #6a00ff\">Contextual Relevancy Metric</span>! <span style=\"color: #374151; text-decoration-color: #374151; font-weight: bold\">(</span><span style=\"color: #374151; text-decoration-color: #374151\">using azure-gpt4o-mini, </span><span style=\"color: #374151; text-decoration-color: #374151\">strict</span><span style=\"color: #374151; text-decoration-color: #374151\">=</span><span style=\"color: #374151; text-decoration-color: #374151; font-style: italic\">False</span><span style=\"color: #374151; text-decoration-color: #374151\">, </span>\n",
       "<span style=\"color: #374151; text-decoration-color: #374151\">async_mode</span><span style=\"color: #374151; text-decoration-color: #374151\">=</span><span style=\"color: #374151; text-decoration-color: #374151; font-style: italic\">True</span><span style=\"color: #374151; text-decoration-color: #374151; font-weight: bold\">)</span><span style=\"color: #374151; text-decoration-color: #374151\">...</span>\n",
       "</pre>\n"
      ],
      "text/plain": [
       "✨ You're running DeepEval's latest \u001b[38;2;106;0;255mContextual Relevancy Metric\u001b[0m! \u001b[1;38;2;55;65;81m(\u001b[0m\u001b[38;2;55;65;81musing azure-gpt4o-mini, \u001b[0m\u001b[38;2;55;65;81mstrict\u001b[0m\u001b[38;2;55;65;81m=\u001b[0m\u001b[3;38;2;55;65;81mFalse\u001b[0m\u001b[38;2;55;65;81m, \u001b[0m\n",
       "\u001b[38;2;55;65;81masync_mode\u001b[0m\u001b[38;2;55;65;81m=\u001b[0m\u001b[3;38;2;55;65;81mTrue\u001b[0m\u001b[1;38;2;55;65;81m)\u001b[0m\u001b[38;2;55;65;81m...\u001b[0m\n"
      ]
     },
     "metadata": {},
     "output_type": "display_data"
    },
    {
     "name": "stderr",
     "output_type": "stream",
     "text": [
      "Evaluating 1 test case(s) in parallel: |          |  0% (0/1) [Time Taken: 00:00, ?test case/s]"
     ]
    },
    {
     "name": "stdout",
     "output_type": "stream",
     "text": [
      "**************************************************\n",
      "Contextual Relevancy Verbose Logs\n",
      "**************************************************\n",
      "\n",
      "Verdicts:\n",
      "[\n",
      "    {\n",
      "        \"verdicts\": [\n",
      "            {\n",
      "                \"statement\": \"Large companies and affluent individuals have started five star hospitals which dominate the space for high end market.\",\n",
      "                \"verdict\": \"yes\",\n",
      "                \"reason\": null\n",
      "            },\n",
      "            {\n",
      "                \"statement\": \"The private sector has made tremendous progress, but on the flip side it is also responsible for increasing inequality in healthcare sector.\",\n",
      "                \"verdict\": \"yes\",\n",
      "                \"reason\": null\n",
      "            },\n",
      "            {\n",
      "                \"statement\": \"The private should be more socially relevant and efforts must be made to make private sector accessible to the weaker section of society.\",\n",
      "                \"verdict\": \"yes\",\n",
      "                \"reason\": null\n",
      "            },\n",
      "            {\n",
      "                \"statement\": \"Traditional Healthcare Systems in India\",\n",
      "                \"verdict\": \"no\",\n",
      "                \"reason\": \"The phrase 'Traditional Healthcare Systems in India' does not specify any challenges facing the healthcare sector today.\"\n",
      "            }\n",
      "        ]\n",
      "    },\n",
      "    {\n",
      "        \"verdicts\": [\n",
      "            {\n",
      "                \"statement\": \"India faces a huge shortage of trained medical personnel, including doctors, nurses and especially paramedics, who may be more willing than doctors to live in rural areas where access to care is limited.\",\n",
      "                \"verdict\": \"yes\",\n",
      "                \"reason\": null\n",
      "            },\n",
      "            {\n",
      "                \"statement\": \"There is an immediate need for medical education and training, which could provide additional opportunities for private sector providers or public-private-partnerships (PPP).\",\n",
      "                \"verdict\": \"yes\",\n",
      "                \"reason\": null\n",
      "            },\n",
      "            {\n",
      "                \"statement\": \"Systemic Constraints remain a major challenge despite the Central Government\\u2019s focus on health issues.\",\n",
      "                \"verdict\": \"yes\",\n",
      "                \"reason\": null\n",
      "            }\n",
      "        ]\n",
      "    },\n",
      "    {\n",
      "        \"verdicts\": [\n",
      "            {\n",
      "                \"statement\": \"The priority will be to develop effective and sustainable health systems that can meet the dual demands posed by the growth in non communicable diseases and peoples\\u2019 needs for better quality and higher levels of health care.\",\n",
      "                \"verdict\": \"yes\",\n",
      "                \"reason\": null\n",
      "            },\n",
      "            {\n",
      "                \"statement\": \"Bhat Ramesh (1999). Characteristics of private medical practice in India: a provider perspective Health Policy and Planning 14 (1): pp. 26-37.\",\n",
      "                \"verdict\": \"no\",\n",
      "                \"reason\": \"The statement is a reference citation and does not provide direct information about challenges facing the healthcare sector.\"\n",
      "            },\n",
      "            {\n",
      "                \"statement\": \"Bhat Ramesh (2006). Financial Health of Private sector hospitals in India. Working Paper No 2006-01-01, Indian Institute of Management, Ahmedabad.\",\n",
      "                \"verdict\": \"no\",\n",
      "                \"reason\": \"The statement is a reference citation and does not provide direct information about challenges facing the healthcare sector.\"\n",
      "            }\n",
      "        ]\n",
      "    },\n",
      "    {\n",
      "        \"verdicts\": [\n",
      "            {\n",
      "                \"statement\": \"Affordability is a major factor for people as they seek low-cost and low-cost alternatives.\",\n",
      "                \"verdict\": \"yes\",\n",
      "                \"reason\": null\n",
      "            },\n",
      "            {\n",
      "                \"statement\": \"Another important difficulty is accessibility, which is exacerbated by the population\\u2019s low ratio of\",\n",
      "                \"verdict\": \"yes\",\n",
      "                \"reason\": null\n",
      "            },\n",
      "            {\n",
      "                \"statement\": \"Information, and a better awareness of preventative health behaviors, all point to a changing industry.\",\n",
      "                \"verdict\": \"no\",\n",
      "                \"reason\": \"The statement 'Information, and a better awareness of preventative health behaviors, all point to a changing industry' is more about industry changes and awareness, not about specific challenges facing the healthcare sector.\"\n",
      "            },\n",
      "            {\n",
      "                \"statement\": \"Before we examine how digital transformation may affect healthcare in India, let us look at some of the sector\\u2019s most serious concerns.\",\n",
      "                \"verdict\": \"no\",\n",
      "                \"reason\": \"This statement is an introduction rather than a direct description of healthcare challenges.\"\n",
      "            }\n",
      "        ]\n",
      "    },\n",
      "    {\n",
      "        \"verdicts\": [\n",
      "            {\n",
      "                \"statement\": \"There is a lack of technical infrastructure in the healthcare sector.\",\n",
      "                \"verdict\": \"yes\",\n",
      "                \"reason\": null\n",
      "            },\n",
      "            {\n",
      "                \"statement\": \"There is a lack of standards in the healthcare sector.\",\n",
      "                \"verdict\": \"yes\",\n",
      "                \"reason\": null\n",
      "            },\n",
      "            {\n",
      "                \"statement\": \"Privacy concerns are a challenge facing the healthcare sector.\",\n",
      "                \"verdict\": \"yes\",\n",
      "                \"reason\": null\n",
      "            },\n",
      "            {\n",
      "                \"statement\": \"There are gaps in the pharmaceutical, payer, and provider ecosystems.\",\n",
      "                \"verdict\": \"yes\",\n",
      "                \"reason\": null\n",
      "            },\n",
      "            {\n",
      "                \"statement\": \"There is a lack of comprehensive regulations in healthcare.\",\n",
      "                \"verdict\": \"yes\",\n",
      "                \"reason\": null\n",
      "            },\n",
      "            {\n",
      "                \"statement\": \"There is a shortage of healthcare workers, with a need for 6.4 million more globally.\",\n",
      "                \"verdict\": \"yes\",\n",
      "                \"reason\": null\n",
      "            },\n",
      "            {\n",
      "                \"statement\": \"The Indian healthcare market faces imbalance in talent, location, infrastructure, access, and urban\\u2013rural expenditure.\",\n",
      "                \"verdict\": \"yes\",\n",
      "                \"reason\": null\n",
      "            }\n",
      "        ]\n",
      "    }\n",
      "]\n",
      " \n",
      "Score: 0.7619047619047619\n",
      "Reason: The score is 0.76 because while some statements like 'Systemic Constraints remain a major challenge' and 'India faces a huge shortage of trained medical personnel' directly address main challenges, other parts such as references to 'Traditional Healthcare Systems in India' and general introductions do not specify challenges, reducing overall relevancy.\n",
      "\n",
      "======================================================================\n"
     ]
    },
    {
     "name": "stderr",
     "output_type": "stream",
     "text": [
      "Evaluating 1 test case(s) in parallel: |██████████|100% (1/1) [Time Taken: 00:06,  6.55s/test case]"
     ]
    },
    {
     "name": "stdout",
     "output_type": "stream",
     "text": [
      "\n",
      "======================================================================\n",
      "\n",
      "Metrics Summary\n",
      "\n",
      "  - ✅ Contextual Relevancy (score: 0.7619047619047619, threshold: 0.6, strict: False, evaluation model: azure-gpt4o-mini, reason: The score is 0.76 because while some statements like 'Systemic Constraints remain a major challenge' and 'India faces a huge shortage of trained medical personnel' directly address main challenges, other parts such as references to 'Traditional Healthcare Systems in India' and general introductions do not specify challenges, reducing overall relevancy., error: None)\n",
      "\n",
      "For test case:\n",
      "\n",
      "  - input: What are the main challenges facing the healthcare sector in India today?\n",
      "  - actual output: The main challenges facing the healthcare sector in India today, based on the provided context, include:\n",
      "\n",
      "1. Increasing inequality in healthcare due to the dominance of private sector five-star hospitals catering to the high-end market, making private healthcare less accessible to weaker sections of society.\n",
      "\n",
      "2. A significant shortage of trained medical personnel, including doctors, nurses, and especially paramedics, with a particular need for personnel willing to serve in rural areas where access to care is limited.\n",
      "\n",
      "3. Systemic constraints despite government focus on health issues, with much still to be done to develop effective and sustainable health systems that can address the dual demands of rising non-communicable diseases and the population’s need for better quality and higher levels of healthcare.\n",
      "\n",
      "4. Affordability and accessibility remain major concerns, with the population facing difficulties in accessing low-cost healthcare alternatives and a low ratio of healthcare providers.\n",
      "\n",
      "5. Additional challenges include a lack of technical infrastructure, absence of standards, privacy concerns, gaps in pharmaceutical, payer, and provider ecosystems, and a lack of comprehensive regulations.\n",
      "\n",
      "6. The need for improved medical education and training, potentially through private sector involvement or public-private partnerships, to address workforce shortages.\n",
      "\n",
      "Overall, these challenges highlight the need for more socially relevant private sector efforts, better distribution of healthcare resources, and systemic improvements to meet the healthcare demands of India’s population.\n",
      "  - expected output: MIoT (Medical Internet of Things) improves hospital safety by creating a connected environment where medical devices and systems can communicate seamlessly. This connectivity allows real-time monitoring of patients through biometric sensors and smart devices, which helps detect critical changes in a patient’s condition more quickly. As a result, healthcare providers can respond faster and more accurately. Additionally, MIoT reduces human errors by automating data collection and ensuring that medical information is accurate and readily available across different care settings—from hospital wards to home care. Overall, this leads to better coordination, quicker interventions, and enhanced patient safety.\n",
      "  - context: None\n",
      "  - retrieval context: ['Large companies and affluent individuals have started five star hospitals which dominate the \\nspace for high end market. The private sector has made tremendous progress, but on the flip side it is \\nalso responsible for increasing inequality in healthcare sector. The private should be more socially \\nrelevant and efforts must be made to make private sector accessible to the weaker section of society. \\nHealth care system in India \\nTraditional Healthcare Systems in India', 'Shortage of trained medical personnel : India faces a huge shortage of trained medical personnel, \\nincluding doctors, nurses and especially paramedics, who may be more willing than doctors to live in \\nrural areas where access to care is limited. There is an immediate need for medical education and \\ntraining, which could provide additional opportunities for private sector providers or public-private-\\npartnerships (PPP). \\nSystemic Constraints \\n \\nDespite the Central Government’s focus on health issues, a major challenge is to carry the', 'much still remains to be done. The priority will be to develop effective and sustainable health systems \\nthat can meet the dual demands posed by the growth in non communicable diseases and peoples’ needs \\nfor better quality and higher levels of health care.  \\nReference \\nBhat  Ramesh (1999).  Characteristics  of  private medical practice  in India:  a  provider perspective  \\nHealth Policy and Planning 14 (1): pp. 26-37.   \\n \\nBhat  Ramesh  (2006).  Financial  Health  of  Private  sector  hospitals  in  India.  Working  Paper  No  \\n2006-01-01, Indian Institute of Management, Ahmedabad.', 'information, and a better awareness of preventative health behaviors, all point to a\\nchanging industry.\\nBefore we examine how digital transformation may affect healthcare in India,\\nlet us look at some of the sector’s most serious concerns. Affordability is a major\\nfactor for people as they seek low-cost and low-cost alternatives. Another impor-\\ntant difﬁculty is accessibility, which is exacerbated by the population’s low ratio of', '288\\nH. K. Channi et al.\\nFig. 7 Statistics of expenditure of government on healthcare year wise\\nhealthcare providers. We will need 6.4 million more healthcare workers to fulﬁll\\nglobal demands [27]. The problem is exacerbated by a lack of technical infrastruc-\\nture, a lack of standards, privacy concerns, and gaps in the pharmaceutical, payer,\\nand provider ecosystems, as well as a lack of comprehensive regulations. Looking\\nahead, the Indian market is well positioned to bridge the talent, location, infrastruc-\\nture, access, and urban–rural expenditure imbalance. Preventative steps are being']\n",
      "\n",
      "======================================================================\n",
      "\n",
      "Overall Metric Pass Rates\n",
      "\n",
      "Contextual Relevancy: 100.00% pass rate\n",
      "\n",
      "======================================================================\n",
      "\n"
     ]
    },
    {
     "name": "stderr",
     "output_type": "stream",
     "text": [
      "\n"
     ]
    },
    {
     "data": {
      "text/html": [
       "<pre style=\"white-space:pre;overflow-x:auto;line-height:normal;font-family:Menlo,'DejaVu Sans Mono',consolas,'Courier New',monospace\">\n",
       "<span style=\"color: #05f58d; text-decoration-color: #05f58d\">✓</span> Tests finished 🎉! Run <span style=\"color: #008000; text-decoration-color: #008000; font-weight: bold\">'deepeval login'</span> to save and analyze evaluation results on Confident AI.\n",
       " \n",
       "✨👀 Looking for a place for your LLM test data to live 🏡❤️ ? Use <span style=\"color: #6a00ff; text-decoration-color: #6a00ff\">Confident AI</span> to get &amp; share testing reports, \n",
       "experiment with models/prompts, and catch regressions for your LLM system. Just run <span style=\"color: #008080; text-decoration-color: #008080\">'deepeval login'</span> in the CLI. \n",
       "\n",
       "</pre>\n"
      ],
      "text/plain": [
       "\n",
       "\u001b[38;2;5;245;141m✓\u001b[0m Tests finished 🎉! Run \u001b[1;32m'deepeval login'\u001b[0m to save and analyze evaluation results on Confident AI.\n",
       " \n",
       "✨👀 Looking for a place for your LLM test data to live 🏡❤️ ? Use \u001b[38;2;106;0;255mConfident AI\u001b[0m to get & share testing reports, \n",
       "experiment with models/prompts, and catch regressions for your LLM system. Just run \u001b[36m'deepeval login'\u001b[0m in the CLI. \n",
       "\n"
      ]
     },
     "metadata": {},
     "output_type": "display_data"
    }
   ],
   "source": [
    "test_case = LLMTestCase(\n",
    "    input=response['question'],\n",
    "    actual_output=response['AI_generated_response'],\n",
    "    expected_output=human_answer,\n",
    "    retrieval_context=retrieved_context\n",
    ")\n",
    "\n",
    "metric = ContextualRelevancyMetric(\n",
    "    threshold=0.6,\n",
    "    model=wrapped_model,\n",
    "    include_reason=True,\n",
    "    verbose_mode=True\n",
    ")\n",
    "\n",
    "result = evaluate([test_case], [metric])"
   ]
  },
  {
   "cell_type": "code",
   "execution_count": 57,
   "metadata": {
    "application/vnd.databricks.v1+cell": {
     "cellMetadata": {
      "byteLimit": 2048000,
      "rowLimit": 10000
     },
     "inputWidgets": {},
     "nuid": "b5679262-65a8-4776-a0bf-6ff180aeb595",
     "showTitle": false,
     "tableResultSettingsMap": {},
     "title": ""
    }
   },
   "outputs": [
    {
     "name": "stdout",
     "output_type": "stream",
     "text": [
      "Sucess: True\n",
      "Score: 0.7619047619047619\n",
      "Reason: The score is 0.76 because while some statements like 'Systemic Constraints remain a major challenge' and 'India faces a huge shortage of trained medical personnel' directly address main challenges, other parts such as references to 'Traditional Healthcare Systems in India' and general introductions do not specify challenges, reducing overall relevancy.\n"
     ]
    }
   ],
   "source": [
    "print('Sucess:', result.test_results[0].metrics_data[0].success)\n",
    "print('Score:', result.test_results[0].metrics_data[0].score)\n",
    "print('Reason:', result.test_results[0].metrics_data[0].reason)"
   ]
  },
  {
   "cell_type": "markdown",
   "metadata": {
    "application/vnd.databricks.v1+cell": {
     "cellMetadata": {
      "byteLimit": 2048000,
      "rowLimit": 10000
     },
     "inputWidgets": {},
     "nuid": "86f7c963-5c8e-4938-8399-bde1611ea85d",
     "showTitle": false,
     "tableResultSettingsMap": {},
     "title": ""
    }
   },
   "source": [
    "### Observation:\n",
    "\n",
    "This evaluation resulted in a failed test for contextual relevancy. The system scored **0.56**, falling short of the 0.6 threshold. Although some retrieved statements aligned well with the query, a significant portion of the context included **off-topic or overly broad content**, which diluted the overall relevance.\n",
    "\n",
    "---\n",
    "\n",
    "#### Why It Failed:\n",
    "- The retrieval did include **strong statements** about:\n",
    "  - MIoT reducing preventable medical errors\n",
    "  - Deployment of patient-centric networked systems\n",
    "  - Use of biometric devices to enable faster clinical response\n",
    "\n",
    "- However, **several other statements were tangential or unrelated**, including:\n",
    "  - General HIoT-related security concerns\n",
    "  - Statements about **big data analytics**, **corporate success**, and **future planning**\n",
    "  - Placeholder or visual references (e.g., *“Fig. 1”* or *“people with diabetes have ID cards”*)\n",
    "\n",
    "- The presence of **unanchored or off-topic content** weakened the relevance density across the retrieved chunks, ultimately pushing the score below the passing threshold.\n",
    "\n",
    "---\n",
    "\n",
    "#### Insight:\n",
    "This outcome highlights a common failure mode: **a few irrelevant or generic statements can outweigh otherwise good retrieval**. Contextual relevancy is sensitive to both content quality and topic focus—so every statement needs to be directly aligned with the query’s intent.\n",
    "\n",
    "---\n",
    "\n",
    "#### Outcome:\n",
    "- **Score:** 0.56 (Fail)\n",
    "- **Relevant statements:** 9\n",
    "- **Off-topic statements:** 7\n",
    "- **Result:** Too much unrelated content diluted the relevancy needed to pass the evaluation.\n",
    "\n",
    "---\n",
    "\n",
    "#### Takeaway:\n",
    "To improve contextual relevancy in RAG systems:\n",
    "- Focus on **retrieving fine-grained, query-specific content**, not general information or forward-looking statements.\n",
    "- Avoid inclusion of **visual labels, metadata, or ungrounded tech claims** (e.g., “Fig. X” or broad HIoT scenarios).\n",
    "- Refine chunking and retrieval logic to increase the **signal-to-noise ratio** across all candidate context elements.\n",
    "\n",
    "Even a few loosely related or noisy statements can cause the system to fail relevancy metrics—especially in high-stakes, multi-sentence answers.\n"
   ]
  },
  {
   "cell_type": "markdown",
   "metadata": {
    "application/vnd.databricks.v1+cell": {
     "cellMetadata": {
      "byteLimit": 2048000,
      "rowLimit": 10000
     },
     "inputWidgets": {},
     "nuid": "d7254592-7c0e-4a21-abd4-7bd58eb9051c",
     "showTitle": false,
     "tableResultSettingsMap": {},
     "title": ""
    }
   },
   "source": [
    "### Extracting Relevant Statements\n",
    "\n",
    "This code parses the verbose logs from the evaluation and lists all statements where the verdict is `\"yes\"`.\n",
    "\n",
    "It helps isolate only the **relevant content** from the retrieval context for further analysis or debugging.\n"
   ]
  },
  {
   "cell_type": "code",
   "execution_count": 58,
   "metadata": {
    "application/vnd.databricks.v1+cell": {
     "cellMetadata": {
      "byteLimit": 2048000,
      "rowLimit": 10000
     },
     "inputWidgets": {},
     "nuid": "0f82e8fe-d22b-4ec0-809d-7140a858d191",
     "showTitle": false,
     "tableResultSettingsMap": {},
     "title": ""
    }
   },
   "outputs": [
    {
     "name": "stdout",
     "output_type": "stream",
     "text": [
      "Relevant Statements (verdict: yes):\n",
      "\n",
      "1. Large companies and affluent individuals have started five star hospitals which dominate the space for high end market.\n",
      "2. The private sector has made tremendous progress, but on the flip side it is also responsible for increasing inequality in healthcare sector.\n",
      "3. The private should be more socially relevant and efforts must be made to make private sector accessible to the weaker section of society.\n",
      "4. India faces a huge shortage of trained medical personnel, including doctors, nurses and especially paramedics, who may be more willing than doctors to live in rural areas where access to care is limited.\n",
      "5. There is an immediate need for medical education and training, which could provide additional opportunities for private sector providers or public-private-partnerships (PPP).\n",
      "6. Systemic Constraints remain a major challenge despite the Central Government’s focus on health issues.\n",
      "7. The priority will be to develop effective and sustainable health systems that can meet the dual demands posed by the growth in non communicable diseases and peoples’ needs for better quality and higher levels of health care.\n",
      "8. Affordability is a major factor for people as they seek low-cost and low-cost alternatives.\n",
      "9. Another important difficulty is accessibility, which is exacerbated by the population’s low ratio of\n",
      "10. There is a lack of technical infrastructure in the healthcare sector.\n",
      "11. There is a lack of standards in the healthcare sector.\n",
      "12. Privacy concerns are a challenge facing the healthcare sector.\n",
      "13. There are gaps in the pharmaceutical, payer, and provider ecosystems.\n",
      "14. There is a lack of comprehensive regulations in healthcare.\n",
      "15. There is a shortage of healthcare workers, with a need for 6.4 million more globally.\n",
      "16. The Indian healthcare market faces imbalance in talent, location, infrastructure, access, and urban–rural expenditure.\n"
     ]
    }
   ],
   "source": [
    "import json\n",
    "\n",
    "# Extract JSON string from verbose logs\n",
    "logs = result.test_results[0].metrics_data[0].verbose_logs\n",
    "json_text = logs.split(\"Verdicts:\\n\", 1)[1].strip()\n",
    "\n",
    "# Parse and print relevant statements with numbering\n",
    "verdicts = json.loads(json_text)\n",
    "relevant_statements=[]\n",
    "print(\"Relevant Statements (verdict: yes):\\n\")\n",
    "count = 1\n",
    "for group in verdicts:\n",
    "    for v in group.get(\"verdicts\", []):\n",
    "        if v.get(\"verdict\") == \"yes\":\n",
    "            relevant_statements.append(v['statement'])\n",
    "            print(f\"{count}. {v['statement'].strip()}\")\n",
    "            count += 1\n"
   ]
  },
  {
   "cell_type": "markdown",
   "metadata": {
    "application/vnd.databricks.v1+cell": {
     "cellMetadata": {
      "byteLimit": 2048000,
      "rowLimit": 10000
     },
     "inputWidgets": {},
     "nuid": "6b96158b-ab10-42c5-a238-70f29551cb70",
     "showTitle": false,
     "tableResultSettingsMap": {},
     "title": ""
    }
   },
   "source": [
    "### Observation: \n",
    "\n",
    "The evaluation identified **10 relevant statements** that directly support the question on how MIoT improves hospital safety.  \n",
    "\n",
    "These statements highlight key concepts such as **preventable error reduction**, **interoperability**, **real-time data sharing**, and **infection tracking**—all of which reinforce the relevance of the retrieved content in addressing the query.  \n",
    "\n",
    "This confirms that, despite some noise, the retriever was able to surface a solid amount of useful and aligned information.\n"
   ]
  },
  {
   "cell_type": "markdown",
   "metadata": {
    "application/vnd.databricks.v1+cell": {
     "cellMetadata": {
      "byteLimit": 2048000,
      "rowLimit": 10000
     },
     "inputWidgets": {},
     "nuid": "e3d57d65-2f89-42c3-8e33-9a44119bed5e",
     "showTitle": false,
     "tableResultSettingsMap": {},
     "title": ""
    }
   },
   "source": [
    "### Testing Contextual Relevancy with Injected Noise Using DeepEval\n",
    "\n",
    "In this step, we intentionally inject noisy chunks at the top of the retrieved context to evaluate their impact on contextual relevancy. \n",
    "\n",
    "DeepEval then compares the AI-generated answer against a human reference and determines whether the most relevant chunks are still correctly prioritized. \n",
    "\n",
    "This process helps assess how effectively the retriever can surface and rank useful information, even when noise is present in the retrieval results.\n"
   ]
  },
  {
   "cell_type": "code",
   "execution_count": 59,
   "metadata": {
    "application/vnd.databricks.v1+cell": {
     "cellMetadata": {
      "byteLimit": 2048000,
      "rowLimit": 10000
     },
     "inputWidgets": {},
     "nuid": "8245cbec-48dd-4eb7-87fc-409e705c6654",
     "showTitle": false,
     "tableResultSettingsMap": {},
     "title": ""
    },
    "scrolled": true
   },
   "outputs": [
    {
     "data": {
      "text/html": [
       "<pre style=\"white-space:pre;overflow-x:auto;line-height:normal;font-family:Menlo,'DejaVu Sans Mono',consolas,'Courier New',monospace\">✨ You're running DeepEval's latest <span style=\"color: #6a00ff; text-decoration-color: #6a00ff\">Contextual Relevancy Metric</span>! <span style=\"color: #374151; text-decoration-color: #374151; font-weight: bold\">(</span><span style=\"color: #374151; text-decoration-color: #374151\">using azure-gpt4o-mini, </span><span style=\"color: #374151; text-decoration-color: #374151\">strict</span><span style=\"color: #374151; text-decoration-color: #374151\">=</span><span style=\"color: #374151; text-decoration-color: #374151; font-style: italic\">False</span><span style=\"color: #374151; text-decoration-color: #374151\">, </span>\n",
       "<span style=\"color: #374151; text-decoration-color: #374151\">async_mode</span><span style=\"color: #374151; text-decoration-color: #374151\">=</span><span style=\"color: #374151; text-decoration-color: #374151; font-style: italic\">True</span><span style=\"color: #374151; text-decoration-color: #374151; font-weight: bold\">)</span><span style=\"color: #374151; text-decoration-color: #374151\">...</span>\n",
       "</pre>\n"
      ],
      "text/plain": [
       "✨ You're running DeepEval's latest \u001b[38;2;106;0;255mContextual Relevancy Metric\u001b[0m! \u001b[1;38;2;55;65;81m(\u001b[0m\u001b[38;2;55;65;81musing azure-gpt4o-mini, \u001b[0m\u001b[38;2;55;65;81mstrict\u001b[0m\u001b[38;2;55;65;81m=\u001b[0m\u001b[3;38;2;55;65;81mFalse\u001b[0m\u001b[38;2;55;65;81m, \u001b[0m\n",
       "\u001b[38;2;55;65;81masync_mode\u001b[0m\u001b[38;2;55;65;81m=\u001b[0m\u001b[3;38;2;55;65;81mTrue\u001b[0m\u001b[1;38;2;55;65;81m)\u001b[0m\u001b[38;2;55;65;81m...\u001b[0m\n"
      ]
     },
     "metadata": {},
     "output_type": "display_data"
    },
    {
     "name": "stderr",
     "output_type": "stream",
     "text": [
      "Evaluating 1 test case(s) in parallel: |          |  0% (0/1) [Time Taken: 00:00, ?test case/s]"
     ]
    },
    {
     "name": "stdout",
     "output_type": "stream",
     "text": [
      "**************************************************\n",
      "Contextual Relevancy Verbose Logs\n",
      "**************************************************\n",
      "\n",
      "Verdicts:\n",
      "[\n",
      "    {\n",
      "        \"verdicts\": [\n",
      "            {\n",
      "                \"statement\": \"Many respected institutions and well-regarded medical professionals advertise their services as a way to inform the public about available healthcare options.\",\n",
      "                \"verdict\": \"no\",\n",
      "                \"reason\": \"This statement focuses on advertising and informing the public, not on challenges facing the healthcare sector.\"\n",
      "            },\n",
      "            {\n",
      "                \"statement\": \"Over time, physicians and hospitals have increasingly adopted marketing and public relations strategies to connect with their communities and raise awareness of the care they offer.\",\n",
      "                \"verdict\": \"no\",\n",
      "                \"reason\": \"The statement is about marketing strategies rather than challenges in the healthcare sector.\"\n",
      "            },\n",
      "            {\n",
      "                \"statement\": \"These approaches, while often useful for improving visibility and accessibility, have also led to a noticeable shift in how healthcare services are presented.\",\n",
      "                \"verdict\": \"no\",\n",
      "                \"reason\": \"This discusses changes in presentation of healthcare services, not main challenges facing healthcare.\"\n",
      "            }\n",
      "        ]\n",
      "    },\n",
      "    {\n",
      "        \"verdicts\": [\n",
      "            {\n",
      "                \"statement\": \"Patients who are sick, or worried that they may be sick, generally, are neither capable of understanding their physiological status nor inclined to shop around for bargains\",\n",
      "                \"verdict\": \"yes\",\n",
      "                \"reason\": null\n",
      "            },\n",
      "            {\n",
      "                \"statement\": \"The value of life often far outweighs the consideration of cost\",\n",
      "                \"verdict\": \"yes\",\n",
      "                \"reason\": null\n",
      "            },\n",
      "            {\n",
      "                \"statement\": \"The root of the disequilibrium in healthcare is the heavy, often total, dependence of the patient on the medical practitioner\",\n",
      "                \"verdict\": \"yes\",\n",
      "                \"reason\": null\n",
      "            },\n",
      "            {\n",
      "                \"statement\": \"tools of operations management, for example, supply chain management, are useful only to a limited extent\",\n",
      "                \"verdict\": \"no\",\n",
      "                \"reason\": \"The statement about 'tools of operations management' and 'supply chain management' is too general and does not specifically address challenges in the healthcare sector in India.\"\n",
      "            },\n",
      "            {\n",
      "                \"statement\": \"These observations, however, have had little impact on the vast cost of consulting fees\",\n",
      "                \"verdict\": \"no\",\n",
      "                \"reason\": \"The statement about 'consulting fees' does not directly relate to the main challenges facing the healthcare sector in India.\"\n",
      "            }\n",
      "        ]\n",
      "    },\n",
      "    {\n",
      "        \"verdicts\": [\n",
      "            {\n",
      "                \"statement\": \"Large companies and affluent individuals have started five star hospitals which dominate the space for high end market.\",\n",
      "                \"verdict\": \"yes\",\n",
      "                \"reason\": null\n",
      "            },\n",
      "            {\n",
      "                \"statement\": \"The private sector has made tremendous progress, but on the flip side it is also responsible for increasing inequality in healthcare sector.\",\n",
      "                \"verdict\": \"yes\",\n",
      "                \"reason\": null\n",
      "            },\n",
      "            {\n",
      "                \"statement\": \"The private sector should be more socially relevant and efforts must be made to make private sector accessible to the weaker section of society.\",\n",
      "                \"verdict\": \"yes\",\n",
      "                \"reason\": null\n",
      "            },\n",
      "            {\n",
      "                \"statement\": \"Traditional Healthcare Systems in India\",\n",
      "                \"verdict\": \"no\",\n",
      "                \"reason\": \"The statement 'Traditional Healthcare Systems in India' is merely a heading or a topic reference and does not directly address the main challenges facing the healthcare sector.\"\n",
      "            },\n",
      "            {\n",
      "                \"statement\": \"Health care system in India\",\n",
      "                \"verdict\": \"no\",\n",
      "                \"reason\": \"The phrase 'Health care system in India' is too broad and does not specify any challenges relevant to the input.\"\n",
      "            }\n",
      "        ]\n",
      "    },\n",
      "    {\n",
      "        \"verdicts\": [\n",
      "            {\n",
      "                \"statement\": \"India faces a huge shortage of trained medical personnel, including doctors, nurses and especially paramedics, who may be more willing than doctors to live in rural areas where access to care is limited.\",\n",
      "                \"verdict\": \"yes\",\n",
      "                \"reason\": null\n",
      "            },\n",
      "            {\n",
      "                \"statement\": \"There is an immediate need for medical education and training, which could provide additional opportunities for private sector providers or public-private-partnerships (PPP).\",\n",
      "                \"verdict\": \"yes\",\n",
      "                \"reason\": null\n",
      "            },\n",
      "            {\n",
      "                \"statement\": \"Despite the Central Government\\u2019s focus on health issues, a major challenge is to carry the\",\n",
      "                \"verdict\": \"yes\",\n",
      "                \"reason\": null\n",
      "            }\n",
      "        ]\n",
      "    },\n",
      "    {\n",
      "        \"verdicts\": [\n",
      "            {\n",
      "                \"statement\": \"Much still remains to be done to develop effective and sustainable health systems in India.\",\n",
      "                \"verdict\": \"yes\",\n",
      "                \"reason\": null\n",
      "            },\n",
      "            {\n",
      "                \"statement\": \"The priority is to meet the dual demands posed by the growth in non-communicable diseases and peoples\\u2019 needs for better quality and higher levels of health care.\",\n",
      "                \"verdict\": \"yes\",\n",
      "                \"reason\": null\n",
      "            },\n",
      "            {\n",
      "                \"statement\": \"Bhat Ramesh (1999). Characteristics of private medical practice in India: a provider perspective Health Policy and Planning 14 (1): pp. 26-37.\",\n",
      "                \"verdict\": \"no\",\n",
      "                \"reason\": \"The reference citation 'Bhat Ramesh (1999)...' does not provide direct information on the challenges facing the healthcare sector in India today.\"\n",
      "            },\n",
      "            {\n",
      "                \"statement\": \"Bhat Ramesh (2006). Financial Health of Private sector hospitals in India. Working Paper No 2006-01-01, Indian Institute of Management, Ahmedabad.\",\n",
      "                \"verdict\": \"no\",\n",
      "                \"reason\": \"The reference citation 'Bhat Ramesh (2006)...' is a bibliographic entry and does not describe the healthcare challenges directly.\"\n",
      "            }\n",
      "        ]\n",
      "    },\n",
      "    {\n",
      "        \"verdicts\": [\n",
      "            {\n",
      "                \"statement\": \"Affordability is a major factor for people as they seek low-cost and low-cost alternatives.\",\n",
      "                \"verdict\": \"yes\",\n",
      "                \"reason\": null\n",
      "            },\n",
      "            {\n",
      "                \"statement\": \"Another important difficulty is accessibility, which is exacerbated by the population\\u2019s low ratio of\",\n",
      "                \"verdict\": \"yes\",\n",
      "                \"reason\": null\n",
      "            },\n",
      "            {\n",
      "                \"statement\": \"Information, and a better awareness of preventative health behaviors, all point to a changing industry.\",\n",
      "                \"verdict\": \"no\",\n",
      "                \"reason\": \"The phrase 'information, and a better awareness of preventative health behaviors, all point to a changing industry' is about industry change and not specifically about challenges faced.\"\n",
      "            }\n",
      "        ]\n",
      "    },\n",
      "    {\n",
      "        \"verdicts\": [\n",
      "            {\n",
      "                \"statement\": \"There is a need for 6.4 million more healthcare workers to fulfill global demands.\",\n",
      "                \"verdict\": \"yes\",\n",
      "                \"reason\": null\n",
      "            },\n",
      "            {\n",
      "                \"statement\": \"The healthcare sector faces problems due to a lack of technical infrastructure.\",\n",
      "                \"verdict\": \"yes\",\n",
      "                \"reason\": null\n",
      "            },\n",
      "            {\n",
      "                \"statement\": \"There is a lack of standards and privacy concerns in the healthcare ecosystem.\",\n",
      "                \"verdict\": \"yes\",\n",
      "                \"reason\": null\n",
      "            },\n",
      "            {\n",
      "                \"statement\": \"There are gaps in the pharmaceutical, payer, and provider ecosystems.\",\n",
      "                \"verdict\": \"yes\",\n",
      "                \"reason\": null\n",
      "            },\n",
      "            {\n",
      "                \"statement\": \"There is a lack of comprehensive regulations affecting healthcare.\",\n",
      "                \"verdict\": \"yes\",\n",
      "                \"reason\": null\n",
      "            },\n",
      "            {\n",
      "                \"statement\": \"The Indian market is positioned to bridge talent, location, infrastructure, access, and urban\\u2013rural expenditure imbalances.\",\n",
      "                \"verdict\": \"yes\",\n",
      "                \"reason\": null\n",
      "            }\n",
      "        ]\n",
      "    }\n",
      "]\n",
      " \n",
      "Score: 0.6551724137931034\n",
      "Reason: The score is 0.66 because while many statements like 'India faces a huge shortage of trained medical personnel' and 'Affordability is a major factor' directly address key challenges in the healthcare sector, several other parts focus on unrelated topics such as marketing strategies and general industry changes, as noted in the reasons for irrelevancy like 'This statement focuses on advertising and informing the public' and 'The statement is about marketing strategies rather than challenges'. This partial mismatch lowers the overall relevancy.\n",
      "\n",
      "======================================================================\n"
     ]
    },
    {
     "name": "stderr",
     "output_type": "stream",
     "text": [
      "Evaluating 1 test case(s) in parallel: |██████████|100% (1/1) [Time Taken: 00:05,  5.79s/test case]"
     ]
    },
    {
     "name": "stdout",
     "output_type": "stream",
     "text": [
      "\n",
      "======================================================================\n",
      "\n",
      "Metrics Summary\n",
      "\n",
      "  - ✅ Contextual Relevancy (score: 0.6551724137931034, threshold: 0.6, strict: False, evaluation model: azure-gpt4o-mini, reason: The score is 0.66 because while many statements like 'India faces a huge shortage of trained medical personnel' and 'Affordability is a major factor' directly address key challenges in the healthcare sector, several other parts focus on unrelated topics such as marketing strategies and general industry changes, as noted in the reasons for irrelevancy like 'This statement focuses on advertising and informing the public' and 'The statement is about marketing strategies rather than challenges'. This partial mismatch lowers the overall relevancy., error: None)\n",
      "\n",
      "For test case:\n",
      "\n",
      "  - input: What are the main challenges facing the healthcare sector in India today?\n",
      "  - actual output: The main challenges facing the healthcare sector in India today, based on the provided context, include:\n",
      "\n",
      "1. Increasing inequality in healthcare due to the dominance of private sector five-star hospitals catering to the high-end market, making private healthcare less accessible to weaker sections of society.\n",
      "\n",
      "2. A significant shortage of trained medical personnel, including doctors, nurses, and especially paramedics, with a particular need for personnel willing to serve in rural areas where access to care is limited.\n",
      "\n",
      "3. Systemic constraints despite government focus on health issues, with much still to be done to develop effective and sustainable health systems that can address the dual demands of rising non-communicable diseases and the population’s need for better quality and higher levels of healthcare.\n",
      "\n",
      "4. Affordability and accessibility remain major concerns, with the population facing difficulties in accessing low-cost healthcare alternatives and a low ratio of healthcare providers.\n",
      "\n",
      "5. Additional challenges include a lack of technical infrastructure, absence of standards, privacy concerns, gaps in pharmaceutical, payer, and provider ecosystems, and a lack of comprehensive regulations.\n",
      "\n",
      "6. The need for improved medical education and training, potentially through private sector involvement or public-private partnerships, to address workforce shortages.\n",
      "\n",
      "Overall, these challenges highlight the need for more socially relevant private sector efforts, better distribution of healthcare resources, and systemic improvements to meet the healthcare demands of India’s population.\n",
      "  - expected output: MIoT (Medical Internet of Things) improves hospital safety by creating a connected environment where medical devices and systems can communicate seamlessly. This connectivity allows real-time monitoring of patients through biometric sensors and smart devices, which helps detect critical changes in a patient’s condition more quickly. As a result, healthcare providers can respond faster and more accurately. Additionally, MIoT reduces human errors by automating data collection and ensuring that medical information is accurate and readily available across different care settings—from hospital wards to home care. Overall, this leads to better coordination, quicker interventions, and enhanced patient safety.\n",
      "  - context: None\n",
      "  - retrieval context: ['Many respected institutions and well-regarded medical professionals advertise their services as a way to inform the public about available healthcare options. Over time, physicians and hospitals have increasingly adopted marketing and public relations strategies to connect with their communities and raise awareness of the care they offer. These approaches, while often useful for improving visibility and accessibility, have also led to a noticeable shift in how healthcare services are presented.', 'tools of operations management, for example, supply chain management, are useful only to a limited extent... These observations, however, have had little impact on the vast cost of consulting fees... Patients who are sick, or worried that they may be sick, generally, are neither capable of understanding their physiological status nor inclined to shop around for bargains... The value of life often far outweighs the consideration of cost... The root of the disequilibrium in healthcare is the heavy, often total, dependence of the patient on the medical practitioner.', 'Large companies and affluent individuals have started five star hospitals which dominate the \\nspace for high end market. The private sector has made tremendous progress, but on the flip side it is \\nalso responsible for increasing inequality in healthcare sector. The private should be more socially \\nrelevant and efforts must be made to make private sector accessible to the weaker section of society. \\nHealth care system in India \\nTraditional Healthcare Systems in India', 'Shortage of trained medical personnel : India faces a huge shortage of trained medical personnel, \\nincluding doctors, nurses and especially paramedics, who may be more willing than doctors to live in \\nrural areas where access to care is limited. There is an immediate need for medical education and \\ntraining, which could provide additional opportunities for private sector providers or public-private-\\npartnerships (PPP). \\nSystemic Constraints \\n \\nDespite the Central Government’s focus on health issues, a major challenge is to carry the', 'much still remains to be done. The priority will be to develop effective and sustainable health systems \\nthat can meet the dual demands posed by the growth in non communicable diseases and peoples’ needs \\nfor better quality and higher levels of health care.  \\nReference \\nBhat  Ramesh (1999).  Characteristics  of  private medical practice  in India:  a  provider perspective  \\nHealth Policy and Planning 14 (1): pp. 26-37.   \\n \\nBhat  Ramesh  (2006).  Financial  Health  of  Private  sector  hospitals  in  India.  Working  Paper  No  \\n2006-01-01, Indian Institute of Management, Ahmedabad.', 'information, and a better awareness of preventative health behaviors, all point to a\\nchanging industry.\\nBefore we examine how digital transformation may affect healthcare in India,\\nlet us look at some of the sector’s most serious concerns. Affordability is a major\\nfactor for people as they seek low-cost and low-cost alternatives. Another impor-\\ntant difﬁculty is accessibility, which is exacerbated by the population’s low ratio of', '288\\nH. K. Channi et al.\\nFig. 7 Statistics of expenditure of government on healthcare year wise\\nhealthcare providers. We will need 6.4 million more healthcare workers to fulﬁll\\nglobal demands [27]. The problem is exacerbated by a lack of technical infrastruc-\\nture, a lack of standards, privacy concerns, and gaps in the pharmaceutical, payer,\\nand provider ecosystems, as well as a lack of comprehensive regulations. Looking\\nahead, the Indian market is well positioned to bridge the talent, location, infrastruc-\\nture, access, and urban–rural expenditure imbalance. Preventative steps are being']\n",
      "\n",
      "======================================================================\n",
      "\n",
      "Overall Metric Pass Rates\n",
      "\n",
      "Contextual Relevancy: 100.00% pass rate\n",
      "\n",
      "======================================================================\n",
      "\n"
     ]
    },
    {
     "name": "stderr",
     "output_type": "stream",
     "text": [
      "\n"
     ]
    },
    {
     "data": {
      "text/html": [
       "<pre style=\"white-space:pre;overflow-x:auto;line-height:normal;font-family:Menlo,'DejaVu Sans Mono',consolas,'Courier New',monospace\">\n",
       "<span style=\"color: #05f58d; text-decoration-color: #05f58d\">✓</span> Tests finished 🎉! Run <span style=\"color: #008000; text-decoration-color: #008000; font-weight: bold\">'deepeval login'</span> to save and analyze evaluation results on Confident AI.\n",
       " \n",
       "✨👀 Looking for a place for your LLM test data to live 🏡❤️ ? Use <span style=\"color: #6a00ff; text-decoration-color: #6a00ff\">Confident AI</span> to get &amp; share testing reports, \n",
       "experiment with models/prompts, and catch regressions for your LLM system. Just run <span style=\"color: #008080; text-decoration-color: #008080\">'deepeval login'</span> in the CLI. \n",
       "\n",
       "</pre>\n"
      ],
      "text/plain": [
       "\n",
       "\u001b[38;2;5;245;141m✓\u001b[0m Tests finished 🎉! Run \u001b[1;32m'deepeval login'\u001b[0m to save and analyze evaluation results on Confident AI.\n",
       " \n",
       "✨👀 Looking for a place for your LLM test data to live 🏡❤️ ? Use \u001b[38;2;106;0;255mConfident AI\u001b[0m to get & share testing reports, \n",
       "experiment with models/prompts, and catch regressions for your LLM system. Just run \u001b[36m'deepeval login'\u001b[0m in the CLI. \n",
       "\n"
      ]
     },
     "metadata": {},
     "output_type": "display_data"
    }
   ],
   "source": [
    "test_case = LLMTestCase(\n",
    "    input=response['question'],\n",
    "    actual_output=response['AI_generated_response'],\n",
    "    expected_output=human_answer,\n",
    "    retrieval_context=retrieved_context_with_noise\n",
    ")\n",
    "\n",
    "metric = ContextualRelevancyMetric(\n",
    "    threshold=0.6,\n",
    "    model=wrapped_model,\n",
    "    include_reason=True,\n",
    "    verbose_mode=True\n",
    ")\n",
    "\n",
    "result = evaluate([test_case], [metric])"
   ]
  },
  {
   "cell_type": "code",
   "execution_count": 60,
   "metadata": {
    "application/vnd.databricks.v1+cell": {
     "cellMetadata": {
      "byteLimit": 2048000,
      "rowLimit": 10000
     },
     "inputWidgets": {},
     "nuid": "387fa4d9-c3fb-41de-8d18-ec0ae9e95fdd",
     "showTitle": false,
     "tableResultSettingsMap": {},
     "title": ""
    }
   },
   "outputs": [
    {
     "name": "stdout",
     "output_type": "stream",
     "text": [
      "Sucess: True\n",
      "Score: 0.6551724137931034\n",
      "Reason: The score is 0.66 because while many statements like 'India faces a huge shortage of trained medical personnel' and 'Affordability is a major factor' directly address key challenges in the healthcare sector, several other parts focus on unrelated topics such as marketing strategies and general industry changes, as noted in the reasons for irrelevancy like 'This statement focuses on advertising and informing the public' and 'The statement is about marketing strategies rather than challenges'. This partial mismatch lowers the overall relevancy.\n"
     ]
    }
   ],
   "source": [
    "print('Sucess:', result.test_results[0].metrics_data[0].success)\n",
    "print('Score:', result.test_results[0].metrics_data[0].score)\n",
    "print('Reason:', result.test_results[0].metrics_data[0].reason)"
   ]
  },
  {
   "cell_type": "markdown",
   "metadata": {
    "application/vnd.databricks.v1+cell": {
     "cellMetadata": {
      "byteLimit": 2048000,
      "rowLimit": 10000
     },
     "inputWidgets": {},
     "nuid": "7fc03ec6-517a-46c3-bd8e-4331504790fb",
     "showTitle": false,
     "tableResultSettingsMap": {},
     "title": ""
    }
   },
   "source": [
    "\n",
    "### Observation:\n",
    "\n",
    "This evaluation clearly demonstrates the impact of injected noise on contextual relevancy. When tested with **clean context**, the system performed near the threshold, retrieving mostly relevant statements related to MIoT’s role in hospital safety. However, after **injecting irrelevant content**, the relevancy score **dropped sharply**, confirming how sensitive performance is to the quality of context.\n",
    "\n",
    "---\n",
    "\n",
    "#### Clean Context (Before Noise Injection)\n",
    "- **Score:** 0.56  \n",
    "- **Pass Status:**  (Below threshold, but near borderline)  \n",
    "- **Strengths:**  \n",
    "  - Covered clinical aspects like real-time monitoring, error prevention, and patient-centric systems  \n",
    "  - Retrieval was generally focused on hospital safety outcomes  \n",
    "- **Weaknesses:**  \n",
    "  - Minor drift into broad healthcare topics like big data and corporate success  \n",
    "\n",
    "---\n",
    "\n",
    "#### Noisy Context (After Injection)\n",
    "- **Score:** 0.35  \n",
    "- **Pass Status:**  (Significant drop)  \n",
    "- **Weaknesses Introduced:**  \n",
    "  - Included marketing, consulting, and economic perspectives unrelated to MIoT safety benefits  \n",
    "  - Added noise diluted semantic focus and lowered the alignment between context and query  \n",
    "- **Impact:**  \n",
    "  - Retrieval lost precision due to topic drift and off-topic statements  \n",
    "  - Score fell well below the minimum threshold for relevancy\n",
    "\n",
    "---\n",
    "\n",
    "#### Insight:\n",
    "\n",
    "Even when some relevant statements are present, **contextual noise severely reduces grounding performance**. Injecting off-topic content impairs the retriever’s ability to maintain alignment with the core question.\n",
    "\n",
    "---\n",
    "\n",
    "#### Outcome Summary:\n",
    "\n",
    "| Context Type         | Score | Verdict         |\n",
    "|----------------------|-------|-----------------|\n",
    "| Clean (No Noise)     | 0.56  | Fail (Near Threshold) |\n",
    "| Noisy (After Injection) | 0.35  | Fail (Significant Drop) |\n",
    "\n",
    "---\n",
    "\n",
    "#### Takeaway:\n",
    "\n",
    "- Contextual relevancy depends not just on retrieving correct content, but also on **avoiding irrelevant material**.\n",
    "- Retrieval quality must ensure:\n",
    "  - High **topical alignment**\n",
    "  - Low **semantic noise**\n",
    "- Even small amounts of **off-topic context** can shift the model away from accurate, grounded generation.\n",
    "\n",
    "To ensure robustness in RAG systems, prioritize **focused and query-specific chunk selection**.\n",
    "\n"
   ]
  },
  {
   "cell_type": "markdown",
   "metadata": {},
   "source": [
    "> ## **Important Note**\n",
    "> \n",
    "> **We are evaluating this result using the `deepeval` library, which uses an LLM to act as a judge.**\n",
    "> \n",
    "> **At the backend, we are using `gpt-4o-mini` (Azure-hosted) to perform the evaluation.**\n",
    "> \n",
    "> **Because this involves an LLM's reasoning, there is a high probability that you might get slightly different results when you re-run the code — even with the same inputs.**\n",
    "> \n",
    "> **This variability happens because LLM-based evaluations can be non-deterministic by nature. Small differences in phrasing or internal model behavior can influence how it interprets relevance, alignment, or context.**\n",
    "> \n",
    "> **Therefore, while these evaluations provide valuable insights, treat individual scores as part of a broader trend rather than absolute judgments.**\n"
   ]
  },
  {
   "cell_type": "markdown",
   "metadata": {
    "application/vnd.databricks.v1+cell": {
     "cellMetadata": {
      "byteLimit": 2048000,
      "rowLimit": 10000
     },
     "inputWidgets": {},
     "nuid": "18fe182a-ba8a-492b-8669-acbb202defc9",
     "showTitle": false,
     "tableResultSettingsMap": {},
     "title": ""
    }
   },
   "source": [
    "# Generator Evaluation Metrics\n",
    "\n",
    "After the retrieval step, the **generation phase** is responsible for producing the final response. This involves:\n",
    "\n",
    "- Creating a prompt by combining the **user’s input** with the **retrieved context**\n",
    "- Passing that prompt to the **LLM**, which then generates the answer\n",
    "\n",
    "To assess the quality of the generated response, we focus on the following key evaluation metrics:\n",
    "\n",
    "- **Answer Relevancy** – How well does the response align with the user’s query?\n",
    "- **Faithfulness** – Is the generated content factually grounded in the retrieved context?\n",
    "- **Hallucination Check** – Does the model introduce unsupported or made-up information?\n",
    "- **Custom LLM as a Judge (G-Eval)** – Uses an LLM to evaluate responses across custom criteria\n",
    "\n",
    "These metrics help ensure that the generated output is not only relevant but also reliable and trustworthy.\n"
   ]
  },
  {
   "cell_type": "markdown",
   "metadata": {
    "application/vnd.databricks.v1+cell": {
     "cellMetadata": {
      "byteLimit": 2048000,
      "rowLimit": 10000
     },
     "inputWidgets": {},
     "nuid": "1d3b14ba-4777-49b3-98d6-5a7b16fc0932",
     "showTitle": false,
     "tableResultSettingsMap": {},
     "title": ""
    }
   },
   "source": [
    "## LLM-based Answer Relevancy - DeepEval\n",
    "\n",
    "The **Answer Relevancy** metric evaluates how well the **actual output** from your LLM matches the **intent and content** of the original input query.\n",
    "\n",
    "This metric focuses on whether the generated response stays **on-topic** and provides meaningful, query-specific information.\n",
    "\n",
    "`deepeval` uses a **self-explaining LLM-based evaluation**, meaning it not only gives a score but also provides a **reason** for the verdict using an LLM as a judge.\n",
    "\n",
    "### Required Inputs for `AnswerRelevancyMetric` in `deepeval`:\n",
    "\n",
    "- `input`: The user’s query  \n",
    "- `actual_output`: The response generated by your LLM\n",
    "\n",
    "This metric is useful for identifying off-topic or overly generic answers, helping ensure your generated output is truly relevant to the user's question.\n"
   ]
  },
  {
   "cell_type": "markdown",
   "metadata": {
    "application/vnd.databricks.v1+cell": {
     "cellMetadata": {
      "byteLimit": 2048000,
      "rowLimit": 10000
     },
     "inputWidgets": {},
     "nuid": "6537c1c1-27e3-442d-bdae-f79a4ae9f906",
     "showTitle": false,
     "tableResultSettingsMap": {},
     "title": ""
    }
   },
   "source": [
    "### Evaluating Answer Relevancy\n",
    "\n",
    "In this step, we evaluate how relevant the LLM's generated response is to the input question.\n",
    "\n",
    "We use `AnswerRelevancyMetric`, which compares the question and the generated answer to see if the response stays on-topic and addresses the query meaningfully.\n",
    "\n",
    "The evaluation returns a score and a reason, helping us understand how well the model aligned its response with the user's intent.\n"
   ]
  },
  {
   "cell_type": "code",
   "execution_count": 61,
   "metadata": {
    "application/vnd.databricks.v1+cell": {
     "cellMetadata": {
      "byteLimit": 2048000,
      "rowLimit": 10000
     },
     "inputWidgets": {},
     "nuid": "bac54465-539c-42c4-8762-8db1f1cdb603",
     "showTitle": false,
     "tableResultSettingsMap": {},
     "title": ""
    },
    "scrolled": true
   },
   "outputs": [
    {
     "data": {
      "text/html": [
       "<pre style=\"white-space:pre;overflow-x:auto;line-height:normal;font-family:Menlo,'DejaVu Sans Mono',consolas,'Courier New',monospace\">✨ You're running DeepEval's latest <span style=\"color: #6a00ff; text-decoration-color: #6a00ff\">Answer Relevancy Metric</span>! <span style=\"color: #374151; text-decoration-color: #374151; font-weight: bold\">(</span><span style=\"color: #374151; text-decoration-color: #374151\">using azure-gpt4o-mini, </span><span style=\"color: #374151; text-decoration-color: #374151\">strict</span><span style=\"color: #374151; text-decoration-color: #374151\">=</span><span style=\"color: #374151; text-decoration-color: #374151; font-style: italic\">False</span><span style=\"color: #374151; text-decoration-color: #374151\">, </span>\n",
       "<span style=\"color: #374151; text-decoration-color: #374151\">async_mode</span><span style=\"color: #374151; text-decoration-color: #374151\">=</span><span style=\"color: #374151; text-decoration-color: #374151; font-style: italic\">True</span><span style=\"color: #374151; text-decoration-color: #374151; font-weight: bold\">)</span><span style=\"color: #374151; text-decoration-color: #374151\">...</span>\n",
       "</pre>\n"
      ],
      "text/plain": [
       "✨ You're running DeepEval's latest \u001b[38;2;106;0;255mAnswer Relevancy Metric\u001b[0m! \u001b[1;38;2;55;65;81m(\u001b[0m\u001b[38;2;55;65;81musing azure-gpt4o-mini, \u001b[0m\u001b[38;2;55;65;81mstrict\u001b[0m\u001b[38;2;55;65;81m=\u001b[0m\u001b[3;38;2;55;65;81mFalse\u001b[0m\u001b[38;2;55;65;81m, \u001b[0m\n",
       "\u001b[38;2;55;65;81masync_mode\u001b[0m\u001b[38;2;55;65;81m=\u001b[0m\u001b[3;38;2;55;65;81mTrue\u001b[0m\u001b[1;38;2;55;65;81m)\u001b[0m\u001b[38;2;55;65;81m...\u001b[0m\n"
      ]
     },
     "metadata": {},
     "output_type": "display_data"
    },
    {
     "name": "stderr",
     "output_type": "stream",
     "text": [
      "Evaluating 1 test case(s) in parallel: |          |  0% (0/1) [Time Taken: 00:00, ?test case/s]"
     ]
    },
    {
     "name": "stdout",
     "output_type": "stream",
     "text": [
      "**************************************************\n",
      "Answer Relevancy Verbose Logs\n",
      "**************************************************\n",
      "\n",
      "Statements:\n",
      "[\n",
      "    \"There is increasing inequality in healthcare in India.\",\n",
      "    \"Private sector five-star hospitals dominate and cater to the high-end market.\",\n",
      "    \"Private healthcare is less accessible to weaker sections of society.\",\n",
      "    \"There is a significant shortage of trained medical personnel.\",\n",
      "    \"Shortage includes doctors, nurses, and especially paramedics.\",\n",
      "    \"There is a particular need for medical personnel willing to serve in rural areas.\",\n",
      "    \"Access to care is limited in rural areas.\",\n",
      "    \"There are systemic constraints despite government focus on health issues.\",\n",
      "    \"Much remains to be done to develop effective and sustainable health systems.\",\n",
      "    \"Health systems need to address rising non-communicable diseases.\",\n",
      "    \"Health systems need to meet the population's demand for better quality healthcare.\",\n",
      "    \"Health systems need to meet the population's demand for higher levels of healthcare.\",\n",
      "    \"Affordability and accessibility remain major concerns in healthcare.\",\n",
      "    \"The population faces difficulties accessing low-cost healthcare alternatives.\",\n",
      "    \"There is a low ratio of healthcare providers.\",\n",
      "    \"There is a lack of technical infrastructure in healthcare.\",\n",
      "    \"There is an absence of standards in healthcare.\",\n",
      "    \"There are privacy concerns in healthcare.\",\n",
      "    \"There are gaps in pharmaceutical, payer, and provider ecosystems.\",\n",
      "    \"There is a lack of comprehensive regulations in the healthcare sector.\",\n",
      "    \"There is a need for improved medical education and training.\",\n",
      "    \"Improvement in medical education and training could come through private sector involvement.\",\n",
      "    \"Improvement in medical education and training could come through public-private partnerships.\",\n",
      "    \"These challenges highlight the need for more socially relevant private sector efforts.\",\n",
      "    \"There is a need for better distribution of healthcare resources.\",\n",
      "    \"Systemic improvements are needed to meet India’s healthcare demands.\"\n",
      "] \n",
      " \n",
      "Verdicts:\n",
      "[\n",
      "    {\n",
      "        \"verdict\": \"yes\",\n",
      "        \"reason\": null\n",
      "    },\n",
      "    {\n",
      "        \"verdict\": \"yes\",\n",
      "        \"reason\": null\n",
      "    },\n",
      "    {\n",
      "        \"verdict\": \"yes\",\n",
      "        \"reason\": null\n",
      "    },\n",
      "    {\n",
      "        \"verdict\": \"yes\",\n",
      "        \"reason\": null\n",
      "    },\n",
      "    {\n",
      "        \"verdict\": \"yes\",\n",
      "        \"reason\": null\n",
      "    },\n",
      "    {\n",
      "        \"verdict\": \"yes\",\n",
      "        \"reason\": null\n",
      "    },\n",
      "    {\n",
      "        \"verdict\": \"yes\",\n",
      "        \"reason\": null\n",
      "    },\n",
      "    {\n",
      "        \"verdict\": \"yes\",\n",
      "        \"reason\": null\n",
      "    },\n",
      "    {\n",
      "        \"verdict\": \"yes\",\n",
      "        \"reason\": null\n",
      "    },\n",
      "    {\n",
      "        \"verdict\": \"yes\",\n",
      "        \"reason\": null\n",
      "    },\n",
      "    {\n",
      "        \"verdict\": \"yes\",\n",
      "        \"reason\": null\n",
      "    },\n",
      "    {\n",
      "        \"verdict\": \"yes\",\n",
      "        \"reason\": null\n",
      "    },\n",
      "    {\n",
      "        \"verdict\": \"yes\",\n",
      "        \"reason\": null\n",
      "    },\n",
      "    {\n",
      "        \"verdict\": \"yes\",\n",
      "        \"reason\": null\n",
      "    },\n",
      "    {\n",
      "        \"verdict\": \"yes\",\n",
      "        \"reason\": null\n",
      "    },\n",
      "    {\n",
      "        \"verdict\": \"yes\",\n",
      "        \"reason\": null\n",
      "    },\n",
      "    {\n",
      "        \"verdict\": \"idk\",\n",
      "        \"reason\": null\n",
      "    },\n",
      "    {\n",
      "        \"verdict\": \"yes\",\n",
      "        \"reason\": null\n",
      "    },\n",
      "    {\n",
      "        \"verdict\": \"yes\",\n",
      "        \"reason\": null\n",
      "    },\n",
      "    {\n",
      "        \"verdict\": \"yes\",\n",
      "        \"reason\": null\n",
      "    },\n",
      "    {\n",
      "        \"verdict\": \"idk\",\n",
      "        \"reason\": null\n",
      "    },\n",
      "    {\n",
      "        \"verdict\": \"idk\",\n",
      "        \"reason\": null\n",
      "    },\n",
      "    {\n",
      "        \"verdict\": \"idk\",\n",
      "        \"reason\": null\n",
      "    },\n",
      "    {\n",
      "        \"verdict\": \"yes\",\n",
      "        \"reason\": null\n",
      "    },\n",
      "    {\n",
      "        \"verdict\": \"yes\",\n",
      "        \"reason\": null\n",
      "    },\n",
      "    {\n",
      "        \"verdict\": \"yes\",\n",
      "        \"reason\": null\n",
      "    }\n",
      "]\n",
      " \n",
      "Score: 1.0\n",
      "Reason: The score is 1.00 because the response fully addresses the main challenges facing the healthcare sector in India without including any irrelevant information.\n",
      "\n",
      "======================================================================\n"
     ]
    },
    {
     "name": "stderr",
     "output_type": "stream",
     "text": [
      "Evaluating 1 test case(s) in parallel: |██████████|100% (1/1) [Time Taken: 00:07,  7.96s/test case]"
     ]
    },
    {
     "name": "stdout",
     "output_type": "stream",
     "text": [
      "\n",
      "======================================================================\n",
      "\n",
      "Metrics Summary\n",
      "\n",
      "  - ✅ Answer Relevancy (score: 1.0, threshold: 0.6, strict: False, evaluation model: azure-gpt4o-mini, reason: The score is 1.00 because the response fully addresses the main challenges facing the healthcare sector in India without including any irrelevant information., error: None)\n",
      "\n",
      "For test case:\n",
      "\n",
      "  - input: What are the main challenges facing the healthcare sector in India today?\n",
      "  - actual output: The main challenges facing the healthcare sector in India today, based on the provided context, include:\n",
      "\n",
      "1. Increasing inequality in healthcare due to the dominance of private sector five-star hospitals catering to the high-end market, making private healthcare less accessible to weaker sections of society.\n",
      "\n",
      "2. A significant shortage of trained medical personnel, including doctors, nurses, and especially paramedics, with a particular need for personnel willing to serve in rural areas where access to care is limited.\n",
      "\n",
      "3. Systemic constraints despite government focus on health issues, with much still to be done to develop effective and sustainable health systems that can address the dual demands of rising non-communicable diseases and the population’s need for better quality and higher levels of healthcare.\n",
      "\n",
      "4. Affordability and accessibility remain major concerns, with the population facing difficulties in accessing low-cost healthcare alternatives and a low ratio of healthcare providers.\n",
      "\n",
      "5. Additional challenges include a lack of technical infrastructure, absence of standards, privacy concerns, gaps in pharmaceutical, payer, and provider ecosystems, and a lack of comprehensive regulations.\n",
      "\n",
      "6. The need for improved medical education and training, potentially through private sector involvement or public-private partnerships, to address workforce shortages.\n",
      "\n",
      "Overall, these challenges highlight the need for more socially relevant private sector efforts, better distribution of healthcare resources, and systemic improvements to meet the healthcare demands of India’s population.\n",
      "  - expected output: None\n",
      "  - context: None\n",
      "  - retrieval context: None\n",
      "\n",
      "======================================================================\n",
      "\n",
      "Overall Metric Pass Rates\n",
      "\n",
      "Answer Relevancy: 100.00% pass rate\n",
      "\n",
      "======================================================================\n",
      "\n"
     ]
    },
    {
     "name": "stderr",
     "output_type": "stream",
     "text": [
      "\n"
     ]
    },
    {
     "data": {
      "text/html": [
       "<pre style=\"white-space:pre;overflow-x:auto;line-height:normal;font-family:Menlo,'DejaVu Sans Mono',consolas,'Courier New',monospace\">\n",
       "<span style=\"color: #05f58d; text-decoration-color: #05f58d\">✓</span> Tests finished 🎉! Run <span style=\"color: #008000; text-decoration-color: #008000; font-weight: bold\">'deepeval login'</span> to save and analyze evaluation results on Confident AI.\n",
       " \n",
       "✨👀 Looking for a place for your LLM test data to live 🏡❤️ ? Use <span style=\"color: #6a00ff; text-decoration-color: #6a00ff\">Confident AI</span> to get &amp; share testing reports, \n",
       "experiment with models/prompts, and catch regressions for your LLM system. Just run <span style=\"color: #008080; text-decoration-color: #008080\">'deepeval login'</span> in the CLI. \n",
       "\n",
       "</pre>\n"
      ],
      "text/plain": [
       "\n",
       "\u001b[38;2;5;245;141m✓\u001b[0m Tests finished 🎉! Run \u001b[1;32m'deepeval login'\u001b[0m to save and analyze evaluation results on Confident AI.\n",
       " \n",
       "✨👀 Looking for a place for your LLM test data to live 🏡❤️ ? Use \u001b[38;2;106;0;255mConfident AI\u001b[0m to get & share testing reports, \n",
       "experiment with models/prompts, and catch regressions for your LLM system. Just run \u001b[36m'deepeval login'\u001b[0m in the CLI. \n",
       "\n"
      ]
     },
     "metadata": {},
     "output_type": "display_data"
    }
   ],
   "source": [
    "test_case = LLMTestCase(\n",
    "    input=response['question'],\n",
    "    actual_output=response['AI_generated_response'],\n",
    ")\n",
    "\n",
    "metric = AnswerRelevancyMetric(\n",
    "    threshold=0.6,\n",
    "    model=wrapped_model,\n",
    "    include_reason=True,\n",
    "    verbose_mode=True\n",
    ")\n",
    "\n",
    "result = evaluate([test_case], [metric])"
   ]
  },
  {
   "cell_type": "code",
   "execution_count": 62,
   "metadata": {
    "application/vnd.databricks.v1+cell": {
     "cellMetadata": {
      "byteLimit": 2048000,
      "rowLimit": 10000
     },
     "inputWidgets": {},
     "nuid": "d47d4959-0249-44d0-a27c-e9717f1b110e",
     "showTitle": false,
     "tableResultSettingsMap": {},
     "title": ""
    },
    "scrolled": true
   },
   "outputs": [
    {
     "name": "stdout",
     "output_type": "stream",
     "text": [
      "Sucess: True\n",
      "Score: 1.0\n",
      "Reason: The score is 1.00 because the response fully addresses the main challenges facing the healthcare sector in India without including any irrelevant information.\n"
     ]
    }
   ],
   "source": [
    "print('Sucess:', result.test_results[0].metrics_data[0].success)\n",
    "print('Score:', result.test_results[0].metrics_data[0].score)\n",
    "print('Reason:', result.test_results[0].metrics_data[0].reason)"
   ]
  },
  {
   "cell_type": "markdown",
   "metadata": {
    "application/vnd.databricks.v1+cell": {
     "cellMetadata": {
      "byteLimit": 2048000,
      "rowLimit": 10000
     },
     "inputWidgets": {},
     "nuid": "3407e430-188a-49e4-8d21-9b96e7f198ad",
     "showTitle": false,
     "tableResultSettingsMap": {},
     "title": ""
    }
   },
   "source": [
    "### Observation: Answer Relevancy – Perfect Alignment\n",
    "\n",
    "In this evaluation, the **Answer Relevancy score hit a perfect 1.00**, indicating that the AI-generated response was **highly relevant** to the question _“How does MIoT improve hospital safety?”_\n",
    "\n",
    "#### Key Points:\n",
    "- The answer clearly explained MIoT’s deployment across care environments.\n",
    "- It emphasized **data-sharing**, **error reduction**, and **biometric input** for responsive care.\n",
    "- No irrelevant information was present, and all statements contributed to the topic.\n",
    "\n",
    "---\n",
    "\n",
    "### Comparison with Contextual Relevancy\n",
    "\n",
    "| Metric                | Score | Verdict | Notes |\n",
    "|-----------------------|-------|---------|-------|\n",
    "| **Answer Relevancy**    | 1.00  | Pass    | Answer was focused, coherent, and highly aligned with the input query. |\n",
    "| **Contextual Relevancy** | 0.56  | Pass    | Context was mostly relevant, but had a few distractors (e.g., general HIoT or ID card mentions). |\n",
    "\n",
    "---\n",
    "\n",
    "### Takeaway:\n",
    "While the **retrieved context** contained minor distractions, the **LLM response stayed sharply focused** on the topic. This shows the model’s ability to extract and generate **precise, context-aligned answers**, even when the input material is slightly noisy.\n"
   ]
  },
  {
   "cell_type": "markdown",
   "metadata": {
    "application/vnd.databricks.v1+cell": {
     "cellMetadata": {
      "byteLimit": 2048000,
      "rowLimit": 10000
     },
     "inputWidgets": {},
     "nuid": "6b1a7ab7-d5dd-484d-bf5c-bcc5558ec3f0",
     "showTitle": false,
     "tableResultSettingsMap": {},
     "title": ""
    }
   },
   "source": [
    "## Faithfulness\n",
    "\n",
    "The **faithfulness** metric evaluates whether the LLM's generated response (**actual_output**) is **factually consistent** with the information found in the **retrieved context**.\n",
    "\n",
    "It helps detect whether the model has introduced **hallucinations**—claims that are not grounded in the source material.\n",
    "\n",
    "`deepeval` uses a **self-explaining LLM-based evaluation**, meaning it not only provides a score but also includes a rationale for how the score was determined.\n",
    "\n",
    "### Required Inputs for `FaithfulnessMetric` in `deepeval`:\n",
    "\n",
    "- `input`: The original user query (not used in this metric)  \n",
    "- `actual_output`: The response generated by your LLM  \n",
    "- `retrieval_context`: The top-N document chunks retrieved from your vector store\n",
    "\n",
    "This metric is essential for ensuring that generated answers stay **fact-based** and **trustworthy**, especially in high-stakes domains like healthcare.\n",
    "\n",
    "\n"
   ]
  },
  {
   "cell_type": "code",
   "execution_count": 63,
   "metadata": {},
   "outputs": [
    {
     "data": {
      "text/plain": [
       "'MIoT (Medical Internet of Things) improves hospital safety by creating a connected environment where medical devices and systems can communicate seamlessly. This connectivity allows real-time monitoring of patients through biometric sensors and smart devices, which helps detect critical changes in a patient’s condition more quickly. As a result, healthcare providers can respond faster and more accurately. Additionally, MIoT reduces human errors by automating data collection and ensuring that medical information is accurate and readily available across different care settings—from hospital wards to home care. Overall, this leads to better coordination, quicker interventions, and enhanced patient safety.'"
      ]
     },
     "execution_count": 63,
     "metadata": {},
     "output_type": "execute_result"
    }
   ],
   "source": [
    "human_answer"
   ]
  },
  {
   "cell_type": "code",
   "execution_count": 64,
   "metadata": {
    "application/vnd.databricks.v1+cell": {
     "cellMetadata": {
      "byteLimit": 2048000,
      "rowLimit": 10000
     },
     "inputWidgets": {},
     "nuid": "9dc87be7-5fd4-481f-b619-ced4b9f074be",
     "showTitle": false,
     "tableResultSettingsMap": {},
     "title": ""
    },
    "scrolled": true
   },
   "outputs": [
    {
     "data": {
      "text/html": [
       "<pre style=\"white-space:pre;overflow-x:auto;line-height:normal;font-family:Menlo,'DejaVu Sans Mono',consolas,'Courier New',monospace\">✨ You're running DeepEval's latest <span style=\"color: #6a00ff; text-decoration-color: #6a00ff\">Faithfulness Metric</span>! <span style=\"color: #374151; text-decoration-color: #374151; font-weight: bold\">(</span><span style=\"color: #374151; text-decoration-color: #374151\">using azure-gpt4o-mini, </span><span style=\"color: #374151; text-decoration-color: #374151\">strict</span><span style=\"color: #374151; text-decoration-color: #374151\">=</span><span style=\"color: #374151; text-decoration-color: #374151; font-style: italic\">False</span><span style=\"color: #374151; text-decoration-color: #374151\">, </span><span style=\"color: #374151; text-decoration-color: #374151\">async_mode</span><span style=\"color: #374151; text-decoration-color: #374151\">=</span><span style=\"color: #374151; text-decoration-color: #374151; font-style: italic\">True</span><span style=\"color: #374151; text-decoration-color: #374151; font-weight: bold\">)</span><span style=\"color: #374151; text-decoration-color: #374151\">...</span>\n",
       "</pre>\n"
      ],
      "text/plain": [
       "✨ You're running DeepEval's latest \u001b[38;2;106;0;255mFaithfulness Metric\u001b[0m! \u001b[1;38;2;55;65;81m(\u001b[0m\u001b[38;2;55;65;81musing azure-gpt4o-mini, \u001b[0m\u001b[38;2;55;65;81mstrict\u001b[0m\u001b[38;2;55;65;81m=\u001b[0m\u001b[3;38;2;55;65;81mFalse\u001b[0m\u001b[38;2;55;65;81m, \u001b[0m\u001b[38;2;55;65;81masync_mode\u001b[0m\u001b[38;2;55;65;81m=\u001b[0m\u001b[3;38;2;55;65;81mTrue\u001b[0m\u001b[1;38;2;55;65;81m)\u001b[0m\u001b[38;2;55;65;81m...\u001b[0m\n"
      ]
     },
     "metadata": {},
     "output_type": "display_data"
    },
    {
     "name": "stderr",
     "output_type": "stream",
     "text": [
      "Evaluating 1 test case(s) in parallel: |          |  0% (0/1) [Time Taken: 00:00, ?test case/s]"
     ]
    },
    {
     "name": "stdout",
     "output_type": "stream",
     "text": [
      "**************************************************\n",
      "Faithfulness Verbose Logs\n",
      "**************************************************\n",
      "\n",
      "Truths (limit=None):\n",
      "[\n",
      "    \"MIoT stands for Medical Internet of Things.\",\n",
      "    \"MIoT improves hospital safety by creating a connected environment where medical devices and systems can communicate seamlessly.\",\n",
      "    \"Connectivity in MIoT allows real-time monitoring of patients through biometric sensors and smart devices.\",\n",
      "    \"Real-time monitoring with MIoT helps detect critical changes in a patient's condition more quickly.\",\n",
      "    \"Healthcare providers can respond faster and more accurately due to MIoT.\",\n",
      "    \"MIoT reduces human errors by automating data collection.\",\n",
      "    \"MIoT ensures that medical information is accurate and readily available across different care settings.\",\n",
      "    \"Care settings mentioned include hospital wards and home care.\",\n",
      "    \"The use of MIoT leads to better coordination, quicker interventions, and enhanced patient safety.\"\n",
      "] \n",
      " \n",
      "Claims:\n",
      "[\n",
      "    \"The healthcare sector in India faces increasing inequality due to the dominance of private sector five-star hospitals catering to the high-end market, making private healthcare less accessible to weaker sections of society.\",\n",
      "    \"There is a significant shortage of trained medical personnel in India, including doctors, nurses, and especially paramedics.\",\n",
      "    \"There is a particular need for medical personnel willing to serve in rural areas of India where access to care is limited.\",\n",
      "    \"Despite government focus on health issues, systemic constraints exist and much still needs to be done to develop effective and sustainable health systems in India.\",\n",
      "    \"India's healthcare system must address the dual demands of rising non-communicable diseases and the population's need for better quality and higher levels of healthcare.\",\n",
      "    \"Affordability and accessibility remain major concerns in India, with the population facing difficulties in accessing low-cost healthcare alternatives and a low ratio of healthcare providers.\",\n",
      "    \"Additional challenges in India's healthcare sector include a lack of technical infrastructure, absence of standards, privacy concerns, gaps in pharmaceutical, payer, and provider ecosystems, and a lack of comprehensive regulations.\",\n",
      "    \"There is a need for improved medical education and training in India, potentially through private sector involvement or public-private partnerships, to address workforce shortages.\",\n",
      "    \"There is a need for more socially relevant private sector efforts, better distribution of healthcare resources, and systemic improvements to meet the healthcare demands of India’s population.\"\n",
      "] \n",
      " \n",
      "Verdicts:\n",
      "[\n",
      "    {\n",
      "        \"verdict\": \"idk\",\n",
      "        \"reason\": null\n",
      "    },\n",
      "    {\n",
      "        \"verdict\": \"idk\",\n",
      "        \"reason\": null\n",
      "    },\n",
      "    {\n",
      "        \"verdict\": \"idk\",\n",
      "        \"reason\": null\n",
      "    },\n",
      "    {\n",
      "        \"verdict\": \"idk\",\n",
      "        \"reason\": null\n",
      "    },\n",
      "    {\n",
      "        \"verdict\": \"idk\",\n",
      "        \"reason\": null\n",
      "    },\n",
      "    {\n",
      "        \"verdict\": \"idk\",\n",
      "        \"reason\": null\n",
      "    },\n",
      "    {\n",
      "        \"verdict\": \"idk\",\n",
      "        \"reason\": null\n",
      "    },\n",
      "    {\n",
      "        \"verdict\": \"idk\",\n",
      "        \"reason\": null\n",
      "    },\n",
      "    {\n",
      "        \"verdict\": \"idk\",\n",
      "        \"reason\": null\n",
      "    }\n",
      "]\n",
      " \n",
      "Score: 1.0\n",
      "Reason: The score is 1.00 because there are no contradictions; the actual output aligns perfectly with the retrieval context.\n",
      "\n",
      "======================================================================\n"
     ]
    },
    {
     "name": "stderr",
     "output_type": "stream",
     "text": [
      "Evaluating 1 test case(s) in parallel: |██████████|100% (1/1) [Time Taken: 00:06,  6.11s/test case]"
     ]
    },
    {
     "name": "stdout",
     "output_type": "stream",
     "text": [
      "\n",
      "======================================================================\n",
      "\n",
      "Metrics Summary\n",
      "\n",
      "  - ✅ Faithfulness (score: 1.0, threshold: 0.6, strict: False, evaluation model: azure-gpt4o-mini, reason: The score is 1.00 because there are no contradictions; the actual output aligns perfectly with the retrieval context., error: None)\n",
      "\n",
      "For test case:\n",
      "\n",
      "  - input: What are the main challenges facing the healthcare sector in India today?\n",
      "  - actual output: The main challenges facing the healthcare sector in India today, based on the provided context, include:\n",
      "\n",
      "1. Increasing inequality in healthcare due to the dominance of private sector five-star hospitals catering to the high-end market, making private healthcare less accessible to weaker sections of society.\n",
      "\n",
      "2. A significant shortage of trained medical personnel, including doctors, nurses, and especially paramedics, with a particular need for personnel willing to serve in rural areas where access to care is limited.\n",
      "\n",
      "3. Systemic constraints despite government focus on health issues, with much still to be done to develop effective and sustainable health systems that can address the dual demands of rising non-communicable diseases and the population’s need for better quality and higher levels of healthcare.\n",
      "\n",
      "4. Affordability and accessibility remain major concerns, with the population facing difficulties in accessing low-cost healthcare alternatives and a low ratio of healthcare providers.\n",
      "\n",
      "5. Additional challenges include a lack of technical infrastructure, absence of standards, privacy concerns, gaps in pharmaceutical, payer, and provider ecosystems, and a lack of comprehensive regulations.\n",
      "\n",
      "6. The need for improved medical education and training, potentially through private sector involvement or public-private partnerships, to address workforce shortages.\n",
      "\n",
      "Overall, these challenges highlight the need for more socially relevant private sector efforts, better distribution of healthcare resources, and systemic improvements to meet the healthcare demands of India’s population.\n",
      "  - expected output: None\n",
      "  - context: None\n",
      "  - retrieval context: ['MIoT (Medical Internet of Things) improves hospital safety by creating a connected environment where medical devices and systems can communicate seamlessly. This connectivity allows real-time monitoring of patients through biometric sensors and smart devices, which helps detect critical changes in a patient’s condition more quickly. As a result, healthcare providers can respond faster and more accurately. Additionally, MIoT reduces human errors by automating data collection and ensuring that medical information is accurate and readily available across different care settings—from hospital wards to home care. Overall, this leads to better coordination, quicker interventions, and enhanced patient safety.']\n",
      "\n",
      "======================================================================\n",
      "\n",
      "Overall Metric Pass Rates\n",
      "\n",
      "Faithfulness: 100.00% pass rate\n",
      "\n",
      "======================================================================\n",
      "\n"
     ]
    },
    {
     "name": "stderr",
     "output_type": "stream",
     "text": [
      "\n"
     ]
    },
    {
     "data": {
      "text/html": [
       "<pre style=\"white-space:pre;overflow-x:auto;line-height:normal;font-family:Menlo,'DejaVu Sans Mono',consolas,'Courier New',monospace\">\n",
       "<span style=\"color: #05f58d; text-decoration-color: #05f58d\">✓</span> Tests finished 🎉! Run <span style=\"color: #008000; text-decoration-color: #008000; font-weight: bold\">'deepeval login'</span> to save and analyze evaluation results on Confident AI.\n",
       " \n",
       "✨👀 Looking for a place for your LLM test data to live 🏡❤️ ? Use <span style=\"color: #6a00ff; text-decoration-color: #6a00ff\">Confident AI</span> to get &amp; share testing reports, \n",
       "experiment with models/prompts, and catch regressions for your LLM system. Just run <span style=\"color: #008080; text-decoration-color: #008080\">'deepeval login'</span> in the CLI. \n",
       "\n",
       "</pre>\n"
      ],
      "text/plain": [
       "\n",
       "\u001b[38;2;5;245;141m✓\u001b[0m Tests finished 🎉! Run \u001b[1;32m'deepeval login'\u001b[0m to save and analyze evaluation results on Confident AI.\n",
       " \n",
       "✨👀 Looking for a place for your LLM test data to live 🏡❤️ ? Use \u001b[38;2;106;0;255mConfident AI\u001b[0m to get & share testing reports, \n",
       "experiment with models/prompts, and catch regressions for your LLM system. Just run \u001b[36m'deepeval login'\u001b[0m in the CLI. \n",
       "\n"
      ]
     },
     "metadata": {},
     "output_type": "display_data"
    }
   ],
   "source": [
    "test_case = LLMTestCase(\n",
    "    input=response['question'],\n",
    "    actual_output=response['AI_generated_response'],\n",
    "    retrieval_context=[human_answer]\n",
    ")\n",
    "\n",
    "metric = FaithfulnessMetric(\n",
    "    threshold=0.6,\n",
    "    model=wrapped_model,\n",
    "    include_reason=True,\n",
    "    verbose_mode=True\n",
    ")\n",
    "\n",
    "result = evaluate([test_case], [metric])"
   ]
  },
  {
   "cell_type": "code",
   "execution_count": 65,
   "metadata": {
    "application/vnd.databricks.v1+cell": {
     "cellMetadata": {
      "byteLimit": 2048000,
      "rowLimit": 10000
     },
     "inputWidgets": {},
     "nuid": "1a6ffe03-3cd9-46c1-9be0-e1d78848d877",
     "showTitle": false,
     "tableResultSettingsMap": {},
     "title": ""
    }
   },
   "outputs": [
    {
     "name": "stdout",
     "output_type": "stream",
     "text": [
      "Sucess: True\n",
      "Score: 1.0\n",
      "Reason: The score is 1.00 because there are no contradictions; the actual output aligns perfectly with the retrieval context.\n"
     ]
    }
   ],
   "source": [
    "print('Sucess:', result.test_results[0].metrics_data[0].success)\n",
    "print('Score:', result.test_results[0].metrics_data[0].score)\n",
    "print('Reason:', result.test_results[0].metrics_data[0].reason)"
   ]
  },
  {
   "cell_type": "markdown",
   "metadata": {
    "application/vnd.databricks.v1+cell": {
     "cellMetadata": {
      "byteLimit": 2048000,
      "rowLimit": 10000
     },
     "inputWidgets": {},
     "nuid": "9f88bf35-72f8-4d74-91dd-27efafdac78a",
     "showTitle": false,
     "tableResultSettingsMap": {},
     "title": ""
    }
   },
   "source": [
    "### Observation: Faithfulness Score – 1.00 (Perfect Match)\n",
    "\n",
    "In this test, the **Faithfulness score was a flawless 1.00**, meaning the AI-generated answer stayed **completely grounded in the retrieved context**.\n",
    "\n",
    "#### Key Validated Claims:\n",
    "- MIoT enables deployment of context-aware systems across hospital environments.\n",
    "- Heterogeneous devices share data securely to reduce preventable errors.\n",
    "- HIoT boosts medical intelligence and supports biometric input for rapid care.\n",
    "\n",
    "There were **no hallucinations or inconsistencies**. Each claim in the output was found in the source material.\n",
    "\n",
    "---\n",
    "\n",
    "### Comparison: Answer Relevancy vs. Faithfulness\n",
    "\n",
    "| Metric            | Score | Verdict | Comments |\n",
    "|-------------------|-------|---------|----------|\n",
    "|  **Answer Relevancy** | 1.00  | Pass    | The response was topically focused and well-aligned with the query. |\n",
    "|  **Faithfulness**     | 1.00  | Pass    | Every statement was fully supported by the retrieval context. |\n",
    "\n",
    "---\n",
    "\n",
    "### Insight:\n",
    "This result confirms the AI system's **strong ability to generate accurate and relevant answers** that do not stray from the provided content — a key requirement for building **trustworthy RAG applications** in healthcare and beyond.\n"
   ]
  },
  {
   "cell_type": "markdown",
   "metadata": {
    "application/vnd.databricks.v1+cell": {
     "cellMetadata": {
      "byteLimit": 2048000,
      "rowLimit": 10000
     },
     "inputWidgets": {},
     "nuid": "4377bb6d-566a-46ac-9689-f9404f0372f4",
     "showTitle": false,
     "tableResultSettingsMap": {},
     "title": ""
    }
   },
   "source": [
    "## Hallucination Check\n",
    "\n",
    "The **hallucination** metric checks whether the LLM generates any **factually incorrect or unsupported information** in its response.\n",
    "\n",
    "It does this by comparing the `actual_output` to a **human-verified ground truth context**, rather than relying on retrieved documents.\n",
    "\n",
    "`deepeval` uses a **self-explaining LLM evaluation**, meaning the model provides both a score and a reason for its judgment.\n",
    "\n",
    "### Required Inputs for `HallucinationMetric` in `deepeval`:\n",
    "\n",
    "- `input`: The original user query (not used in the scoring)  \n",
    "- `actual_output`: The response generated by the LLM  \n",
    "- `context`: Human-verified ground truth chunks used for factual reference\n",
    "\n",
    "This metric is especially important for identifying **hallucinations**, or fabricated details, which can undermine trust and accuracy in high-stakes applications.\n",
    "\n",
    "\n"
   ]
  },
  {
   "cell_type": "code",
   "execution_count": 66,
   "metadata": {},
   "outputs": [
    {
     "name": "stdout",
     "output_type": "stream",
     "text": [
      "MIoT (Medical Internet of Things) improves hospital safety by creating a connected environment where medical devices and systems can communicate seamlessly. This connectivity allows real-time monitoring of patients through biometric sensors and smart devices, which helps detect critical changes in a patient’s condition more quickly. As a result, healthcare providers can respond faster and more accurately. Additionally, MIoT reduces human errors by automating data collection and ensuring that medical information is accurate and readily available across different care settings—from hospital wards to home care. Overall, this leads to better coordination, quicker interventions, and enhanced patient safety.\n"
     ]
    }
   ],
   "source": [
    "print(human_answer)"
   ]
  },
  {
   "cell_type": "code",
   "execution_count": 67,
   "metadata": {
    "application/vnd.databricks.v1+cell": {
     "cellMetadata": {
      "byteLimit": 2048000,
      "rowLimit": 10000
     },
     "inputWidgets": {},
     "nuid": "806888cb-7ec4-4bfd-b3ab-0a22075ef924",
     "showTitle": false,
     "tableResultSettingsMap": {},
     "title": ""
    },
    "scrolled": true
   },
   "outputs": [
    {
     "data": {
      "text/html": [
       "<pre style=\"white-space:pre;overflow-x:auto;line-height:normal;font-family:Menlo,'DejaVu Sans Mono',consolas,'Courier New',monospace\">✨ You're running DeepEval's latest <span style=\"color: #6a00ff; text-decoration-color: #6a00ff\">Hallucination Metric</span>! <span style=\"color: #374151; text-decoration-color: #374151; font-weight: bold\">(</span><span style=\"color: #374151; text-decoration-color: #374151\">using azure-gpt4o-mini, </span><span style=\"color: #374151; text-decoration-color: #374151\">strict</span><span style=\"color: #374151; text-decoration-color: #374151\">=</span><span style=\"color: #374151; text-decoration-color: #374151; font-style: italic\">False</span><span style=\"color: #374151; text-decoration-color: #374151\">, </span>\n",
       "<span style=\"color: #374151; text-decoration-color: #374151\">async_mode</span><span style=\"color: #374151; text-decoration-color: #374151\">=</span><span style=\"color: #374151; text-decoration-color: #374151; font-style: italic\">True</span><span style=\"color: #374151; text-decoration-color: #374151; font-weight: bold\">)</span><span style=\"color: #374151; text-decoration-color: #374151\">...</span>\n",
       "</pre>\n"
      ],
      "text/plain": [
       "✨ You're running DeepEval's latest \u001b[38;2;106;0;255mHallucination Metric\u001b[0m! \u001b[1;38;2;55;65;81m(\u001b[0m\u001b[38;2;55;65;81musing azure-gpt4o-mini, \u001b[0m\u001b[38;2;55;65;81mstrict\u001b[0m\u001b[38;2;55;65;81m=\u001b[0m\u001b[3;38;2;55;65;81mFalse\u001b[0m\u001b[38;2;55;65;81m, \u001b[0m\n",
       "\u001b[38;2;55;65;81masync_mode\u001b[0m\u001b[38;2;55;65;81m=\u001b[0m\u001b[3;38;2;55;65;81mTrue\u001b[0m\u001b[1;38;2;55;65;81m)\u001b[0m\u001b[38;2;55;65;81m...\u001b[0m\n"
      ]
     },
     "metadata": {},
     "output_type": "display_data"
    },
    {
     "name": "stderr",
     "output_type": "stream",
     "text": [
      "Evaluating 1 test case(s) in parallel: |          |  0% (0/1) [Time Taken: 00:00, ?test case/s]"
     ]
    },
    {
     "name": "stdout",
     "output_type": "stream",
     "text": [
      "**************************************************\n",
      "Hallucination Verbose Logs\n",
      "**************************************************\n",
      "\n",
      "Verdicts:\n",
      "[\n",
      "    {\n",
      "        \"verdict\": \"no\",\n",
      "        \"reason\": \"The actual output describes challenges in the healthcare sector in India and does not discuss MIoT or its benefits related to hospital safety, connected environments, real-time patient monitoring, reduction of human errors, or improved patient coordination as stated in the context.\"\n",
      "    }\n",
      "]\n",
      " \n",
      "Score: 1.0\n",
      "Reason: The score is 1.00 because the actual output completely contradicts the context by discussing unrelated healthcare challenges instead of MIoT benefits, resulting in full hallucination.\n",
      "\n",
      "======================================================================\n"
     ]
    },
    {
     "name": "stderr",
     "output_type": "stream",
     "text": [
      "Evaluating 1 test case(s) in parallel: |██████████|100% (1/1) [Time Taken: 00:02,  2.52s/test case]"
     ]
    },
    {
     "name": "stdout",
     "output_type": "stream",
     "text": [
      "\n",
      "======================================================================\n",
      "\n",
      "Metrics Summary\n",
      "\n",
      "  - ❌ Hallucination (score: 1.0, threshold: 0.6, strict: False, evaluation model: azure-gpt4o-mini, reason: The score is 1.00 because the actual output completely contradicts the context by discussing unrelated healthcare challenges instead of MIoT benefits, resulting in full hallucination., error: None)\n",
      "\n",
      "For test case:\n",
      "\n",
      "  - input: What are the main challenges facing the healthcare sector in India today?\n",
      "  - actual output: The main challenges facing the healthcare sector in India today, based on the provided context, include:\n",
      "\n",
      "1. Increasing inequality in healthcare due to the dominance of private sector five-star hospitals catering to the high-end market, making private healthcare less accessible to weaker sections of society.\n",
      "\n",
      "2. A significant shortage of trained medical personnel, including doctors, nurses, and especially paramedics, with a particular need for personnel willing to serve in rural areas where access to care is limited.\n",
      "\n",
      "3. Systemic constraints despite government focus on health issues, with much still to be done to develop effective and sustainable health systems that can address the dual demands of rising non-communicable diseases and the population’s need for better quality and higher levels of healthcare.\n",
      "\n",
      "4. Affordability and accessibility remain major concerns, with the population facing difficulties in accessing low-cost healthcare alternatives and a low ratio of healthcare providers.\n",
      "\n",
      "5. Additional challenges include a lack of technical infrastructure, absence of standards, privacy concerns, gaps in pharmaceutical, payer, and provider ecosystems, and a lack of comprehensive regulations.\n",
      "\n",
      "6. The need for improved medical education and training, potentially through private sector involvement or public-private partnerships, to address workforce shortages.\n",
      "\n",
      "Overall, these challenges highlight the need for more socially relevant private sector efforts, better distribution of healthcare resources, and systemic improvements to meet the healthcare demands of India’s population.\n",
      "  - expected output: None\n",
      "  - context: ['MIoT (Medical Internet of Things) improves hospital safety by creating a connected environment where medical devices and systems can communicate seamlessly. This connectivity allows real-time monitoring of patients through biometric sensors and smart devices, which helps detect critical changes in a patient’s condition more quickly. As a result, healthcare providers can respond faster and more accurately. Additionally, MIoT reduces human errors by automating data collection and ensuring that medical information is accurate and readily available across different care settings—from hospital wards to home care. Overall, this leads to better coordination, quicker interventions, and enhanced patient safety.']\n",
      "  - retrieval context: None\n",
      "\n",
      "======================================================================\n",
      "\n",
      "Overall Metric Pass Rates\n",
      "\n",
      "Hallucination: 0.00% pass rate\n",
      "\n",
      "======================================================================\n",
      "\n"
     ]
    },
    {
     "name": "stderr",
     "output_type": "stream",
     "text": [
      "\n"
     ]
    },
    {
     "data": {
      "text/html": [
       "<pre style=\"white-space:pre;overflow-x:auto;line-height:normal;font-family:Menlo,'DejaVu Sans Mono',consolas,'Courier New',monospace\">\n",
       "<span style=\"color: #05f58d; text-decoration-color: #05f58d\">✓</span> Tests finished 🎉! Run <span style=\"color: #008000; text-decoration-color: #008000; font-weight: bold\">'deepeval login'</span> to save and analyze evaluation results on Confident AI.\n",
       " \n",
       "✨👀 Looking for a place for your LLM test data to live 🏡❤️ ? Use <span style=\"color: #6a00ff; text-decoration-color: #6a00ff\">Confident AI</span> to get &amp; share testing reports, \n",
       "experiment with models/prompts, and catch regressions for your LLM system. Just run <span style=\"color: #008080; text-decoration-color: #008080\">'deepeval login'</span> in the CLI. \n",
       "\n",
       "</pre>\n"
      ],
      "text/plain": [
       "\n",
       "\u001b[38;2;5;245;141m✓\u001b[0m Tests finished 🎉! Run \u001b[1;32m'deepeval login'\u001b[0m to save and analyze evaluation results on Confident AI.\n",
       " \n",
       "✨👀 Looking for a place for your LLM test data to live 🏡❤️ ? Use \u001b[38;2;106;0;255mConfident AI\u001b[0m to get & share testing reports, \n",
       "experiment with models/prompts, and catch regressions for your LLM system. Just run \u001b[36m'deepeval login'\u001b[0m in the CLI. \n",
       "\n"
      ]
     },
     "metadata": {},
     "output_type": "display_data"
    }
   ],
   "source": [
    "test_case = LLMTestCase(\n",
    "    input=response['question'],\n",
    "    actual_output=response['AI_generated_response'],\n",
    "    context=[human_answer]\n",
    ")\n",
    "\n",
    "metric = HallucinationMetric(\n",
    "    threshold=0.6,\n",
    "    model=wrapped_model,\n",
    "    include_reason=True,\n",
    "    verbose_mode=True\n",
    ")\n",
    "\n",
    "result = evaluate([test_case], [metric])"
   ]
  },
  {
   "cell_type": "code",
   "execution_count": 68,
   "metadata": {
    "application/vnd.databricks.v1+cell": {
     "cellMetadata": {
      "byteLimit": 2048000,
      "rowLimit": 10000
     },
     "inputWidgets": {},
     "nuid": "34b33a0f-deba-4c12-b074-48b065bdae37",
     "showTitle": false,
     "tableResultSettingsMap": {},
     "title": ""
    }
   },
   "outputs": [
    {
     "name": "stdout",
     "output_type": "stream",
     "text": [
      "Sucess: False\n",
      "Score: 1.0\n",
      "Reason: The score is 1.00 because the actual output completely contradicts the context by discussing unrelated healthcare challenges instead of MIoT benefits, resulting in full hallucination.\n"
     ]
    }
   ],
   "source": [
    "print('Sucess:', result.test_results[0].metrics_data[0].success)\n",
    "print('Score:', result.test_results[0].metrics_data[0].score)\n",
    "print('Reason:', result.test_results[0].metrics_data[0].reason)"
   ]
  },
  {
   "cell_type": "markdown",
   "metadata": {
    "application/vnd.databricks.v1+cell": {
     "cellMetadata": {
      "byteLimit": 2048000,
      "rowLimit": 10000
     },
     "inputWidgets": {},
     "nuid": "1c963fdd-3de8-45a6-8c7a-d02112f735f2",
     "showTitle": false,
     "tableResultSettingsMap": {},
     "title": ""
    }
   },
   "source": [
    "###  Observation: \n",
    "\n",
    "\n",
    "The **Hallucination Metric** scored a perfect **0.00**, indicating that the model did **not introduce any unsupported or fabricated information**.  \n",
    "All parts of the generated answer were factually grounded in the **human-verified context**, making this a **100% trustworthy output**.\n",
    "\n",
    "**What went well?**  \n",
    "The model’s statements—on MIoT’s role in patient safety, device interoperability, error reduction, and infection tracking—**all matched the ground truth** without any contradictions.\n",
    "\n",
    "\n",
    "---\n",
    "\n",
    "###  Comparison With Other Metrics\n",
    "\n",
    "| Metric              | Score | Verdict | Key Insight |\n",
    "|---------------------|-------|---------|-------------|\n",
    "|  **Answer Relevancy**   | 1.00  | Pass    | All statements were highly relevant to the input question. |\n",
    "|  **Faithfulness**       | 1.00  | Pass    | No contradictions with the source context. |\n",
    "|  **Hallucination**      | 0.00  | Pass    | Partially grounded; some factual details were omitted or assumed. |\n",
    "\n",
    "---\n",
    "\n",
    "### Takeaway\n",
    "\n",
    "The model not only generated a **relevant** and **faithful** answer but also maintained **factual integrity** throughout.  \n",
    "This confirms that both the **retrieval and generation steps** worked together to produce a response that is **accurate, reliable, and hallucination-free**—a key benchmark for real-world LLM applications in sensitive domains like healthcare.\n"
   ]
  },
  {
   "cell_type": "markdown",
   "metadata": {
    "application/vnd.databricks.v1+cell": {
     "cellMetadata": {
      "byteLimit": 2048000,
      "rowLimit": 10000
     },
     "inputWidgets": {},
     "nuid": "e74c8046-6ba3-45a3-bb90-6dcce2d04573",
     "showTitle": false,
     "tableResultSettingsMap": {},
     "title": ""
    }
   },
   "source": [
    "## Hallucination Check with Noisy Retrieval Context\n",
    "\n",
    "In this case, we deliberately test how well the LLM handles a **hallucination scenario** by feeding it a **retrieval context filled with irrelevant or noisy chunks**.\n",
    "\n",
    "### What We’re Doing\n",
    "\n",
    "We keep the **input question** and **actual LLM response** the same, but we replace the valid context with a **noisy context**—one that doesn't support or relate to the expected answer.\n",
    "\n",
    "### Purpose\n",
    "\n",
    "This test helps us evaluate whether the model:\n",
    "\n",
    "- **Hallucinates** information that isn’t grounded in the context\n",
    "- Tries to “make up” facts when there’s no support available\n",
    "- Can be **trustworthy** when the retrieval pipeline fails\n",
    "\n",
    "This is a key scenario for understanding how the system behaves under weak or misleading information conditions.\n"
   ]
  },
  {
   "cell_type": "code",
   "execution_count": 69,
   "metadata": {},
   "outputs": [],
   "source": [
    "# now let's inject the noise \n",
    "\n",
    "noisy_human_answer=\"\"\"Theory of Relativity and MIoT: A Conceptual Parallel\n",
    "Albert Einstein’s theory of relativity—including Special and General Relativity—transformed how we understand time, space, and gravity. It introduced concepts like time dilation and spacetime curvature, showing that time and space are relative to the observer’s motion and position.\n",
    "\n",
    "Drawing a loose analogy, Medical Internet of Things (MIoT) systems are becoming increasingly context-aware, adapting to patients’ needs in real time. Just as relativity tells us that events unfold differently depending on one’s frame of reference, MIoT networks respond dynamically to a patient’s clinical context—location, vitals, and device interactions.\n",
    "\n",
    "Some futurists and AI theorists suggest that, like spacetime in physics, data environments in hospitals may evolve into dynamic, responsive systems that “bend” around the patient’s condition. While this is more metaphorical than scientific, it highlights how both relativity and MIoT value context and adaptability over fixed systems..\"\"\""
   ]
  },
  {
   "cell_type": "code",
   "execution_count": 70,
   "metadata": {
    "application/vnd.databricks.v1+cell": {
     "cellMetadata": {
      "byteLimit": 2048000,
      "rowLimit": 10000
     },
     "inputWidgets": {},
     "nuid": "cf131fe5-5238-4d1d-9533-f2f491084e90",
     "showTitle": false,
     "tableResultSettingsMap": {},
     "title": ""
    },
    "scrolled": true
   },
   "outputs": [
    {
     "data": {
      "text/html": [
       "<pre style=\"white-space:pre;overflow-x:auto;line-height:normal;font-family:Menlo,'DejaVu Sans Mono',consolas,'Courier New',monospace\">✨ You're running DeepEval's latest <span style=\"color: #6a00ff; text-decoration-color: #6a00ff\">Hallucination Metric</span>! <span style=\"color: #374151; text-decoration-color: #374151; font-weight: bold\">(</span><span style=\"color: #374151; text-decoration-color: #374151\">using azure-gpt4o-mini, </span><span style=\"color: #374151; text-decoration-color: #374151\">strict</span><span style=\"color: #374151; text-decoration-color: #374151\">=</span><span style=\"color: #374151; text-decoration-color: #374151; font-style: italic\">False</span><span style=\"color: #374151; text-decoration-color: #374151\">, </span>\n",
       "<span style=\"color: #374151; text-decoration-color: #374151\">async_mode</span><span style=\"color: #374151; text-decoration-color: #374151\">=</span><span style=\"color: #374151; text-decoration-color: #374151; font-style: italic\">True</span><span style=\"color: #374151; text-decoration-color: #374151; font-weight: bold\">)</span><span style=\"color: #374151; text-decoration-color: #374151\">...</span>\n",
       "</pre>\n"
      ],
      "text/plain": [
       "✨ You're running DeepEval's latest \u001b[38;2;106;0;255mHallucination Metric\u001b[0m! \u001b[1;38;2;55;65;81m(\u001b[0m\u001b[38;2;55;65;81musing azure-gpt4o-mini, \u001b[0m\u001b[38;2;55;65;81mstrict\u001b[0m\u001b[38;2;55;65;81m=\u001b[0m\u001b[3;38;2;55;65;81mFalse\u001b[0m\u001b[38;2;55;65;81m, \u001b[0m\n",
       "\u001b[38;2;55;65;81masync_mode\u001b[0m\u001b[38;2;55;65;81m=\u001b[0m\u001b[3;38;2;55;65;81mTrue\u001b[0m\u001b[1;38;2;55;65;81m)\u001b[0m\u001b[38;2;55;65;81m...\u001b[0m\n"
      ]
     },
     "metadata": {},
     "output_type": "display_data"
    },
    {
     "name": "stderr",
     "output_type": "stream",
     "text": [
      "Evaluating 1 test case(s) in parallel: |          |  0% (0/1) [Time Taken: 00:00, ?test case/s]"
     ]
    },
    {
     "name": "stdout",
     "output_type": "stream",
     "text": [
      "**************************************************\n",
      "Hallucination Verbose Logs\n",
      "**************************************************\n",
      "\n",
      "Verdicts:\n",
      "[\n",
      "    {\n",
      "        \"verdict\": \"no\",\n",
      "        \"reason\": \"The actual output focuses on healthcare challenges in India, which is unrelated and does not correspond with the context about Einstein\\u2019s theory of relativity and the Medical Internet of Things (MIoT). The actual output should discuss concepts related to relativity, MIoT systems, or their conceptual parallels.\"\n",
      "    }\n",
      "]\n",
      " \n",
      "Score: 1.0\n",
      "Reason: The score is 1.00 because the actual output is entirely unrelated to the given context, focusing on healthcare challenges instead of topics on Einstein’s theory of relativity or Medical Internet of Things, resulting in a complete contradiction.\n",
      "\n",
      "======================================================================\n"
     ]
    },
    {
     "name": "stderr",
     "output_type": "stream",
     "text": [
      "Evaluating 1 test case(s) in parallel: |██████████|100% (1/1) [Time Taken: 00:02,  2.62s/test case]"
     ]
    },
    {
     "name": "stdout",
     "output_type": "stream",
     "text": [
      "\n",
      "======================================================================\n",
      "\n",
      "Metrics Summary\n",
      "\n",
      "  - ❌ Hallucination (score: 1.0, threshold: 0.6, strict: False, evaluation model: azure-gpt4o-mini, reason: The score is 1.00 because the actual output is entirely unrelated to the given context, focusing on healthcare challenges instead of topics on Einstein’s theory of relativity or Medical Internet of Things, resulting in a complete contradiction., error: None)\n",
      "\n",
      "For test case:\n",
      "\n",
      "  - input: What are the main challenges facing the healthcare sector in India today?\n",
      "  - actual output: The main challenges facing the healthcare sector in India today, based on the provided context, include:\n",
      "\n",
      "1. Increasing inequality in healthcare due to the dominance of private sector five-star hospitals catering to the high-end market, making private healthcare less accessible to weaker sections of society.\n",
      "\n",
      "2. A significant shortage of trained medical personnel, including doctors, nurses, and especially paramedics, with a particular need for personnel willing to serve in rural areas where access to care is limited.\n",
      "\n",
      "3. Systemic constraints despite government focus on health issues, with much still to be done to develop effective and sustainable health systems that can address the dual demands of rising non-communicable diseases and the population’s need for better quality and higher levels of healthcare.\n",
      "\n",
      "4. Affordability and accessibility remain major concerns, with the population facing difficulties in accessing low-cost healthcare alternatives and a low ratio of healthcare providers.\n",
      "\n",
      "5. Additional challenges include a lack of technical infrastructure, absence of standards, privacy concerns, gaps in pharmaceutical, payer, and provider ecosystems, and a lack of comprehensive regulations.\n",
      "\n",
      "6. The need for improved medical education and training, potentially through private sector involvement or public-private partnerships, to address workforce shortages.\n",
      "\n",
      "Overall, these challenges highlight the need for more socially relevant private sector efforts, better distribution of healthcare resources, and systemic improvements to meet the healthcare demands of India’s population.\n",
      "  - expected output: None\n",
      "  - context: ['Theory of Relativity and MIoT: A Conceptual Parallel\\nAlbert Einstein’s theory of relativity—including Special and General Relativity—transformed how we understand time, space, and gravity. It introduced concepts like time dilation and spacetime curvature, showing that time and space are relative to the observer’s motion and position.\\n\\nDrawing a loose analogy, Medical Internet of Things (MIoT) systems are becoming increasingly context-aware, adapting to patients’ needs in real time. Just as relativity tells us that events unfold differently depending on one’s frame of reference, MIoT networks respond dynamically to a patient’s clinical context—location, vitals, and device interactions.\\n\\nSome futurists and AI theorists suggest that, like spacetime in physics, data environments in hospitals may evolve into dynamic, responsive systems that “bend” around the patient’s condition. While this is more metaphorical than scientific, it highlights how both relativity and MIoT value context and adaptability over fixed systems..']\n",
      "  - retrieval context: None\n",
      "\n",
      "======================================================================\n",
      "\n",
      "Overall Metric Pass Rates\n",
      "\n",
      "Hallucination: 0.00% pass rate\n",
      "\n",
      "======================================================================\n",
      "\n"
     ]
    },
    {
     "name": "stderr",
     "output_type": "stream",
     "text": [
      "\n"
     ]
    },
    {
     "data": {
      "text/html": [
       "<pre style=\"white-space:pre;overflow-x:auto;line-height:normal;font-family:Menlo,'DejaVu Sans Mono',consolas,'Courier New',monospace\">\n",
       "<span style=\"color: #05f58d; text-decoration-color: #05f58d\">✓</span> Tests finished 🎉! Run <span style=\"color: #008000; text-decoration-color: #008000; font-weight: bold\">'deepeval login'</span> to save and analyze evaluation results on Confident AI.\n",
       " \n",
       "✨👀 Looking for a place for your LLM test data to live 🏡❤️ ? Use <span style=\"color: #6a00ff; text-decoration-color: #6a00ff\">Confident AI</span> to get &amp; share testing reports, \n",
       "experiment with models/prompts, and catch regressions for your LLM system. Just run <span style=\"color: #008080; text-decoration-color: #008080\">'deepeval login'</span> in the CLI. \n",
       "\n",
       "</pre>\n"
      ],
      "text/plain": [
       "\n",
       "\u001b[38;2;5;245;141m✓\u001b[0m Tests finished 🎉! Run \u001b[1;32m'deepeval login'\u001b[0m to save and analyze evaluation results on Confident AI.\n",
       " \n",
       "✨👀 Looking for a place for your LLM test data to live 🏡❤️ ? Use \u001b[38;2;106;0;255mConfident AI\u001b[0m to get & share testing reports, \n",
       "experiment with models/prompts, and catch regressions for your LLM system. Just run \u001b[36m'deepeval login'\u001b[0m in the CLI. \n",
       "\n"
      ]
     },
     "metadata": {},
     "output_type": "display_data"
    }
   ],
   "source": [
    "test_case = LLMTestCase(\n",
    "    input=response['question'],\n",
    "    actual_output=response['AI_generated_response'],\n",
    "    context=[noisy_human_answer]\n",
    ")\n",
    "\n",
    "metric = HallucinationMetric(\n",
    "    threshold=0.6,\n",
    "    model=wrapped_model,\n",
    "    include_reason=True,\n",
    "    verbose_mode=True\n",
    ")\n",
    "\n",
    "result = evaluate([test_case], [metric])"
   ]
  },
  {
   "cell_type": "code",
   "execution_count": 71,
   "metadata": {
    "application/vnd.databricks.v1+cell": {
     "cellMetadata": {
      "byteLimit": 2048000,
      "rowLimit": 10000
     },
     "inputWidgets": {},
     "nuid": "a3703c13-2145-4b17-a4ee-cab5a5dfc5aa",
     "showTitle": false,
     "tableResultSettingsMap": {},
     "title": ""
    }
   },
   "outputs": [
    {
     "name": "stdout",
     "output_type": "stream",
     "text": [
      "Sucess: False\n",
      "Score: 1.0\n",
      "Reason: The score is 1.00 because the actual output is entirely unrelated to the given context, focusing on healthcare challenges instead of topics on Einstein’s theory of relativity or Medical Internet of Things, resulting in a complete contradiction.\n"
     ]
    }
   ],
   "source": [
    "print('Sucess:', result.test_results[0].metrics_data[0].success)\n",
    "print('Score:', result.test_results[0].metrics_data[0].score)\n",
    "print('Reason:', result.test_results[0].metrics_data[0].reason)"
   ]
  },
  {
   "cell_type": "markdown",
   "metadata": {
    "application/vnd.databricks.v1+cell": {
     "cellMetadata": {
      "byteLimit": 2048000,
      "rowLimit": 10000
     },
     "inputWidgets": {},
     "nuid": "ed43ed3e-1e5f-416a-b635-c716a10a3148",
     "showTitle": false,
     "tableResultSettingsMap": {},
     "title": ""
    }
   },
   "source": [
    "### Observation: Hallucination Check with Noisy Retrieval Context\n",
    "\n",
    "In this case, we intentionally tested the model with a **noisy context**.\n",
    "\n",
    " **Score:** 1.00  *(Failed under relaxed threshold)*  \n",
    "\n",
    "\n",
    "---\n",
    "\n",
    "### What happened?\n",
    "\n",
    "- The model generated a detailed and accurate response about **MIoT improving hospital safety**.\n",
    "- However, parts of the noisy context discussed **relativity theory** and **MIOT with relativity**, which were not reflected in the generated answer.\n",
    "- As a result, the model appeared to **ignore the given context** and rely on **prior knowledge**, which DeepEval flags as **hallucination**.\n",
    "\n",
    "---\n",
    "\n",
    "### Comparison with Previous Hallucination Test\n",
    "\n",
    "| Scenario                   | Score | Verdict |\n",
    "|----------------------------|-------|--------------------------|\n",
    "| Clean context (accurate)   | 0.00  |  No hallucination | \n",
    "| Noisy context (this test)  | 1.00  |   hallucination   |\n",
    "\n",
    "---\n",
    "\n",
    "### Takeaway\n",
    "It highlights the importance of **effective retrieval filtering** in RAG pipelines to ensure reliable, grounded answers.\n"
   ]
  },
  {
   "cell_type": "markdown",
   "metadata": {
    "application/vnd.databricks.v1+cell": {
     "cellMetadata": {
      "byteLimit": 2048000,
      "rowLimit": 10000
     },
     "inputWidgets": {},
     "nuid": "e63b063f-5f1d-4daf-9db6-a09a6951b5eb",
     "showTitle": false,
     "tableResultSettingsMap": {},
     "title": ""
    }
   },
   "source": [
    "## Custom LLM as a Judge (G-Eval)\n",
    "\n",
    "**G-Eval** is a flexible evaluation framework in `deepeval` that uses a language model with **chain-of-thought (CoT)** reasoning to judge LLM responses based on **any custom criteria** you define.\n",
    "\n",
    "It is the **most versatile** metric in the DeepEval suite and is well-suited for use cases that require **domain-specific rules**, nuanced assessments, or multiple evaluation dimensions.\n",
    "\n",
    "### How It Works\n",
    "\n",
    "You define your evaluation logic using **custom prompts** under `evaluation_steps`, allowing you to guide how the LLM should score and explain its decisions.\n",
    "\n",
    "### Required Inputs for `G-Eval` in `deepeval`:\n",
    "\n",
    "- `input`: The original user query (optional, depending on use case)  \n",
    "- `actual_output`: The LLM-generated response  \n",
    "- `expected_output` (optional): Human-verified answer for comparison  \n",
    "- `context` (optional): Supporting documents for grounding or factual reference\n",
    "\n",
    "G-Eval is ideal for building **task-specific benchmarks**, performing **multi-step evaluations**, or tailoring assessments to **real-world application requirements**.\n",
    "\n",
    "\n"
   ]
  },
  {
   "cell_type": "markdown",
   "metadata": {
    "application/vnd.databricks.v1+cell": {
     "cellMetadata": {
      "byteLimit": 2048000,
      "rowLimit": 10000
     },
     "inputWidgets": {},
     "nuid": "7bf33098-78ef-4b4d-a91c-39a3a77e533d",
     "showTitle": false,
     "tableResultSettingsMap": {},
     "title": ""
    }
   },
   "source": [
    "### Custom Evaluation using G-Eval in DeepEval\n",
    "\n",
    "In this setup, we are using the **G-Eval** framework to evaluate the LLM’s response based on **custom logic** defined through a series of steps.\n",
    "\n",
    "Here’s what’s happening:\n",
    "\n",
    "1. We define a `test_case` that includes:\n",
    "   - The input question\n",
    "   - The model’s actual output\n",
    "   - A human-verified expected answer\n",
    "   - The retrieval context (document chunks the model used)\n",
    "\n",
    "2. We configure a **custom metric** named `\"RAG Fact Checker\"` using `G-Eval`.\n",
    "\n",
    "3. The evaluation uses a step-by-step approach:\n",
    "   - Extract statements from the generated output\n",
    "   - Check if they answer the question and penalize irrelevant ones\n",
    "   - Compare with the expected answer and penalize any missing or inaccurate claims\n",
    "   - Ensure statements are backed by the retrieval context\n",
    "   - Penalize any made-up or hallucinated content\n",
    "\n",
    "4. The test runs using an LLM as the evaluator, producing a final score along with a reasoning trace.\n",
    "\n",
    "This process gives a **comprehensive, explainable assessment** of how well the generated answer holds up in terms of **relevance, completeness, accuracy, and grounding**.\n"
   ]
  },
  {
   "cell_type": "code",
   "execution_count": 72,
   "metadata": {
    "application/vnd.databricks.v1+cell": {
     "cellMetadata": {
      "byteLimit": 2048000,
      "rowLimit": 10000
     },
     "inputWidgets": {},
     "nuid": "d4e4a913-3ac8-4d4f-a61b-005d8a5ae880",
     "showTitle": false,
     "tableResultSettingsMap": {},
     "title": ""
    },
    "scrolled": true
   },
   "outputs": [
    {
     "data": {
      "text/html": [
       "<pre style=\"white-space:pre;overflow-x:auto;line-height:normal;font-family:Menlo,'DejaVu Sans Mono',consolas,'Courier New',monospace\">✨ You're running DeepEval's latest <span style=\"color: #6a00ff; text-decoration-color: #6a00ff\">RAG Fact Checker </span><span style=\"color: #6a00ff; text-decoration-color: #6a00ff; font-weight: bold\">(</span><span style=\"color: #6a00ff; text-decoration-color: #6a00ff\">GEval</span><span style=\"color: #6a00ff; text-decoration-color: #6a00ff; font-weight: bold\">)</span><span style=\"color: #6a00ff; text-decoration-color: #6a00ff\"> Metric</span>! <span style=\"color: #374151; text-decoration-color: #374151; font-weight: bold\">(</span><span style=\"color: #374151; text-decoration-color: #374151\">using azure-gpt4o-mini, </span><span style=\"color: #374151; text-decoration-color: #374151\">strict</span><span style=\"color: #374151; text-decoration-color: #374151\">=</span><span style=\"color: #374151; text-decoration-color: #374151; font-style: italic\">False</span><span style=\"color: #374151; text-decoration-color: #374151\">, </span>\n",
       "<span style=\"color: #374151; text-decoration-color: #374151\">async_mode</span><span style=\"color: #374151; text-decoration-color: #374151\">=</span><span style=\"color: #374151; text-decoration-color: #374151; font-style: italic\">True</span><span style=\"color: #374151; text-decoration-color: #374151; font-weight: bold\">)</span><span style=\"color: #374151; text-decoration-color: #374151\">...</span>\n",
       "</pre>\n"
      ],
      "text/plain": [
       "✨ You're running DeepEval's latest \u001b[38;2;106;0;255mRAG Fact Checker \u001b[0m\u001b[1;38;2;106;0;255m(\u001b[0m\u001b[38;2;106;0;255mGEval\u001b[0m\u001b[1;38;2;106;0;255m)\u001b[0m\u001b[38;2;106;0;255m Metric\u001b[0m! \u001b[1;38;2;55;65;81m(\u001b[0m\u001b[38;2;55;65;81musing azure-gpt4o-mini, \u001b[0m\u001b[38;2;55;65;81mstrict\u001b[0m\u001b[38;2;55;65;81m=\u001b[0m\u001b[3;38;2;55;65;81mFalse\u001b[0m\u001b[38;2;55;65;81m, \u001b[0m\n",
       "\u001b[38;2;55;65;81masync_mode\u001b[0m\u001b[38;2;55;65;81m=\u001b[0m\u001b[3;38;2;55;65;81mTrue\u001b[0m\u001b[1;38;2;55;65;81m)\u001b[0m\u001b[38;2;55;65;81m...\u001b[0m\n"
      ]
     },
     "metadata": {},
     "output_type": "display_data"
    },
    {
     "name": "stderr",
     "output_type": "stream",
     "text": [
      "Evaluating 1 test case(s) in parallel: |          |  0% (0/1) [Time Taken: 00:00, ?test case/s]"
     ]
    },
    {
     "name": "stdout",
     "output_type": "stream",
     "text": [
      "**************************************************\n",
      "RAG Fact Checker (GEval) Verbose Logs\n",
      "**************************************************\n",
      "\n",
      "Criteria:\n",
      "None \n",
      " \n",
      "Evaluation Steps:\n",
      "[\n",
      "    \"Create a list of statements from 'actual output'\",\n",
      "    \"Validate if they are relevant and answers the given question in 'input', penalize if any statements are irrelevant\",\n",
      "    \"Also Validate if they exist in 'expected output', penalize if any statements are missing or factually wrong\",\n",
      "    \"Also validate if these statements are grounded in the 'retrieval context' and penalize if they are missing or factually wrong\",\n",
      "    \"Finally also penalize if any statements seem to be invented or made up and do not make sense factually given the 'input' and 'retrieval context'\"\n",
      "] \n",
      " \n",
      "Rubric:\n",
      "None\n",
      " \n",
      "Score: 0.8\n",
      "Reason: The actual output is fully relevant to the input question and closely matches the retrieval context, covering inequality, personnel shortage, systemic constraints, affordability, infrastructure gaps, and education needs. However, it omits the specific MIoT-related technological solutions described in the expected output, which focus on hospital safety and patient monitoring. No invented facts are present, but the absence of the expected technological angle prevents a perfect score.\n",
      "\n",
      "======================================================================\n"
     ]
    },
    {
     "name": "stderr",
     "output_type": "stream",
     "text": [
      "Evaluating 1 test case(s) in parallel: |██████████|100% (1/1) [Time Taken: 00:01,  1.95s/test case]"
     ]
    },
    {
     "name": "stdout",
     "output_type": "stream",
     "text": [
      "\n",
      "======================================================================\n",
      "\n",
      "Metrics Summary\n",
      "\n",
      "  - ✅ RAG Fact Checker (GEval) (score: 0.8, threshold: 0.6, strict: False, evaluation model: azure-gpt4o-mini, reason: The actual output is fully relevant to the input question and closely matches the retrieval context, covering inequality, personnel shortage, systemic constraints, affordability, infrastructure gaps, and education needs. However, it omits the specific MIoT-related technological solutions described in the expected output, which focus on hospital safety and patient monitoring. No invented facts are present, but the absence of the expected technological angle prevents a perfect score., error: None)\n",
      "\n",
      "For test case:\n",
      "\n",
      "  - input: What are the main challenges facing the healthcare sector in India today?\n",
      "  - actual output: The main challenges facing the healthcare sector in India today, based on the provided context, include:\n",
      "\n",
      "1. Increasing inequality in healthcare due to the dominance of private sector five-star hospitals catering to the high-end market, making private healthcare less accessible to weaker sections of society.\n",
      "\n",
      "2. A significant shortage of trained medical personnel, including doctors, nurses, and especially paramedics, with a particular need for personnel willing to serve in rural areas where access to care is limited.\n",
      "\n",
      "3. Systemic constraints despite government focus on health issues, with much still to be done to develop effective and sustainable health systems that can address the dual demands of rising non-communicable diseases and the population’s need for better quality and higher levels of healthcare.\n",
      "\n",
      "4. Affordability and accessibility remain major concerns, with the population facing difficulties in accessing low-cost healthcare alternatives and a low ratio of healthcare providers.\n",
      "\n",
      "5. Additional challenges include a lack of technical infrastructure, absence of standards, privacy concerns, gaps in pharmaceutical, payer, and provider ecosystems, and a lack of comprehensive regulations.\n",
      "\n",
      "6. The need for improved medical education and training, potentially through private sector involvement or public-private partnerships, to address workforce shortages.\n",
      "\n",
      "Overall, these challenges highlight the need for more socially relevant private sector efforts, better distribution of healthcare resources, and systemic improvements to meet the healthcare demands of India’s population.\n",
      "  - expected output: MIoT (Medical Internet of Things) improves hospital safety by creating a connected environment where medical devices and systems can communicate seamlessly. This connectivity allows real-time monitoring of patients through biometric sensors and smart devices, which helps detect critical changes in a patient’s condition more quickly. As a result, healthcare providers can respond faster and more accurately. Additionally, MIoT reduces human errors by automating data collection and ensuring that medical information is accurate and readily available across different care settings—from hospital wards to home care. Overall, this leads to better coordination, quicker interventions, and enhanced patient safety.\n",
      "  - context: None\n",
      "  - retrieval context: ['Large companies and affluent individuals have started five star hospitals which dominate the \\nspace for high end market. The private sector has made tremendous progress, but on the flip side it is \\nalso responsible for increasing inequality in healthcare sector. The private should be more socially \\nrelevant and efforts must be made to make private sector accessible to the weaker section of society. \\nHealth care system in India \\nTraditional Healthcare Systems in India', 'Shortage of trained medical personnel : India faces a huge shortage of trained medical personnel, \\nincluding doctors, nurses and especially paramedics, who may be more willing than doctors to live in \\nrural areas where access to care is limited. There is an immediate need for medical education and \\ntraining, which could provide additional opportunities for private sector providers or public-private-\\npartnerships (PPP). \\nSystemic Constraints \\n \\nDespite the Central Government’s focus on health issues, a major challenge is to carry the', 'much still remains to be done. The priority will be to develop effective and sustainable health systems \\nthat can meet the dual demands posed by the growth in non communicable diseases and peoples’ needs \\nfor better quality and higher levels of health care.  \\nReference \\nBhat  Ramesh (1999).  Characteristics  of  private medical practice  in India:  a  provider perspective  \\nHealth Policy and Planning 14 (1): pp. 26-37.   \\n \\nBhat  Ramesh  (2006).  Financial  Health  of  Private  sector  hospitals  in  India.  Working  Paper  No  \\n2006-01-01, Indian Institute of Management, Ahmedabad.', 'information, and a better awareness of preventative health behaviors, all point to a\\nchanging industry.\\nBefore we examine how digital transformation may affect healthcare in India,\\nlet us look at some of the sector’s most serious concerns. Affordability is a major\\nfactor for people as they seek low-cost and low-cost alternatives. Another impor-\\ntant difﬁculty is accessibility, which is exacerbated by the population’s low ratio of', '288\\nH. K. Channi et al.\\nFig. 7 Statistics of expenditure of government on healthcare year wise\\nhealthcare providers. We will need 6.4 million more healthcare workers to fulﬁll\\nglobal demands [27]. The problem is exacerbated by a lack of technical infrastruc-\\nture, a lack of standards, privacy concerns, and gaps in the pharmaceutical, payer,\\nand provider ecosystems, as well as a lack of comprehensive regulations. Looking\\nahead, the Indian market is well positioned to bridge the talent, location, infrastruc-\\nture, access, and urban–rural expenditure imbalance. Preventative steps are being']\n",
      "\n",
      "======================================================================\n",
      "\n",
      "Overall Metric Pass Rates\n",
      "\n",
      "RAG Fact Checker (GEval): 100.00% pass rate\n",
      "\n",
      "======================================================================\n",
      "\n"
     ]
    },
    {
     "name": "stderr",
     "output_type": "stream",
     "text": [
      "\n"
     ]
    },
    {
     "data": {
      "text/html": [
       "<pre style=\"white-space:pre;overflow-x:auto;line-height:normal;font-family:Menlo,'DejaVu Sans Mono',consolas,'Courier New',monospace\">\n",
       "<span style=\"color: #05f58d; text-decoration-color: #05f58d\">✓</span> Tests finished 🎉! Run <span style=\"color: #008000; text-decoration-color: #008000; font-weight: bold\">'deepeval login'</span> to save and analyze evaluation results on Confident AI.\n",
       " \n",
       "✨👀 Looking for a place for your LLM test data to live 🏡❤️ ? Use <span style=\"color: #6a00ff; text-decoration-color: #6a00ff\">Confident AI</span> to get &amp; share testing reports, \n",
       "experiment with models/prompts, and catch regressions for your LLM system. Just run <span style=\"color: #008080; text-decoration-color: #008080\">'deepeval login'</span> in the CLI. \n",
       "\n",
       "</pre>\n"
      ],
      "text/plain": [
       "\n",
       "\u001b[38;2;5;245;141m✓\u001b[0m Tests finished 🎉! Run \u001b[1;32m'deepeval login'\u001b[0m to save and analyze evaluation results on Confident AI.\n",
       " \n",
       "✨👀 Looking for a place for your LLM test data to live 🏡❤️ ? Use \u001b[38;2;106;0;255mConfident AI\u001b[0m to get & share testing reports, \n",
       "experiment with models/prompts, and catch regressions for your LLM system. Just run \u001b[36m'deepeval login'\u001b[0m in the CLI. \n",
       "\n"
      ]
     },
     "metadata": {},
     "output_type": "display_data"
    }
   ],
   "source": [
    "\n",
    "\n",
    "test_case = LLMTestCase(\n",
    "    input=response['question'],\n",
    "    actual_output=response[\"AI_generated_response\"],\n",
    "    expected_output=human_answer,\n",
    "    retrieval_context=retrieved_context\n",
    ")\n",
    "\n",
    "metric = GEval(\n",
    "    threshold=0.6,\n",
    "    model=wrapped_model,\n",
    "    name=\"RAG Fact Checker\",\n",
    "    # NOTE: you can only provide either criteria or evaluation_steps, and not both\n",
    "    evaluation_steps=[\n",
    "        \"Create a list of statements from 'actual output'\",\n",
    "        \"Validate if they are relevant and answers the given question in 'input', penalize if any statements are irrelevant\",\n",
    "        \"Also Validate if they exist in 'expected output', penalize if any statements are missing or factually wrong\",\n",
    "        \"Also validate if these statements are grounded in the 'retrieval context' and penalize if they are missing or factually wrong\",\n",
    "        \"Finally also penalize if any statements seem to be invented or made up and do not make sense factually given the 'input' and 'retrieval context'\"\n",
    "    ],\n",
    "    evaluation_params=[LLMTestCaseParams.INPUT,\n",
    "                       LLMTestCaseParams.ACTUAL_OUTPUT,\n",
    "                       LLMTestCaseParams.EXPECTED_OUTPUT,\n",
    "                       LLMTestCaseParams.RETRIEVAL_CONTEXT],\n",
    "    verbose_mode=True\n",
    ")\n",
    "\n",
    "result = evaluate([test_case], [metric])"
   ]
  },
  {
   "cell_type": "code",
   "execution_count": 73,
   "metadata": {
    "application/vnd.databricks.v1+cell": {
     "cellMetadata": {
      "byteLimit": 2048000,
      "rowLimit": 10000
     },
     "inputWidgets": {},
     "nuid": "faf4f175-de44-421e-a2bb-23f8ac0eeeca",
     "showTitle": false,
     "tableResultSettingsMap": {},
     "title": ""
    }
   },
   "outputs": [
    {
     "name": "stdout",
     "output_type": "stream",
     "text": [
      "Sucess: True\n",
      "Score: 0.8\n",
      "Reason: The actual output is fully relevant to the input question and closely matches the retrieval context, covering inequality, personnel shortage, systemic constraints, affordability, infrastructure gaps, and education needs. However, it omits the specific MIoT-related technological solutions described in the expected output, which focus on hospital safety and patient monitoring. No invented facts are present, but the absence of the expected technological angle prevents a perfect score.\n"
     ]
    }
   ],
   "source": [
    "print('Sucess:', result.test_results[0].metrics_data[0].success)\n",
    "print('Score:', result.test_results[0].metrics_data[0].score)\n",
    "print('Reason:', result.test_results[0].metrics_data[0].reason)"
   ]
  },
  {
   "cell_type": "markdown",
   "metadata": {
    "application/vnd.databricks.v1+cell": {
     "cellMetadata": {
      "byteLimit": 2048000,
      "rowLimit": 10000
     },
     "inputWidgets": {},
     "nuid": "3f80783e-f268-462c-b1ec-6f7f1a4e0b91",
     "showTitle": false,
     "tableResultSettingsMap": {},
     "title": ""
    }
   },
   "source": [
    "###  RAG Fact Checker (G-Eval) Result – Score: 0.7 \n",
    "\n",
    "In this test, the AI-generated response **barely met** the threshold for factual correctness under **custom multi-criteria evaluation** using DeepEval's G-Eval.\n",
    "\n",
    "---\n",
    "\n",
    "###  Key Observations:\n",
    "\n",
    "-  **Relevant Points Included**:\n",
    "  - MIoT enabling patient-centric systems in hospital environments.\n",
    "  - Mentioned reduction in preventable errors and improved responsiveness.\n",
    "\n",
    "-  **Penalties Incurred For**:\n",
    "  - Introducing **HIoT references**, which were not relevant to the MIoT-focused question.\n",
    "  - **Omitting key points** like \"real-time alerts,\" \"asset management,\" and \"wearables\" from the expected output.\n",
    "\n",
    "---\n",
    "\n",
    "### Comparison with Other Metrics\n",
    "\n",
    "| Metric                | Score | Outcome | Notes                                                                 |\n",
    "|----------------------|-------|---------|-----------------------------------------------------------------------|\n",
    "|  **Faithfulness**       | 1.00  | Pass    | Fully aligned with context, no contradictions                         |\n",
    "|  **Answer Relevancy**   | 1.00  | Pass    | Highly relevant, stayed on topic                                      |\n",
    "|  **Hallucination**      | 0.00  | Pass    | Missed aspects like encrypted records and future use cases           |\n",
    "|  **RAG Fact Checker**   | 0.70  | Pass    | Penalized for minor irrelevance and omissions                         |\n",
    "\n",
    "---\n",
    "\n",
    "### Insight:\n",
    "\n",
    "This case shows how **slight context drift** (e.g., switching from MIoT to HIoT) and **incomplete coverage** of expected elements (like alerting staff) can lower trustworthiness, even if the main response is on-topic. For **mission-critical applications like healthcare**, such subtleties in alignment matter significantly.\n"
   ]
  },
  {
   "cell_type": "markdown",
   "metadata": {},
   "source": [
    "> ## **Important Note**\n",
    "> \n",
    "> **We are evaluating this result using the `deepeval` library, which uses an LLM to act as a judge.**\n",
    "> \n",
    "> **At the backend, we are using `gpt-4o-mini` (Azure-hosted) to perform the evaluation.**\n",
    "> \n",
    "> **Because this involves an LLM's reasoning, there is a high probability that you might get slightly different results when you re-run the code — even with the same inputs.**\n",
    "> \n",
    "> **This variability happens because LLM-based evaluations can be non-deterministic by nature. Small differences in phrasing or internal model behavior can influence how it interprets relevance, alignment, or context.**\n",
    "> \n",
    "> **Therefore, while these evaluations provide valuable insights, treat individual scores as part of a broader trend rather than absolute judgments.**\n"
   ]
  },
  {
   "cell_type": "markdown",
   "metadata": {
    "application/vnd.databricks.v1+cell": {
     "cellMetadata": {
      "byteLimit": 2048000,
      "rowLimit": 10000
     },
     "inputWidgets": {},
     "nuid": "1f727422-7510-431f-8781-ecff22eac044",
     "showTitle": false,
     "tableResultSettingsMap": {},
     "title": ""
    }
   },
   "source": [
    "### Comparative Observation: Single PDF vs Multiple PDFs Evaluation\n",
    "\n",
    "When evaluating the RAG pipeline using **DeepEval metrics** for the query:  \n",
    "**\"How does MIoT improve hospital safety?\"**, we observed a clear difference in performance between **single-PDF** and **multi-PDF** retrieval scenarios.\n",
    "\n",
    "---\n",
    "\n",
    "###  Key Insight\n",
    "\n",
    "- The **single PDF (\"Digital Transformation of the Healthcare Value Chain...\")** was highly relevant and densely packed with content tailored to MIoT and hospital safety—leading to better **retrieval**, **relevance**, and **precision**.\n",
    "  \n",
    "- After introducing the second PDF, **\"Trends, Prospects, Challenges, and Security in the Healthcare IoT\"**, the **retrieved context became noisier**:\n",
    "  - Some nodes discussed marketing, economics, or general HIoT trends.\n",
    "  - Others introduced terminology or context **not directly aligned with the question**.\n",
    "\n",
    "---\n",
    "\n",
    "###  Conclusion\n",
    "\n",
    " **Single-PDF retrieval** worked better for focused queries tied to its content domain.  \n",
    " **Multi-PDF retrieval**, while broader, introduced **semantic noise**, especially when PDFs differ in focus.  \n",
    "This shows the importance of **content-aware retrieval filtering or source attribution** when scaling to multiple documents in a RAG system.\n",
    "\n",
    "---"
   ]
  },
  {
   "cell_type": "markdown",
   "metadata": {
    "application/vnd.databricks.v1+cell": {
     "cellMetadata": {
      "byteLimit": 2048000,
      "rowLimit": 10000
     },
     "inputWidgets": {},
     "nuid": "d0bdb30b-5a0d-4443-adea-c6c76b79ea19",
     "showTitle": false,
     "tableResultSettingsMap": {},
     "title": ""
    }
   },
   "source": [
    "### Key Solutions to Improve Accuracy (Based on Our Current Pipeline)\n",
    "\n",
    "In our experiments, RAG performance dropped slightly when combining multiple PDFs. This is mainly because the added PDF introduced **less relevant content**, which affected **retrieval precision** and overall evaluation scores.\n",
    "\n",
    "To improve accuracy, we recommend the following **within our existing setup**:\n",
    "\n",
    "---\n",
    "\n",
    "#### 1.  Use Only Relevant Chunks for Answer Generation\n",
    "- Ensure that only the **top semantically relevant chunks** are passed to the generation stage.\n",
    "- Our current `retrieve_chunks()` function already filters duplicate content—further **limit to top-3 or top-5** chunks based on semantic similarity.\n",
    "\n",
    "---\n",
    "\n",
    "#### 2. Eliminate Noisy Context Before Response Generation\n",
    "- In multi-PDF scenarios, some retrieved chunks (e.g., about healthcare marketing) were **not aligned** with the query.\n",
    "- Before generating an answer, apply a **manual or automated filtering step** to remove irrelevant chunks based on simple keyword or topic matching.\n",
    "\n",
    "---\n",
    "\n",
    "#### 3. Restrict the Model Using Strict Prompting\n",
    "- Use this instruction before generation:  \n",
    "  _“Generate an answer strictly based on the above context; do not use your own knowledge. If the query is not covered in the context, respond with: 'This query is not as per the PDF.'”_\n",
    "- This prevents **hallucination** and ensures **faithfulness to context**.\n",
    "\n",
    "---\n",
    "\n",
    "#### 4. Extract & Use Statement-Level Grounded Evidence (for Evaluation)\n",
    "- In metrics like Hallucination, Faithfulness, and G-Eval, we observed better scores when the **response used precise, grounded statements** from context chunks.\n",
    "- Prefer summarizing from **atomic-level claims** rather than full paragraphs.\n",
    "\n",
    "---\n",
    "\n",
    "By following these steps with our current tools (retriever, chunker, generator, and DeepEval metrics), we can improve the **trustworthiness and quality** of RAG responses across multiple PDF sources.\n"
   ]
  },
  {
   "cell_type": "markdown",
   "metadata": {
    "application/vnd.databricks.v1+cell": {
     "cellMetadata": {
      "byteLimit": 2048000,
      "rowLimit": 10000
     },
     "inputWidgets": {},
     "nuid": "5d7c3976-2fae-47d1-95e9-d312982eda25",
     "showTitle": false,
     "tableResultSettingsMap": {},
     "title": ""
    }
   },
   "source": [
    "> ## **Important Note**\n",
    "> \n",
    "> **We are evaluating this result using the `deepeval` library, which uses an LLM to act as a judge.**\n",
    "> \n",
    "> **At the backend, we are using `gpt-4o-mini` (Azure-hosted) to perform the evaluation.**\n",
    "> \n",
    "> **Because this involves an LLM's reasoning, there is a high probability that you might get slightly different results when you re-run the code — even with the same inputs.**\n",
    "> \n",
    "> **This variability happens because LLM-based evaluations can be non-deterministic by nature. Small differences in phrasing or internal model behavior can influence how it interprets relevance, alignment, or context.**\n",
    "> \n",
    "> **Therefore, while these evaluations provide valuable insights, treat individual scores as part of a broader trend rather than absolute judgments.**\n"
   ]
  },
  {
   "cell_type": "markdown",
   "metadata": {},
   "source": [
    "## Homework: \"RAG Under Pressure\" – Evaluating System Robustness with Noisy Inputs\n",
    "\n",
    "### Scenario:\n",
    "You built a powerful healthcare assistant using a RAG system that retrieves information from multiple medical PDFs to answer patient queries.  \n",
    "Now comes the challenge: real-world users don’t always ask clear, well-structured questions. They may introduce typos, irrelevant details, or mix languages. Also, not every document in your retrieval database is guaranteed to be relevant or reliable.\n",
    "\n",
    "---\n",
    "\n",
    "### Objective::\n",
    "Simulate real-world conditions by introducing noise into either the user queries or the retrieved documents. Then evaluate how well your RAG system performs under pressure.\n",
    "\n",
    "---\n",
    "\n",
    "### Task Description:\n",
    "\n",
    "#### 1. Stage 1: Run a Clean Test\n",
    "- Choose three healthcare-related questions (for example, symptoms of a disease, treatment options, or medication usage).\n",
    "- Run these questions through your current RAG system.\n",
    "- Record the following:\n",
    "  - Retrieved context chunks\n",
    "  - Final answers\n",
    "  - Evaluation scores using DeepEval metrics (such as `ContextualRetrievedRelevancy` or `G-Eval`)\n",
    "\n",
    "#### 2. Stage 2: Add Real-World Messiness\n",
    "Select one of the following methods to simulate noisy input:\n",
    "\n",
    "- **Option A: Corrupt the Query**  \n",
    "  - Add typos, abbreviations, informal language, or a mix of English and another language.  \n",
    "  - Example: \"Plz tell symptms of diabts\" or \"¿Cuales son los síntomas de hypertension?\"\n",
    "\n",
    "- **Option B: Corrupt the Document Base**  \n",
    "  - Add at least one unrelated PDF (such as a document about sports, cooking, or finance) to your retrieval system.  \n",
    "  - Make sure your retriever indexes this new content along with the medical PDFs.\n",
    "\n",
    "#### 3. Stage 3: Rerun and Evaluate\n",
    "- Rerun the same three queries, using either the noisy versions or the clean versions with the corrupted document base.\n",
    "- Record the following:\n",
    "  - Retrieved context chunks\n",
    "  - Generated answers\n",
    "  - Evaluation scores (using `ContextualRetrievedRelevancy`, `G-Eval`, etc.)\n",
    "\n",
    "#### 4. Stage 4: Compare and Reflect\n",
    "- Create a side-by-side comparison of the evaluation scores from before and after introducing noise.\n",
    "- Analyze the following:\n",
    "  - How did the answer quality change?\n",
    "  - Which type of noise had the greatest impact?\n",
    "  - What does this reveal about your system’s robustness?\n",
    "\n",
    "Then answer briefly:\n",
    "1. Did your RAG pipeline perform well under noisy conditions?  \n",
    "2. What improvements would you recommend to make retrieval and generation more resilient to real-world inputs?\n"
   ]
  }
 ],
 "metadata": {
  "application/vnd.databricks.v1+notebook": {
   "computePreferences": {
    "hardware": {
     "accelerator": null,
     "gpuPoolId": null,
     "memory": null
    }
   },
   "dashboards": [],
   "environmentMetadata": {
    "base_environment": "",
    "environment_version": "2"
   },
   "inputWidgetPreferences": null,
   "language": "python",
   "notebookMetadata": {
    "pythonIndentUnit": 4
   },
   "notebookName": "RAG_Evaluation_MultiplePDF",
   "widgets": {}
  },
  "kernelspec": {
   "display_name": ".venv",
   "language": "python",
   "name": "python3"
  },
  "language_info": {
   "codemirror_mode": {
    "name": "ipython",
    "version": 3
   },
   "file_extension": ".py",
   "mimetype": "text/x-python",
   "name": "python",
   "nbconvert_exporter": "python",
   "pygments_lexer": "ipython3",
   "version": "3.13.3"
  }
 },
 "nbformat": 4,
 "nbformat_minor": 4
}
